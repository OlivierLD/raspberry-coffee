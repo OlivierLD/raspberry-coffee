{
 "cells": [
  {
   "cell_type": "markdown",
   "id": "f2e02fd6",
   "metadata": {},
   "source": [
    "# PPCM & PGCD in Python"
   ]
  },
  {
   "cell_type": "markdown",
   "id": "c16a9b8c",
   "metadata": {},
   "source": [
    "Define the python functions"
   ]
  },
  {
   "cell_type": "code",
   "execution_count": 1,
   "id": "7af85112",
   "metadata": {},
   "outputs": [],
   "source": [
    "def ppcm(n1: int, n2: int) -> int:\n",
    "    product = n1 * n2\n",
    "    remainder = n1 % n2\n",
    "    while remainder != 0:\n",
    "        n1 = n2\n",
    "        n2 = remainder\n",
    "        remainder = n1 % n2\n",
    "    return product / n2"
   ]
  },
  {
   "cell_type": "code",
   "execution_count": 2,
   "id": "37d161cf",
   "metadata": {},
   "outputs": [],
   "source": [
    "def pgcd(n1: int, n2: int) -> int:\n",
    "    while n1 != n2 :\n",
    "        if n1 > n2:\n",
    "            n1 -= n2\n",
    "        else:\n",
    "            n2 -= n1\n",
    "    return n2"
   ]
  },
  {
   "cell_type": "markdown",
   "id": "ba7febf3",
   "metadata": {},
   "source": [
    "Now, execution"
   ]
  },
  {
   "cell_type": "code",
   "execution_count": 3,
   "id": "d740bd10",
   "metadata": {},
   "outputs": [
    {
     "name": "stdout",
     "output_type": "stream",
     "text": [
      "PGCD(60, 36) = 12\n",
      "PPCM(60, 36) = 180.0\n"
     ]
    }
   ],
   "source": [
    "n1: int = 60\n",
    "n2: int = 36\n",
    "print(f\"PGCD({n1}, {n2}) = {pgcd(n1, n2)}\")\n",
    "print(f\"PPCM({n1}, {n2}) = {ppcm(n1, n2)}\")"
   ]
  },
  {
   "cell_type": "code",
   "execution_count": 4,
   "id": "a8f23c09",
   "metadata": {},
   "outputs": [
    {
     "name": "stdout",
     "output_type": "stream",
     "text": [
      "PGCD(355, 113) = 1\n",
      "PPCM(355, 113) = 40115.0\n"
     ]
    }
   ],
   "source": [
    "n1 = 355\n",
    "n2 = 113\n",
    "print(f\"PGCD({n1}, {n2}) = {pgcd(n1, n2)}\")\n",
    "print(f\"PPCM({n1}, {n2}) = {ppcm(n1, n2)}\")"
   ]
  },
  {
   "cell_type": "markdown",
   "id": "ed37d5fd",
   "metadata": {},
   "source": [
    "And that's it!"
   ]
  }
 ],
 "metadata": {
  "kernelspec": {
   "display_name": "Python 3 (ipykernel)",
   "language": "python",
   "name": "python3"
  },
  "language_info": {
   "codemirror_mode": {
    "name": "ipython",
    "version": 3
   },
   "file_extension": ".py",
   "mimetype": "text/x-python",
   "name": "python",
   "nbconvert_exporter": "python",
   "pygments_lexer": "ipython3",
   "version": "3.8.2"
  }
 },
 "nbformat": 4,
 "nbformat_minor": 5
}
