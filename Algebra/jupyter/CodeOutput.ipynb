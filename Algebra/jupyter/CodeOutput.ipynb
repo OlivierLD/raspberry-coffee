{
 "cells": [
  {
   "cell_type": "markdown",
   "id": "215323d0",
   "metadata": {},
   "source": [
    "### Produce output (Markdown, Latex) from Python code"
   ]
  },
  {
   "cell_type": "code",
   "execution_count": 16,
   "id": "adeb92a2",
   "metadata": {},
   "outputs": [],
   "source": [
    "from IPython.display import display, Markdown, Latex"
   ]
  },
  {
   "cell_type": "markdown",
   "id": "1c605d6d",
   "metadata": {},
   "source": [
    "Some Markdown output"
   ]
  },
  {
   "cell_type": "code",
   "execution_count": 17,
   "id": "12b1f759",
   "metadata": {},
   "outputs": [
    {
     "data": {
      "text/markdown": [
       "**_some markdown_** $\\phi$"
      ],
      "text/plain": [
       "<IPython.core.display.Markdown object>"
      ]
     },
     "metadata": {},
     "output_type": "display_data"
    }
   ],
   "source": [
    "display(Markdown('**_some markdown_** $\\phi$'))\n",
    "# print(Markdown('**_some markdown_** $\\phi$'))"
   ]
  },
  {
   "cell_type": "markdown",
   "id": "4954b537",
   "metadata": {},
   "source": [
    "Some LaTex output"
   ]
  },
  {
   "cell_type": "code",
   "execution_count": 18,
   "id": "77964ef8",
   "metadata": {},
   "outputs": [
    {
     "data": {
      "text/latex": [
       "$ \\phi $"
      ],
      "text/plain": [
       "<IPython.core.display.Latex object>"
      ]
     },
     "metadata": {},
     "output_type": "display_data"
    },
    {
     "data": {
      "text/latex": [
       "$ \\phi $"
      ],
      "text/plain": [
       "<IPython.core.display.Latex object>"
      ]
     },
     "metadata": {},
     "output_type": "display_data"
    },
    {
     "data": {
      "text/latex": [
       "$b = \\frac{\\epsilon}{2}$"
      ],
      "text/plain": [
       "<IPython.core.display.Latex object>"
      ]
     },
     "metadata": {},
     "output_type": "display_data"
    },
    {
     "data": {
      "text/latex": [
       "$b = \\dfrac{\\epsilon}{2}$"
      ],
      "text/plain": [
       "<IPython.core.display.Latex object>"
      ]
     },
     "metadata": {},
     "output_type": "display_data"
    }
   ],
   "source": [
    "one = Latex('$ \\phi $')\n",
    "display(one)\n",
    "one = Latex(\"$ \\phi $\")\n",
    "display(one)\n",
    "latex = Latex(r'$b = \\frac{\\epsilon}{2}$')\n",
    "display(latex)\n",
    "latex = Latex(r'$b = \\dfrac{\\epsilon}{2}$')\n",
    "display(latex)"
   ]
  },
  {
   "cell_type": "code",
   "execution_count": 22,
   "id": "7b3ff3c4",
   "metadata": {},
   "outputs": [
    {
     "data": {
      "text/latex": [
       "$ Z = \\arctan\\left(\\dfrac{\\sin(AHL)}{(\\cos(L).\\tan(D)) - (\\sin(L).\\cos(AHL))}\\right) $"
      ],
      "text/plain": [
       "<IPython.core.display.Latex object>"
      ]
     },
     "metadata": {},
     "output_type": "display_data"
    }
   ],
   "source": [
    "two = Latex(r'$ Z = \\arctan\\left(\\dfrac{\\sin(AHL)}{(\\cos(L).\\tan(D)) - (\\sin(L).\\cos(AHL))}\\right) $')\n",
    "display(two)"
   ]
  },
  {
   "cell_type": "code",
   "execution_count": 21,
   "id": "6f3f4ef9",
   "metadata": {},
   "outputs": [
    {
     "data": {
      "text/latex": [
       "$ \\lambda = \\ln \\tan \\left(\\dfrac{\\pi}{4} + \\dfrac{\\phi}{2} \\right) $"
      ],
      "text/plain": [
       "<IPython.core.display.Latex object>"
      ]
     },
     "metadata": {},
     "output_type": "display_data"
    }
   ],
   "source": [
    "three = Latex(r'$ \\lambda = \\ln \\tan \\left(\\dfrac{\\pi}{4} + \\dfrac{\\phi}{2} \\right) $')\n",
    "display(three)"
   ]
  },
  {
   "cell_type": "markdown",
   "id": "98dba3ad",
   "metadata": {},
   "source": [
    "A limit... left square bracket ?"
   ]
  },
  {
   "cell_type": "code",
   "execution_count": 44,
   "id": "c9062771",
   "metadata": {},
   "outputs": [
    {
     "data": {
      "text/latex": [
       "$ \\forall x \\in \\mathbb{R}^{*}_+, \\exists ! n \\in \\mathbb{Z} / x=10^{n}.x\\', x\\' \\in \\mathbb{R} \\cap \\left[1, 10\\left[ $"
      ],
      "text/plain": [
       "<IPython.core.display.Latex object>"
      ]
     },
     "metadata": {},
     "output_type": "display_data"
    }
   ],
   "source": [
    "four = Latex(r'$ \\forall x \\in \\mathbb{R}^{*}_+, \\exists ! n \\in \\mathbb{Z} / x=10^{n}.x\\', x\\' \\in \\mathbb{R} \\cap \\left[1, 10\\left[ $')\n",
    "display(four)"
   ]
  },
  {
   "cell_type": "code",
   "execution_count": 45,
   "id": "534b163b",
   "metadata": {},
   "outputs": [
    {
     "data": {
      "text/latex": [
       "$ \\forall x \\in \\mathbb{R}^{*}_+, \\exists ! n \\in \\mathbb{Z} / n=10^{n}.x', x' in \\mathbb{R} \\cap [1, 10[ $"
      ],
      "text/plain": [
       "<IPython.core.display.Latex object>"
      ]
     },
     "metadata": {},
     "output_type": "display_data"
    }
   ],
   "source": [
    "four = Latex(r\"$ \\forall x \\in \\mathbb{R}^{*}_+, \\exists ! n \\in \\mathbb{Z} / n=10^{n}.x', x' in \\mathbb{R} \\cap [1, 10[ $\")\n",
    "display(four)"
   ]
  },
  {
   "cell_type": "code",
   "execution_count": null,
   "id": "5f24aac0",
   "metadata": {},
   "outputs": [],
   "source": []
  }
 ],
 "metadata": {
  "kernelspec": {
   "display_name": "Python 3 (ipykernel)",
   "language": "python",
   "name": "python3"
  },
  "language_info": {
   "codemirror_mode": {
    "name": "ipython",
    "version": 3
   },
   "file_extension": ".py",
   "mimetype": "text/x-python",
   "name": "python",
   "nbconvert_exporter": "python",
   "pygments_lexer": "ipython3",
   "version": "3.11.3"
  }
 },
 "nbformat": 4,
 "nbformat_minor": 5
}
