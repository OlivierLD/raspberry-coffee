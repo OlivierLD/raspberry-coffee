{
 "cells": [
  {
   "cell_type": "markdown",
   "id": "215323d0",
   "metadata": {},
   "source": [
    "### Produce output from code"
   ]
  },
  {
   "cell_type": "code",
   "execution_count": 14,
   "id": "adeb92a2",
   "metadata": {},
   "outputs": [],
   "source": [
    "from IPython.display import display, Markdown, Latex"
   ]
  },
  {
   "cell_type": "markdown",
   "id": "1c605d6d",
   "metadata": {},
   "source": [
    "Some Markdown output"
   ]
  },
  {
   "cell_type": "code",
   "execution_count": 15,
   "id": "12b1f759",
   "metadata": {},
   "outputs": [
    {
     "data": {
      "text/markdown": [
       "**_some markdown_** $\\phi$"
      ],
      "text/plain": [
       "<IPython.core.display.Markdown object>"
      ]
     },
     "metadata": {},
     "output_type": "display_data"
    }
   ],
   "source": [
    "display(Markdown('**_some markdown_** $\\phi$'))"
   ]
  },
  {
   "cell_type": "markdown",
   "id": "4954b537",
   "metadata": {},
   "source": [
    "Some LaTex output"
   ]
  },
  {
   "cell_type": "code",
   "execution_count": 16,
   "id": "77964ef8",
   "metadata": {},
   "outputs": [
    {
     "data": {
      "text/latex": [
       "$ \\phi $"
      ],
      "text/plain": [
       "<IPython.core.display.Latex object>"
      ]
     },
     "metadata": {},
     "output_type": "display_data"
    },
    {
     "data": {
      "text/latex": [
       "$b = \\frac{\\epsilon}{2}$"
      ],
      "text/plain": [
       "<IPython.core.display.Latex object>"
      ]
     },
     "metadata": {},
     "output_type": "display_data"
    }
   ],
   "source": [
    "one = Latex('$ \\phi $')\n",
    "display(one)\n",
    "latex = Latex(r'$b = \\frac{\\epsilon}{2}$')\n",
    "display(latex)"
   ]
  }
 ],
 "metadata": {
  "kernelspec": {
   "display_name": "Python 3 (ipykernel)",
   "language": "python",
   "name": "python3"
  },
  "language_info": {
   "codemirror_mode": {
    "name": "ipython",
    "version": 3
   },
   "file_extension": ".py",
   "mimetype": "text/x-python",
   "name": "python",
   "nbconvert_exporter": "python",
   "pygments_lexer": "ipython3",
   "version": "3.9.6"
  }
 },
 "nbformat": 4,
 "nbformat_minor": 5
}
