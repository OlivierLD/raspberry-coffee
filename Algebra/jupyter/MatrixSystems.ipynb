{
 "cells": [
  {
   "cell_type": "markdown",
   "metadata": {},
   "source": [
    "## Matrix, Systems, in Java\n",
    "### How to use the code\n",
    "\n",
    "Adding the `jar` to the Classpath"
   ]
  },
  {
   "cell_type": "code",
   "execution_count": 1,
   "metadata": {},
   "outputs": [],
   "source": [
    "%classpath add jar \"../build/libs/Algebra-1.0-all.jar\""
   ]
  },
  {
   "cell_type": "code",
   "execution_count": 2,
   "metadata": {},
   "outputs": [],
   "source": [
    "import java.text.DecimalFormat;\n",
    "\n",
    "import matrix.SquareMatrix;\n",
    "import matrix.MatrixUtil;\n",
    "import matrix.SystemUtil;\n",
    "import matrix.PolynomialUtil;"
   ]
  },
  {
   "cell_type": "markdown",
   "metadata": {},
   "source": [
    "#### Square Matrix"
   ]
  },
  {
   "cell_type": "code",
   "execution_count": 3,
   "metadata": {},
   "outputs": [],
   "source": [
    "SquareMatrix squareMatrix = new SquareMatrix(3);"
   ]
  },
  {
   "cell_type": "markdown",
   "metadata": {},
   "source": [
    "Resolution of:\n",
    "```\n",
    "12x    +  13y +    14z = 234\n",
    "1.345x - 654y + 0.001z = 98.87\n",
    "23.09x + 5.3y - 12.34z = 9.876\n",
    "```            \n",
    "\n",
    "Latex test:\n",
    "$$\n",
    "\\left\\lbrace \\begin{array}{l}\n",
    "\\mathrm{12x    +  13y +    14z = 234}\\\\\n",
    "\\mathrm{1.345x - 654y + 0.001z = 98.87}\\\\\n",
    "\\mathrm{23.09x + 5.3y - 12.34z = 9.876}\n",
    "\\end{array}\\right.\n",
    "$$\n",
    "\n",
    "\n",
    "#### Now populating the matrix"
   ]
  },
  {
   "cell_type": "code",
   "execution_count": 4,
   "metadata": {},
   "outputs": [],
   "source": [
    "squareMatrix.setElementAt(0, 0, 12);\n",
    "squareMatrix.setElementAt(0, 1, 13);\n",
    "squareMatrix.setElementAt(0, 2, 14);\n",
    "\n",
    "squareMatrix.setElementAt(1, 0, 1.345);\n",
    "squareMatrix.setElementAt(1, 1, -654);\n",
    "squareMatrix.setElementAt(1, 2, 0.001);\n",
    "\n",
    "squareMatrix.setElementAt(2, 0, 23.09);\n",
    "squareMatrix.setElementAt(2, 1, 5.3);\n",
    "squareMatrix.setElementAt(2, 2, -12.34);\n",
    "\n",
    "double[] constants = new double[]{234, 98.87, 9.876};"
   ]
  },
  {
   "cell_type": "markdown",
   "metadata": {},
   "source": [
    "#### Print out"
   ]
  },
  {
   "cell_type": "code",
   "execution_count": 5,
   "metadata": {},
   "outputs": [
    {
     "name": "stdout",
     "output_type": "stream",
     "text": [
      "Matrix Determinant: 308572.160470\n",
      "Solving:\n",
      "(12.000000 x A) + (13.000000 x B) + (14.000000 x C) = 234.000000\n",
      "(1.345000 x A) + (-654.000000 x B) + (0.001000 x C) = 98.870000\n",
      "(23.090000 x A) + (5.300000 x B) + (-12.340000 x C) = 9.876000\n"
     ]
    }
   ],
   "source": [
    "System.out.println(String.format(\"Matrix Determinant: %f\", MatrixUtil.determinant(squareMatrix)));\n",
    "\n",
    "System.out.println(\"Solving:\");\n",
    "SystemUtil.printSystem(squareMatrix, constants);"
   ]
  },
  {
   "cell_type": "markdown",
   "metadata": {},
   "source": [
    "#### Solving the system"
   ]
  },
  {
   "cell_type": "code",
   "execution_count": 6,
   "metadata": {},
   "outputs": [],
   "source": [
    "long before = System.nanoTime();\n",
    "double[] result = SystemUtil.solveSystem(squareMatrix, constants);\n",
    "long after = System.nanoTime();"
   ]
  },
  {
   "cell_type": "markdown",
   "metadata": {},
   "source": [
    "#### Print result"
   ]
  },
  {
   "cell_type": "code",
   "execution_count": 7,
   "metadata": {},
   "outputs": [
    {
     "name": "stdout",
     "output_type": "stream",
     "text": [
      "\n",
      "Done is 14,270,481 nano sec.\n",
      "A = 6.488222\n",
      "B = -0.137817\n",
      "C = 11.280925\n",
      "\n"
     ]
    }
   ],
   "source": [
    "System.out.println(String.format(\"\\nDone is %s nano sec.\", DecimalFormat.getInstance().format(after - before)));\n",
    "\n",
    "System.out.println(String.format(\"A = %f\", result[0]));\n",
    "System.out.println(String.format(\"B = %f\", result[1]));\n",
    "System.out.println(String.format(\"C = %f\", result[2]));\n",
    "System.out.println();"
   ]
  },
  {
   "cell_type": "markdown",
   "metadata": {},
   "source": [
    "#### Proof"
   ]
  },
  {
   "cell_type": "code",
   "execution_count": 8,
   "metadata": {},
   "outputs": [
    {
     "name": "stdout",
     "output_type": "stream",
     "text": [
      "We should see below the value of the Column matrix\n",
      "X: 234.000000\n",
      "Y: 98.870000\n",
      "Z: 9.876000\n"
     ]
    }
   ],
   "source": [
    "// Proof:\n",
    "System.out.println(\"We should see below the value of the Column matrix\");\n",
    "\n",
    "double X = (squareMatrix.getElementAt(0, 0) * result[0]) + (squareMatrix.getElementAt(0, 1) * result[1]) + (squareMatrix.getElementAt(0, 2) * result[2]);\n",
    "System.out.println(String.format(\"X: %f\", X));\n",
    "double Y = (squareMatrix.getElementAt(1, 0) * result[0]) + (squareMatrix.getElementAt(1, 1) * result[1]) + (squareMatrix.getElementAt(1, 2) * result[2]);\n",
    "System.out.println(String.format(\"Y: %f\", Y));\n",
    "double Z = (squareMatrix.getElementAt(2, 0) * result[0]) + (squareMatrix.getElementAt(2, 1) * result[1]) + (squareMatrix.getElementAt(2, 2) * result[2]);\n",
    "System.out.println(String.format(\"Z: %f\", Z));"
   ]
  },
  {
   "cell_type": "markdown",
   "metadata": {},
   "source": [
    "#### With another constructor"
   ]
  },
  {
   "cell_type": "code",
   "execution_count": 9,
   "metadata": {},
   "outputs": [
    {
     "name": "stdout",
     "output_type": "stream",
     "text": [
      "--- With one-line SquareMatrix constructor---\n",
      "Solving:\n",
      "(12.000000 x A) + (13.000000 x B) + (14.000000 x C) = 234.000000\n",
      "(1.345000 x A) + (-654.000000 x B) + (0.001000 x C) = 98.870000\n",
      "(23.090000 x A) + (5.300000 x B) + (-12.340000 x C) = 9.876000\n",
      "\n",
      "Done in 19,849,808 Ås (nano-sec).\n",
      "A = 6.488222\n",
      "B = -0.137817\n",
      "C = 11.280925\n"
     ]
    }
   ],
   "source": [
    "System.out.println(\"--- With one-line SquareMatrix constructor---\");\n",
    "\n",
    "// Using another SquareMatrix constructor\n",
    "squareMatrix = new SquareMatrix(3, 12, 13, 14, 1.345, -654, 0.001, 23.09, 5.3, -12.34);\n",
    "System.out.println(\"Solving:\");\n",
    "SystemUtil.printSystem(squareMatrix, constants);\n",
    "\n",
    "before = System.nanoTime();\n",
    "result = SystemUtil.solveSystem(squareMatrix, constants);\n",
    "after = System.nanoTime();\n",
    "System.out.println(String.format(\"\\nDone in %s \\u212bs (nano-sec).\", DecimalFormat.getInstance().format(after - before)));\n",
    "\n",
    "System.out.println(String.format(\"A = %f\", result[0]));\n",
    "System.out.println(String.format(\"B = %f\", result[1]));\n",
    "System.out.println(String.format(\"C = %f\", result[2]));"
   ]
  },
  {
   "cell_type": "markdown",
   "metadata": {},
   "source": [
    "#### Derivative, and roots"
   ]
  },
  {
   "cell_type": "code",
   "execution_count": 10,
   "metadata": {},
   "outputs": [
    {
     "name": "stdout",
     "output_type": "stream",
     "text": [
      "Primitive coeffs:\n",
      "3.000000 2.000000 1.000000 6.000000 \n",
      "Derivative coeffs:\n",
      "9.000000 4.000000 1.000000 \n",
      "\n",
      "y = -6.000000 * x^2 +4.000000 * x +3.000000  \n",
      "for f(x) = -6.000000 * x^2 +4.000000 * x +3.000000, x=3.400000, f(x)=-52.760000\n",
      "roots:\n",
      "\t+1.115069, f(x) = 0.000000\n",
      "\t-0.448403, f(x) = -0.000000\n"
     ]
    }
   ],
   "source": [
    "// Test derivative\n",
    "double[] primitive = new double[]{3d, 2d, 1d, 6d};\n",
    "System.out.println(\"Primitive coeffs:\");\n",
    "Arrays.stream(primitive).forEach(c -> System.out.print(String.format(\"%f \", c)));\n",
    "System.out.println();\n",
    "\n",
    "double[] der = PolynomialUtil.derivative(primitive);\n",
    "System.out.println(\"Derivative coeffs:\");\n",
    "Arrays.stream(der).forEach(c -> System.out.print(String.format(\"%f \", c)));\n",
    "System.out.println();\n",
    "\n",
    "System.out.println();\n",
    "// Function y = f(x)\n",
    "double[] coeff = new double[]{-6, 4, 3};\n",
    "System.out.println(SystemUtil.funcToString(\"y\", coeff));\n",
    "double x = 3.4;\n",
    "System.out.println(String.format(\"for %s, x=%f, f(x)=%f\", SystemUtil.funcToString(\"f(x)\", coeff).trim(), x, PolynomialUtil.f(coeff, x)));\n",
    "List<Double> roots = PolynomialUtil.getPolynomialRoots(PolynomialUtil.reduce(coeff));\n",
    "if (roots.size() == 0) {\n",
    "    System.out.println(\"no root\");\n",
    "} else {\n",
    "    System.out.println(\"roots:\");\n",
    "    for (double r : roots) {\n",
    "        System.out.println(String.format(\"\\t%+f, f(x) = %f\", r, PolynomialUtil.f(coeff, r)));\n",
    "    }\n",
    "}"
   ]
  },
  {
   "cell_type": "markdown",
   "metadata": {},
   "source": [
    "#### Minimal distances"
   ]
  },
  {
   "cell_type": "code",
   "execution_count": 11,
   "metadata": {},
   "outputs": [
    {
     "name": "stdout",
     "output_type": "stream",
     "text": [
      "Minimal distance:\n",
      "For curve: (-1 * x^3) + (+0 * x^2) + (+6 * x) + (+10) \n",
      "Resolving: (+6 * x^5) + (+0 * x^4) + (-48 * x^3) + (-42 * x^2) + (+74 * x) + (+84) \n",
      "roots:\n",
      "\t+2.892673, f(x) = 3.151428, dist=2.896634\n",
      "\t+1.427444, f(x) = 15.656109, dist=12.736353\n",
      "\t-1.299938, f(x) = 4.397058, dist=1.908300\n",
      "\n",
      ">> minDistanceToCurve, resolving (+6 * x^5) + (+0 * x^4) + (-48 * x^3) + (-42 * x^2) + (+74 * x) + (+84) \n",
      "Minimal distance from (0, 3) to curve (-1 * x^3) + (+0 * x^2) + (+6 * x) + (+10)  is 1.908300\n"
     ]
    }
   ],
   "source": [
    "// Minimal distance between point and curve\n",
    "System.out.println(\"Minimal distance:\");\n",
    "double[] curve = new double[]{-1, 0, 6, 10};\n",
    "PolynomialUtil.Point pt = new PolynomialUtil.Point().x(0).y(3);\n",
    "// distance pt - curve = distance between (x, f(x)) and (0, 3)\n",
    "// = (deltaX^2 + deltaY^2)^(1/2)\n",
    "//<=> distance^2 = (deltaX^2 + deltaY^2)\n",
    "// = (x - ptX)^2 + (f(x) - ptY)^2\n",
    "// Derivative: [2*(x-ptX)] + [2*(f(x) - ptY)*(f'(x))]\n",
    "//              |             |  |            |\n",
    "//              |             |  |            Part 2-2\n",
    "//              |             |  Part 2-1\n",
    "//              |             Part 2\n",
    "//              Part 1\n",
    "// Minimal distance is the smallest of the roots of the derivative above.\n",
    "// Needed: polynomial addition, multiplication\n",
    "\n",
    "double[] part1 = PolynomialUtil.multiply(new double[]{1, -pt.getX()}, new double[]{2});\n",
    "\n",
    "double[] part21 = PolynomialUtil.add(curve, new double[]{-pt.getY()});\n",
    "double[] part22 = PolynomialUtil.derivative(curve);\n",
    "double[] part2 = PolynomialUtil.multiply(PolynomialUtil.multiply(part21, part22), new double[]{2});\n",
    "double[] full = PolynomialUtil.add(part1, part2);\n",
    "\n",
    "System.out.println(\"For curve: \" + PolynomialUtil.display(curve));\n",
    "System.out.println(\"Resolving: \" + PolynomialUtil.display(full));\n",
    "List<Double> polynomialRoots = PolynomialUtil.getPolynomialRoots(PolynomialUtil.reduce(full));\n",
    "if (polynomialRoots.size() == 0) {\n",
    "    System.out.println(\"no root\");\n",
    "} else {\n",
    "    System.out.println(\"roots:\");\n",
    "    for (double r : polynomialRoots) {\n",
    "        System.out.println(String.format(\"\\t%+f, f(x) = %f, dist=%f\", r, PolynomialUtil.f(curve, r), PolynomialUtil.dist(curve, r, pt)));\n",
    "    }\n",
    "}\n",
    "// Min dist from one pt to curve\n",
    "System.out.println();\n",
    "System.setProperty(\"system.verbose\", \"true\");\n",
    "double minDist = SystemUtil.minDistanceToCurve(curve, pt);\n",
    "System.out.println(String.format(\"Minimal distance from %s to curve %s is %f\", SystemUtil.formatPoint(pt), PolynomialUtil.display(curve), minDist));\n"
   ]
  },
  {
   "cell_type": "markdown",
   "metadata": {},
   "source": [
    "---"
   ]
  },
  {
   "cell_type": "code",
   "execution_count": null,
   "metadata": {},
   "outputs": [],
   "source": []
  }
 ],
 "metadata": {
  "kernelspec": {
   "display_name": "Java",
   "language": "java",
   "name": "java"
  },
  "language_info": {
   "codemirror_mode": "java",
   "file_extension": ".jshell",
   "mimetype": "text/x-java-source",
   "name": "Java",
   "pygments_lexer": "java",
   "version": "11.0.8+10-LTS"
  }
 },
 "nbformat": 4,
 "nbformat_minor": 4
}
