{
 "cells": [
  {
   "cell_type": "markdown",
   "metadata": {},
   "source": [
    "# Various vector utilities, all in Java, with Graphics\n",
    "\n",
    "First, set the classpath with the right jar. This `jar` contains the statistical functions, system resolution and other linear algebra features, as well as the graphic library we use to display the curves.\n",
    "\n",
    "This jar is built from the root of this repository, using the following command:\n",
    "```\n",
    "$ ./gradlew shadowJar [--parallel]\n",
    "```"
   ]
  },
  {
   "cell_type": "code",
   "execution_count": 1,
   "metadata": {},
   "outputs": [],
   "source": [
    "%classpath add jar \"../build/libs/Algebra-1.0-all.jar\""
   ]
  },
  {
   "cell_type": "code",
   "execution_count": 2,
   "metadata": {},
   "outputs": [],
   "source": [
    "// Verify if the classpath above is taken in account\n",
    "import gsg.SwingUtils.WhiteBoardPanel;\n",
    "import gsg.VectorUtils;\n",
    "import gsg.VectorUtils.Vector2D;\n",
    "import java.util.List;\n",
    "import java.awt.Color;\n",
    "import java.awt.Dimension;"
   ]
  },
  {
   "cell_type": "code",
   "execution_count": 3,
   "metadata": {},
   "outputs": [],
   "source": [
    "String TITLE = \"Vector Utilities samples\";"
   ]
  },
  {
   "cell_type": "markdown",
   "metadata": {},
   "source": [
    "Where we are, for info:"
   ]
  },
  {
   "cell_type": "code",
   "execution_count": 4,
   "metadata": {},
   "outputs": [
    {
     "name": "stdout",
     "output_type": "stream",
     "text": [
      "Running from folder /Users/olivierlediouris/repos/raspberry-coffee/Algebra/jupyter\n",
      "Java version 11.0.8\n"
     ]
    }
   ],
   "source": [
    "System.out.println(String.format(\"Running from folder %s\", System.getProperty(\"user.dir\")));\n",
    "System.out.println(String.format(\"Java version %s\", System.getProperty(\"java.version\")));"
   ]
  },
  {
   "cell_type": "markdown",
   "metadata": {},
   "source": [
    "Now create a white board, with several non-default options"
   ]
  },
  {
   "cell_type": "code",
   "execution_count": 5,
   "metadata": {},
   "outputs": [
    {
     "ename": "CompilationException",
     "evalue": "",
     "output_type": "error",
     "traceback": [
      "\u001b[1m\u001b[30m|   \u001b[1m\u001b[30mwhiteBoard.setTitleFont(new \u001b[0m\u001b[1m\u001b[30m\u001b[41mFont\u001b[0m\u001b[1m\u001b[30m(\"Arial\", /*Font.BOLD |*/ Font.ITALIC, 20));\u001b[0m",
      "\u001b[1m\u001b[31mcannot find symbol\u001b[0m",
      "\u001b[1m\u001b[31m  symbol:   class Font\u001b[0m",
      "",
      "\u001b[1m\u001b[30m|   \u001b[1m\u001b[30mwhiteBoard.setTitleFont(new Font(\"Arial\", /*Font.BOLD |*/ \u001b[0m\u001b[1m\u001b[30m\u001b[41mFont\u001b[0m\u001b[1m\u001b[30m.ITALIC, 20));\u001b[0m",
      "\u001b[1m\u001b[31mcannot find symbol\u001b[0m",
      "\u001b[1m\u001b[31m  symbol:   variable Font\u001b[0m",
      ""
     ]
    }
   ],
   "source": [
    "WhiteBoardPanel whiteBoard = new WhiteBoardPanel();\n",
    "whiteBoard.setAxisColor(new Color(125, 0, 255, 255));\n",
    "whiteBoard.setWithGrid(true);\n",
    "whiteBoard.setBgColor(new Color(250, 250, 250, 255));\n",
    "whiteBoard.setGraphicTitle(TITLE);\n",
    "whiteBoard.setSize(new Dimension(800, 600));\n",
    "whiteBoard.setTextColor(Color.GRAY);\n",
    "whiteBoard.setTitleFont(new Font(\"Arial\", /*Font.BOLD |*/ Font.ITALIC, 20));\n",
    "whiteBoard.setGraphicMargins(30);\n",
    "\n",
    "if (true) { // Flip at will\n",
    "    whiteBoard.setXEqualsY(true);\n",
    "    // Enforce Y amplitude\n",
    "    whiteBoard.setForcedMinY(-12d);\n",
    "    whiteBoard.setForcedMaxY(12d);\n",
    "    // Force axis positions\n",
    "    whiteBoard.setEnforceXAxisAt(0d);\n",
    "    whiteBoard.setEnforceYAxisAt(0d);\n",
    "}\n",
    "//\n"
   ]
  },
  {
   "cell_type": "markdown",
   "metadata": {},
   "source": [
    "### Create Vectors\n",
    "For dot products and others."
   ]
  },
  {
   "cell_type": "code",
   "execution_count": 6,
   "metadata": {},
   "outputs": [
    {
     "name": "stdout",
     "output_type": "stream",
     "text": [
      "Cosine: 0.9701425001453319\n"
     ]
    },
    {
     "data": {
      "text/plain": [
       "java.io.PrintStream@38dc4a7e"
      ]
     },
     "execution_count": 6,
     "metadata": {},
     "output_type": "execute_result"
    }
   ],
   "source": [
    "Vector2D query = new Vector2D().x(1).y(1);\n",
    "Vector2D doc1 = new Vector2D().x(3).y(5);\n",
    "double cosine = VectorUtils.dot(query, doc1) / (VectorUtils.length(query) * VectorUtils.length(doc1));\n",
    "System.out.printf(\"Cosine: %.016f\\n\", cosine);"
   ]
  },
  {
   "cell_type": "code",
   "execution_count": 7,
   "metadata": {},
   "outputs": [
    {
     "name": "stdout",
     "output_type": "stream",
     "text": [
      "Orthogonal dot product (equals to 0): 0.000000\n",
      "Convergent dot product (greater than 0): 2.000000\n",
      "Divergent dot product (lower than 0): -1.100000\n"
     ]
    },
    {
     "data": {
      "text/plain": [
       "java.io.PrintStream@38dc4a7e"
      ]
     },
     "execution_count": 7,
     "metadata": {},
     "output_type": "execute_result"
    }
   ],
   "source": [
    "Vector2D one = new Vector2D(1, 1);\n",
    "Vector2D two = new Vector2D(-1, 1);\n",
    "System.out.printf(\"Orthogonal dot product (equals to 0): %f\\n\", VectorUtils.dot(one, two));\n",
    "two =  new Vector2D(1.1, 0.9);\n",
    "System.out.printf(\"Convergent dot product (greater than 0): %f\\n\", VectorUtils.dot(one, two));\n",
    "two =  new Vector2D(-1.1, 0.0);\n",
    "System.out.printf(\"Divergent dot product (lower than 0): %f\\n\", VectorUtils.dot(one, two));"
   ]
  },
  {
   "cell_type": "markdown",
   "metadata": {},
   "source": [
    "### Set data in the WhiteBoard, and display."
   ]
  },
  {
   "cell_type": "code",
   "execution_count": 8,
   "metadata": {},
   "outputs": [
    {
     "name": "stderr",
     "output_type": "stream",
     "text": [
      "Warning: the fonts \"Times\" and \"Times\" are not available for the Java logical font \"Serif\", which may have unexpected appearance or behavior. Re-enable the \"Times\" font to remove this warning.\n"
     ]
    },
    {
     "name": "stdout",
     "output_type": "stream",
     "text": [
      "With label Vector X, going Up\n",
      "With label Going down, going Down\n",
      "With label Free electron, going Down\n"
     ]
    },
    {
     "data": {
      "image/png": "[encoded data removed]",
      "text/plain": [
       "BufferedImage@26e26c52: type = 1 DirectColorModel: rmask=ff0000 gmask=ff00 bmask=ff amask=0 IntegerInterleavedRaster: width = 800 height = 600 #Bands = 3 xOff = 0 yOff = 0 dataOffset[0] 0"
      ]
     },
     "execution_count": 8,
     "metadata": {},
     "output_type": "execute_result"
    }
   ],
   "source": [
    "whiteBoard.addVectorSerie(new WhiteBoardPanel.VectorSerie(new VectorUtils.Vector2D(0, 0), new VectorUtils.Vector2D(10, 10), Color.RED, \"Vector X\"));\n",
    "whiteBoard.addVectorSerie(new WhiteBoardPanel.VectorSerie(new VectorUtils.Vector2D(0, 0), new VectorUtils.Vector2D(-10, 10), Color.RED));\n",
    "whiteBoard.addVectorSerie(new WhiteBoardPanel.VectorSerie(new VectorUtils.Vector2D(0, 0), new VectorUtils.Vector2D(-5, 7.5), Color.DARK_GRAY));\n",
    "whiteBoard.addVectorSerie(new WhiteBoardPanel.VectorSerie(new VectorUtils.Vector2D(0, 0), new VectorUtils.Vector2D(1, -7.5), Color.MAGENTA, \"Going down\"));\n",
    "\n",
    "// Free electron...\n",
    "whiteBoard.addVectorSerie(new WhiteBoardPanel.VectorSerie(new VectorUtils.Vector2D(5, 2), new VectorUtils.Vector2D(11, 1), Color.BLUE, \"Free electron\"));\n",
    "\n",
    "// And this is the display (for a notebook)\n",
    "whiteBoard.getImage();"
   ]
  },
  {
   "cell_type": "markdown",
   "metadata": {},
   "source": [
    "---"
   ]
  }
 ],
 "metadata": {
  "kernelspec": {
   "display_name": "Java",
   "language": "java",
   "name": "java"
  },
  "language_info": {
   "codemirror_mode": "java",
   "file_extension": ".jshell",
   "mimetype": "text/x-java-source",
   "name": "Java",
   "pygments_lexer": "java",
   "version": "11.0.8+10-LTS"
  }
 },
 "nbformat": 4,
 "nbformat_minor": 4
}
