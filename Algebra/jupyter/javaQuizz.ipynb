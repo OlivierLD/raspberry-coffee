{
 "cells": [
  {
   "cell_type": "markdown",
   "metadata": {},
   "source": [
    "# Java Quizz!\n",
    "\n",
    "#### _Subject_: Lists and Streams\n",
    "\n",
    "> _Note:_ This is a duplicate of a notebook from another module, but with Graphics! ... make sure it is in sync.\n",
    "\n",
    "First, set the classpath with the right jar. This `jar` contains the statistical functions, system resolution and other linear algebra features, as well as the graphic library we use to display the curves.\n",
    "\n",
    "This jar is built from the root of this repository, using the following command:\n",
    "```\n",
    "$ ./gradlew shadowJar --parallel\n",
    "```"
   ]
  },
  {
   "cell_type": "markdown",
   "metadata": {},
   "source": [
    "We add the required jar to the classpath:"
   ]
  },
  {
   "cell_type": "code",
   "execution_count": 83,
   "metadata": {},
   "outputs": [],
   "source": [
    "%classpath add jar \"../build/libs/Algebra-1.0-all.jar\""
   ]
  },
  {
   "cell_type": "code",
   "execution_count": 84,
   "metadata": {},
   "outputs": [],
   "source": [
    "import java.text.NumberFormat;\n",
    "import java.util.stream.Collectors;\n",
    "import java.util.stream.DoubleStream;\n",
    "\n",
    "import gsg.SwingUtils.WhiteBoardPanel;\n",
    "import gsg.VectorUtils;\n",
    "import java.awt.*;\n",
    "import java.util.ArrayList;\n",
    "import java.util.List;"
   ]
  },
  {
   "cell_type": "code",
   "execution_count": 85,
   "metadata": {},
   "outputs": [
    {
     "data": {
      "text/plain": [
       "true"
      ]
     },
     "execution_count": 85,
     "metadata": {},
     "output_type": "execute_result"
    }
   ],
   "source": [
    "// System.setProperty(\"swing.verbose\", \"false\");"
   ]
  },
  {
   "cell_type": "markdown",
   "metadata": {},
   "source": [
    "We will create a cloud of points in a 2D space.  \n",
    "Below is the bean describing a Point."
   ]
  },
  {
   "cell_type": "code",
   "execution_count": 86,
   "metadata": {},
   "outputs": [],
   "source": [
    "String TITLE = \"Lists & Streams\";"
   ]
  },
  {
   "cell_type": "code",
   "execution_count": 87,
   "metadata": {},
   "outputs": [],
   "source": [
    "public static class Point {\n",
    "  double x;\n",
    "  double y;\n",
    "\n",
    "  public Point() {}\n",
    "  public Point(double x, double y) {\n",
    "     this.x = x;\n",
    "     this.y = y;\n",
    "  }\n",
    "\n",
    "  public Point x(double x) {\n",
    "     this.x = x;\n",
    "     return this;\n",
    "  }\n",
    "  public Point y(double y) {\n",
    "     this.y = y;\n",
    "     return this;\n",
    "  }\n",
    "\n",
    "  public double getX() {\n",
    "     return this.x;\n",
    "  }\n",
    "  public double getY() {\n",
    "     return this.y;\n",
    "  }\n",
    "    \n",
    "  @Override\n",
    "  public String toString() {\n",
    "     return String.format(\"x:%f, y:%f\", this.x, this.y);\n",
    "  }  \n",
    "}"
   ]
  },
  {
   "cell_type": "markdown",
   "metadata": {},
   "source": [
    "We define the dimensions of the plan the points will live in, and the number of points to deal with."
   ]
  },
  {
   "cell_type": "code",
   "execution_count": 88,
   "metadata": {},
   "outputs": [],
   "source": [
    "private final static int WIDTH = 100;\n",
    "private final static int HEIGHT = 100;\n",
    "private final static int CARDINALITY = 10_000;"
   ]
  },
  {
   "cell_type": "markdown",
   "metadata": {},
   "source": [
    "## First, we populate a List of Points with random values\n",
    "`x` &isin; `[-50, 50]`  \n",
    "`y` &isin; `[-50, 50]`"
   ]
  },
  {
   "cell_type": "code",
   "execution_count": 89,
   "metadata": {},
   "outputs": [],
   "source": [
    "List<Point> pointList = new ArrayList<>();\n",
    "\n",
    "// double xAttraction = 0.25d;  // [-1, +1]\n",
    "// double yAttraction = -0.1d;  // [-1, +1]\n",
    "\n",
    "while (pointList.size() < CARDINALITY) {\n",
    "    \n",
    "    double xRnd = Math.random();\n",
    "    double yRnd = Math.random();\n",
    "   \n",
    "    // xRnd = (xRnd + xAttraction) / (1 + xAttraction);\n",
    "    // yRnd = (yRnd + yAttraction) / (1 + yAttraction);\n",
    "    \n",
    "    double moreNoiseX = Math.random(); \n",
    "    double moreNoiseY = Math.random(); \n",
    "\n",
    "    // The way to apply noise can be almost anything. Feel free to be inventive! \n",
    "    double x = (WIDTH * (xRnd + moreNoiseX) * moreNoiseX)  - (WIDTH / 2);\n",
    "    double y = (HEIGHT * (yRnd + moreNoiseY) * moreNoiseY) - (HEIGHT / 2);    \n",
    "   \n",
    "    // (0.5 + 0.2) / (1 + 0.2)\n",
    "    \n",
    "    pointList.add(new Point(x, y));\n",
    "}"
   ]
  },
  {
   "cell_type": "markdown",
   "metadata": {},
   "source": [
    "Now, we instantiate the class for graphical display."
   ]
  },
  {
   "cell_type": "code",
   "execution_count": 90,
   "metadata": {},
   "outputs": [],
   "source": [
    "WhiteBoardPanel whiteBoard = new WhiteBoardPanel();\n",
    "whiteBoard.setAxisColor(new Color(125, 0, 255, 255));\n",
    "whiteBoard.setWithGrid(false);\n",
    "whiteBoard.setBgColor(new Color(250, 250, 250, 255));\n",
    "whiteBoard.setGraphicTitle(\"Original Data\");\n",
    "whiteBoard.setSize(new Dimension(800, 600));\n",
    "whiteBoard.setTextColor(Color.RED);\n",
    "whiteBoard.setFont(new Font(\"Courier\", Font.PLAIN, 14));\n",
    "whiteBoard.setTitleFont(new Font(\"Courier\", Font.BOLD | Font.ITALIC, 32));\n",
    "whiteBoard.setGraphicMargins(30);"
   ]
  },
  {
   "cell_type": "markdown",
   "metadata": {},
   "source": [
    "Prepare data for display:"
   ]
  },
  {
   "cell_type": "code",
   "execution_count": 91,
   "metadata": {},
   "outputs": [],
   "source": [
    "// Prepare data for display\n",
    "double[] xData = pointList.stream()\n",
    "        .mapToDouble(Point::getX)\n",
    "        .toArray();\n",
    "double[] yData = pointList.stream()\n",
    "        .mapToDouble(Point::getY)\n",
    "        .toArray();\n",
    "List<VectorUtils.Vector2D> dataVectors = new ArrayList<>();\n",
    "for (int i=0; i<xData.length; i++) {\n",
    "    dataVectors.add(new VectorUtils.Vector2D(xData[i], yData[i]));\n",
    "}\n",
    "\n",
    "whiteBoard.setAxisColor(Color.BLACK);\n",
    "whiteBoard.resetAllData();"
   ]
  },
  {
   "cell_type": "markdown",
   "metadata": {},
   "source": [
    "Display raw data"
   ]
  },
  {
   "cell_type": "code",
   "execution_count": 92,
   "metadata": {},
   "outputs": [
    {
     "name": "stdout",
     "output_type": "stream",
     "text": [
      "One Unit: 2.739864 (from X:3.749237, Y:2.739864)\n",
      "219 vertical ticks, 292 horizontal ticks.\n",
      "tickIncrement: 10 (from 10, 7)\n",
      "x0: 30.000000 (minX: -49.998746), y0: 570.000000 (minY: -49.999870)\n",
      "-----------------------------------------------------\n",
      "HxW: 600 x 800\n",
      ">> Working Rectangle: x:30, y:30, w:541, h:-540\n",
      "-----------------------------------------------------\n"
     ]
    },
    {
     "data": {
      "image/png": "[encoded data removed]",
      "text/plain": [
       "BufferedImage@353cabc5: type = 1 DirectColorModel: rmask=ff0000 gmask=ff00 bmask=ff amask=0 IntegerInterleavedRaster: width = 800 height = 600 #Bands = 3 xOff = 0 yOff = 0 dataOffset[0] 0"
      ]
     },
     "execution_count": 92,
     "metadata": {},
     "output_type": "execute_result"
    }
   ],
   "source": [
    "// Raw series\n",
    "WhiteBoardPanel.DataSerie dataSerie = new WhiteBoardPanel.DataSerie()\n",
    "        .data(dataVectors)\n",
    "        .graphicType(WhiteBoardPanel.GraphicType.POINTS)\n",
    "        .circleDiam(2)\n",
    "        .color(Color.BLUE);\n",
    "whiteBoard.addSerie(dataSerie);\n",
    "\n",
    "// And this is the display\n",
    "whiteBoard.getImage();"
   ]
  },
  {
   "cell_type": "markdown",
   "metadata": {},
   "source": [
    "### _Quizz:_ How to get the min and max values, for both X and Y ?"
   ]
  },
  {
   "cell_type": "code",
   "execution_count": 93,
   "metadata": {},
   "outputs": [
    {
     "name": "stdout",
     "output_type": "stream",
     "text": [
      "On 10,000 points:\n",
      "MinX: -49.998746, MaxX: 147.374766, MinY: -49.999870, MaxY: 147.090171\n"
     ]
    },
    {
     "data": {
      "text/plain": [
       "java.io.PrintStream@5a49530f"
      ]
     },
     "execution_count": 93,
     "metadata": {},
     "output_type": "execute_result"
    }
   ],
   "source": [
    "double minX = pointList.stream()\n",
    "      .min(Comparator.comparing(Point::getX)) // Compare on that method's output (getX). Could be anything.\n",
    "      .get()\n",
    "      .getX();\n",
    "double maxX = pointList.stream()\n",
    "      .max(Comparator.comparing(Point::getX))\n",
    "      .get()\n",
    "      .getX();\n",
    "double minY = pointList.stream()\n",
    "      .min(Comparator.comparing(Point::getY))\n",
    "      .get()\n",
    "      .getY();\n",
    "double maxY = pointList.stream()\n",
    "      .max(Comparator.comparing(Point::getY))\n",
    "      .get()\n",
    "      .getY();\n",
    "\n",
    "System.out.format(\"On %s points:%n\", NumberFormat.getInstance().format(pointList.size()));\n",
    "System.out.format(\"MinX: %f, MaxX: %f, MinY: %f, MaxY: %f%n\", minX, maxX, minY, maxY);"
   ]
  },
  {
   "cell_type": "markdown",
   "metadata": {},
   "source": [
    "### _Quizz:_ How would you calculate the position of the _AVERAGE_ point in the cloud?"
   ]
  },
  {
   "cell_type": "code",
   "execution_count": 94,
   "metadata": {},
   "outputs": [
    {
     "name": "stdout",
     "output_type": "stream",
     "text": [
      "AvgX: 9.284902, AvgY: 8.143348\n"
     ]
    },
    {
     "data": {
      "text/plain": [
       "java.io.PrintStream@5a49530f"
      ]
     },
     "execution_count": 94,
     "metadata": {},
     "output_type": "execute_result"
    }
   ],
   "source": [
    "List<Double> xList = pointList.stream().mapToDouble(Point::getX).boxed().collect(Collectors.toList());\n",
    "List<Double> yList = pointList.stream().mapToDouble(Point::getY).boxed().collect(Collectors.toList());\n",
    "\n",
    "double averageX = pointList.stream()\n",
    "        .mapToDouble(Point::getX)\n",
    "        .average()\n",
    "        .getAsDouble();\n",
    "double averageY = pointList.stream()\n",
    "        .mapToDouble(Point::getY)\n",
    "        .average()\n",
    "        .getAsDouble();\n",
    "\n",
    "System.out.format(\"AvgX: %f, AvgY: %f%n\", averageX, averageY);"
   ]
  },
  {
   "cell_type": "code",
   "execution_count": 95,
   "metadata": {},
   "outputs": [
    {
     "name": "stdout",
     "output_type": "stream",
     "text": [
      "One Unit: 2.739864 (from X:3.749237, Y:2.739864)\n",
      "219 vertical ticks, 292 horizontal ticks.\n",
      "tickIncrement: 10 (from 10, 7)\n",
      "x0: 30.000000 (minX: -49.998746), y0: 570.000000 (minY: -49.999870)\n",
      "-----------------------------------------------------\n",
      "HxW: 600 x 800\n",
      ">> Working Rectangle: x:30, y:30, w:541, h:-540\n",
      "-----------------------------------------------------\n"
     ]
    },
    {
     "data": {
      "image/png": "[encoded data removed]",
      "text/plain": [
       "BufferedImage@241970fb: type = 1 DirectColorModel: rmask=ff0000 gmask=ff00 bmask=ff amask=0 IntegerInterleavedRaster: width = 800 height = 600 #Bands = 3 xOff = 0 yOff = 0 dataOffset[0] 0"
      ]
     },
     "execution_count": 95,
     "metadata": {},
     "output_type": "execute_result"
    }
   ],
   "source": [
    "List<VectorUtils.Vector2D> avgDataVectors = new ArrayList<>();\n",
    "avgDataVectors.add(new VectorUtils.Vector2D(averageX, averageY));\n",
    "\n",
    "WhiteBoardPanel.DataSerie dataSerie = new WhiteBoardPanel.DataSerie()\n",
    "        .data(avgDataVectors)\n",
    "        .graphicType(WhiteBoardPanel.GraphicType.POINTS)\n",
    "        .circleDiam(20)\n",
    "        .color(new Color(255, 0, 0, 100));\n",
    "whiteBoard.addSerie(dataSerie);\n",
    "\n",
    "whiteBoard.setGraphicTitle(\"THE average point\");\n",
    "\n",
    "// And this is the display\n",
    "whiteBoard.getImage();"
   ]
  },
  {
   "cell_type": "markdown",
   "metadata": {},
   "source": [
    "### _Quizz:_ How would you calculate the Standard Deviation?\n",
    "See what this Standard Deviation is, in case you forgot : <https://www.mathsisfun.com/data/standard-deviation.html>"
   ]
  },
  {
   "cell_type": "code",
   "execution_count": 96,
   "metadata": {},
   "outputs": [],
   "source": [
    "private static double stdDev(List<Double> list) {\n",
    "   double mean = list.stream().mapToDouble(x -> x).average().getAsDouble();\n",
    "   double variance = list.stream().mapToDouble(x -> Math.pow(x - mean, 2)).sum() / list.size();\n",
    "   double stdDev = Math.sqrt(variance);\n",
    "   return stdDev;\n",
    "}"
   ]
  },
  {
   "cell_type": "code",
   "execution_count": 97,
   "metadata": {},
   "outputs": [
    {
     "name": "stdout",
     "output_type": "stream",
     "text": [
      "Std Dev X: 47.157421, Std Dev Y: 46.755413\n"
     ]
    },
    {
     "data": {
      "text/plain": [
       "java.io.PrintStream@5a49530f"
      ]
     },
     "execution_count": 97,
     "metadata": {},
     "output_type": "execute_result"
    }
   ],
   "source": [
    "List<Double> xList = pointList.stream().mapToDouble(Point::getX).boxed().collect(Collectors.toList());\n",
    "List<Double> yList = pointList.stream().mapToDouble(Point::getY).boxed().collect(Collectors.toList());\n",
    "\n",
    "double stdDevX = stdDev(xList);\n",
    "double stdDevY = stdDev(yList);\n",
    "System.out.format(\"Std Dev X: %f, Std Dev Y: %f%n\", stdDevX, stdDevY);"
   ]
  },
  {
   "cell_type": "markdown",
   "metadata": {},
   "source": [
    "Framing the Average with StdDev: "
   ]
  },
  {
   "cell_type": "code",
   "execution_count": 98,
   "metadata": {},
   "outputs": [
    {
     "name": "stdout",
     "output_type": "stream",
     "text": [
      "Height: 100, Width: 100\n"
     ]
    },
    {
     "data": {
      "text/plain": [
       "java.io.PrintStream@5a49530f"
      ]
     },
     "execution_count": 98,
     "metadata": {},
     "output_type": "execute_result"
    }
   ],
   "source": [
    "System.out.printf(\"Height: %d, Width: %d\\n\", HEIGHT, WIDTH);"
   ]
  },
  {
   "cell_type": "code",
   "execution_count": 99,
   "metadata": {},
   "outputs": [
    {
     "name": "stdout",
     "output_type": "stream",
     "text": [
      "One Unit: 2.739864 (from X:3.749237, Y:2.739864)\n",
      "219 vertical ticks, 292 horizontal ticks.\n",
      "tickIncrement: 10 (from 10, 7)\n",
      "x0: 30.000000 (minX: -49.998746), y0: 570.000000 (minY: -49.999870)\n",
      "-----------------------------------------------------\n",
      "HxW: 600 x 800\n",
      ">> Working Rectangle: x:30, y:30, w:541, h:-540\n",
      "-----------------------------------------------------\n",
      "Serie of 2 points: x:-37.872519, y:-38.612065 => X:63, Y:539\n",
      "Serie of 2 points: x:-37.872519, y:54.898762 => X:63, Y:283\n",
      "Serie of 2 points: x:56.442323, y:-38.612065 => X:322, Y:539\n",
      "Serie of 2 points: x:56.442323, y:54.898762 => X:322, Y:283\n",
      "Serie of 2 points: x:-37.872519, y:-38.612065 => X:63, Y:539\n",
      "Serie of 2 points: x:56.442323, y:-38.612065 => X:322, Y:539\n",
      "Serie of 2 points: x:-37.872519, y:54.898762 => X:63, Y:283\n",
      "Serie of 2 points: x:56.442323, y:54.898762 => X:322, Y:283\n"
     ]
    },
    {
     "data": {
      "image/png": "[encoded data removed]",
      "text/plain": [
       "BufferedImage@6f51a9b1: type = 1 DirectColorModel: rmask=ff0000 gmask=ff00 bmask=ff amask=0 IntegerInterleavedRaster: width = 800 height = 600 #Bands = 3 xOff = 0 yOff = 0 dataOffset[0] 0"
      ]
     },
     "execution_count": 99,
     "metadata": {},
     "output_type": "execute_result"
    }
   ],
   "source": [
    "// Add stdDev, minX (left)\n",
    "List<VectorUtils.Vector2D> minXVectors = new ArrayList<>();\n",
    "double x = averageX - stdDevX;\n",
    "minXVectors.add(new VectorUtils.Vector2D(x, averageY - stdDevY)); // (HEIGHT / 2)));\n",
    "minXVectors.add(new VectorUtils.Vector2D(x, averageY + stdDevY)); // (HEIGHT / 2)));\n",
    "WhiteBoardPanel.DataSerie minXSerie = new WhiteBoardPanel.DataSerie()\n",
    "        .data(minXVectors)\n",
    "        .graphicType(WhiteBoardPanel.GraphicType.DOTTED_LINE)\n",
    "        .lineThickness(2)\n",
    "        .color(Color.RED);\n",
    "whiteBoard.addSerie(minXSerie);\n",
    "\n",
    "// Add stdDev, maxX (right)\n",
    "List<VectorUtils.Vector2D> maxXVectors = new ArrayList<>();\n",
    "x = averageX + stdDevX;\n",
    "maxXVectors.add(new VectorUtils.Vector2D(x, averageY - stdDevY)); // (HEIGHT / 2)));\n",
    "maxXVectors.add(new VectorUtils.Vector2D(x, averageY + stdDevY)); // (HEIGHT / 2)));\n",
    "WhiteBoardPanel.DataSerie maxXSerie = new WhiteBoardPanel.DataSerie()\n",
    "        .data(maxXVectors)\n",
    "        .graphicType(WhiteBoardPanel.GraphicType.DOTTED_LINE)\n",
    "        .lineThickness(2)\n",
    "        .color(Color.RED);\n",
    "whiteBoard.addSerie(maxXSerie);\n",
    "\n",
    "// Add stdDev, minY (bottom)\n",
    "List<VectorUtils.Vector2D> minYVectors = new ArrayList<>();\n",
    "double y = averageY - stdDevY;\n",
    "minYVectors.add(new VectorUtils.Vector2D(averageX - stdDevX /*(WIDTH / 2)*/, y));\n",
    "minYVectors.add(new VectorUtils.Vector2D(averageX + stdDevX /*(WIDTH / 2)*/, y));\n",
    "WhiteBoardPanel.DataSerie minYSerie = new WhiteBoardPanel.DataSerie()\n",
    "        .data(minYVectors)\n",
    "        .graphicType(WhiteBoardPanel.GraphicType.DOTTED_LINE)\n",
    "        .lineThickness(2)\n",
    "        .color(Color.RED);\n",
    "whiteBoard.addSerie(minYSerie);\n",
    "\n",
    "// Add stdDev, maxY (top)\n",
    "List<VectorUtils.Vector2D> maxYVectors = new ArrayList<>();\n",
    "y = averageY + stdDevY;\n",
    "maxYVectors.add(new VectorUtils.Vector2D(averageX - stdDevX /*(WIDTH / 2)*/, y));\n",
    "maxYVectors.add(new VectorUtils.Vector2D(averageX + stdDevX /*(WIDTH / 2)*/, y));\n",
    "WhiteBoardPanel.DataSerie maxYSerie = new WhiteBoardPanel.DataSerie()\n",
    "        .data(maxYVectors)\n",
    "        .graphicType(WhiteBoardPanel.GraphicType.DOTTED_LINE)\n",
    "        .lineThickness(2)\n",
    "        .color(Color.RED);\n",
    "whiteBoard.addSerie(maxYSerie);\n",
    "\n",
    "whiteBoard.setGraphicTitle(\"Framed by Standard Deviation\");\n",
    "\n",
    "// And this is the display\n",
    "whiteBoard.getImage();"
   ]
  },
  {
   "cell_type": "markdown",
   "metadata": {},
   "source": [
    "### _Quizz:_ Sort on X the points where X is positive, and print the first 50 values of X, in _ONE_ line of code."
   ]
  },
  {
   "cell_type": "code",
   "execution_count": 100,
   "metadata": {},
   "outputs": [
    {
     "name": "stdout",
     "output_type": "stream",
     "text": [
      "0.004564189018900322\n",
      "0.04061940098632277\n",
      "0.045192428291436215\n",
      "0.04950438323179185\n",
      "0.06710357901898334\n",
      "0.08357161539660041\n",
      "0.0982002428923181\n",
      "0.1137969091892046\n",
      "0.145336190486546\n",
      "0.15614814553453726\n",
      "0.16395536123218335\n",
      "0.1738585160068169\n",
      "0.18034389810559048\n",
      "0.18473683980979416\n",
      "0.18848761957895732\n",
      "0.20539671396495862\n",
      "0.2071180302364013\n",
      "0.2084913386448406\n",
      "0.21694098142701534\n",
      "0.22934327512066233\n",
      "0.27096636692511566\n",
      "0.2740620506558855\n",
      "0.2941778738102272\n",
      "0.3087851184224846\n",
      "0.31275329412188313\n",
      "0.3181252099319991\n",
      "0.4173749514242715\n",
      "0.42082959224260463\n",
      "0.43663570375489513\n",
      "0.43853809659334786\n",
      "0.443837359622421\n",
      "0.4959302627912763\n",
      "0.5437813241606761\n",
      "0.54599515611622\n",
      "0.5493163345439456\n",
      "0.5859539372685347\n",
      "0.5863426514377537\n",
      "0.6259186873088822\n",
      "0.650731682319801\n",
      "0.6574502683155643\n",
      "0.6590895332187685\n",
      "0.6704243747326188\n",
      "0.6743217339878385\n",
      "0.6944100903598311\n",
      "0.7090994202129508\n",
      "0.7629581611064395\n",
      "0.7674457246272723\n",
      "0.8221512236129627\n",
      "0.830824233741744\n",
      "0.8521485152440036\n"
     ]
    }
   ],
   "source": [
    "pointList.stream()\n",
    "//       .peek(System.out::println)\n",
    "      .filter(pt -> pt.getX() > 0)\n",
    "      .mapToDouble(Point::getX)\n",
    "      .sorted()\n",
    "      .limit(50)\n",
    "      .forEach(System.out::println);"
   ]
  },
  {
   "cell_type": "markdown",
   "metadata": {},
   "source": [
    "In the code above, what is the role of the `peek` statement, and what does it do?"
   ]
  },
  {
   "cell_type": "markdown",
   "metadata": {},
   "source": [
    "Done with Lists & Streams!"
   ]
  }
 ],
 "metadata": {
  "kernelspec": {
   "display_name": "Java",
   "language": "java",
   "name": "java"
  },
  "language_info": {
   "codemirror_mode": "java",
   "file_extension": ".jshell",
   "mimetype": "text/x-java-source",
   "name": "Java",
   "pygments_lexer": "java",
   "version": "11.0.8+10-LTS"
  }
 },
 "nbformat": 4,
 "nbformat_minor": 4
}
