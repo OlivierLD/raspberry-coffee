{
 "cells": [
  {
   "cell_type": "markdown",
   "id": "d1dd3791-0f81-4e8a-b4ee-93d9dcdfc95c",
   "metadata": {},
   "source": [
    "# Encryption, all pages"
   ]
  },
  {
   "cell_type": "markdown",
   "id": "1af3f365-17c3-42fb-a5f5-43c38acce339",
   "metadata": {},
   "source": [
    "- [Basic](./Encryption.101.ipynb), Character substitution\n",
    "- [Duh](..)"
   ]
  },
  {
   "cell_type": "markdown",
   "id": "b846a445-79d8-4149-bd22-a4f95b11a211",
   "metadata": {},
   "source": []
  }
 ],
 "metadata": {
  "kernelspec": {
   "display_name": "",
   "name": ""
  },
  "language_info": {
   "name": ""
  }
 },
 "nbformat": 4,
 "nbformat_minor": 5
}
