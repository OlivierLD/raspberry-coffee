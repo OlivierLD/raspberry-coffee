{
 "cells": [
  {
   "cell_type": "markdown",
   "id": "d1dd3791-0f81-4e8a-b4ee-93d9dcdfc95c",
   "metadata": {},
   "source": [
    "# Encryption, all pages\n",
    "- Based on the book \"The Code Book\", by Simon Singh, 1999, Fourth Estate Limited.\n",
    "- French edition \"Histoire des codes secrets\" (Le Livre de Poche), pages 232 and after.\n",
    "\n",
    "## What is that that about?\n",
    "A (aka Alice) and B (aka Bernard) want to exchange messages, and they do not want anyone else to be able to read them.  \n",
    "This is why the crypt the messages they exchange.  \n",
    "To crypt a message, you need a key. To decrypt it too.  \n",
    "This is where another problem arises: how can A give B they key he will need to decrypt the messages without being spied?\n",
    "\n",
    "We'll see in the pages below some different solutions, the problems they imply, and possibly, the ways to address them."
   ]
  },
  {
   "cell_type": "markdown",
   "id": "1af3f365-17c3-42fb-a5f5-43c38acce339",
   "metadata": {},
   "source": [
    "### Other notebooks\n",
    "- [Basic](./encryption/Encryption.101.ipynb), Character substitution\n",
    "  - May not support 2-layer encryption\n",
    "- [Byte by Byte](./encryption/Encryption.102.ipynb), logical operations, Diffie-Helmann key exchange\n",
    "  - May require several round-trips (see below, the [use-case](#A-use-case))\n",
    "- [RSA approach](./encryption/Encryption.103.ipynb), public and private keys\n",
    "  - The state-of-the-art encrytion"
   ]
  },
  {
   "cell_type": "markdown",
   "id": "73b5afa3-a9c6-4cf2-b93b-cf81fee1b23a",
   "metadata": {},
   "source": [
    "Some articles:\n",
    "- https://cybertalents.com/blog/rsa-encryption#:~:text=These%20are%20some%20real%2Dworld,Securing%20P2P%20data%20transfer.\n",
    "- https://crypto.stackexchange.com/questions/52688/see-the-rsas-n-p-q-e-text-and-d-from-ssh-keygen\n",
    "- https://www.geeksforgeeks.org/how-to-solve-rsa-algorithm-problems/"
   ]
  },
  {
   "cell_type": "markdown",
   "id": "b846a445-79d8-4149-bd22-a4f95b11a211",
   "metadata": {},
   "source": [
    "### A use-case\n",
    "Alice (A) wants to send a message to Bernard (B).  \n",
    "Bernard does _**not**_ have Alice's key.  \n",
    "Alice does _**not**_ have Bernard's key.  \n",
    "No key must ever be transferred on the network (so nobody can spy or tap it).  \n",
    "Another important thing is that whatever is transfered (on the network) **must** be encrypted (padlocked).  \n",
    "This means that there **must** be at least one padlock on the message box.\n",
    "\n",
    "---\n",
    "\n",
    "1. Alice defines message - She puts the message into a box.  \n",
    "![Step One](./img/01.png)  \n",
    "1. Encrypt with Alice's key - She locks the box with **her** padlock.  \n",
    "![Step One](./img/02.png)\n",
    "1. Send encrypted message to Bernard - She sends the locked box to Bernard.  \n",
    "![Step One](./img/03.png)\n",
    "1. Bernard encrypts the encrypted message (2 layers) - Bernard put **his** padlock on the box.  \n",
    "![Step One](./img/04.png)\n",
    "1. Sends to Alice - Bernard sends the box back to Alice, with the two padlocks.  \n",
    "![Step One](./img/05.png)\n",
    "1. Alice decrypts, Alice removes **her** padlock from the box. No problem, because she has the key of the red padlock.\n",
    "![Step One](./img/06.png)\n",
    "1. She sends decrypted message to Bernard. \n",
    "![Step One](./img/07.png)\n",
    "1. Bernard decrypts - Bernard removes **his** padlock from the box, no problem, he has the key of the blue padlock, he decrypts the message.  \n",
    "![Step One](./img/enveloppe.png)\n",
    "\n",
    "_Note_: This requires the message (the message box) to do the trip three times. But the good idea in this process is that:\n",
    "- No key is ever transfered over the network\n",
    "- No one needs to know the key(s) of the others\n",
    "\n",
    "Now, depending on the encryption type, this two-layer encoding might not always work...  \n",
    "We'll see.\n",
    "\n",
    "---\n"
   ]
  },
  {
   "cell_type": "code",
   "execution_count": null,
   "id": "fd27cc73-335d-447d-8e05-ca14206eb252",
   "metadata": {},
   "outputs": [],
   "source": []
  }
 ],
 "metadata": {
  "kernelspec": {
   "display_name": "Java",
   "language": "java",
   "name": "java"
  },
  "language_info": {
   "codemirror_mode": "java",
   "file_extension": ".jshell",
   "mimetype": "text/x-java-source",
   "name": "Java",
   "pygments_lexer": "java",
   "version": "11.0.8+10-LTS"
  }
 },
 "nbformat": 4,
 "nbformat_minor": 5
}
