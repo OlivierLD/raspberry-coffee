{
 "cells": [
  {
   "cell_type": "markdown",
   "id": "d1dd3791-0f81-4e8a-b4ee-93d9dcdfc95c",
   "metadata": {},
   "source": [
    "# Encryption, all pages\n",
    "- Based on the book \"The Code Book\", by Simon Singh, 1999, Fourth Estate Limited.\n",
    "- French edition \"Histoire des codes secrets\" (Le Livre de Poche), pages 232 and after.\n"
   ]
  },
  {
   "cell_type": "markdown",
   "id": "1af3f365-17c3-42fb-a5f5-43c38acce339",
   "metadata": {},
   "source": [
    "- [Basic](./encryption/Encryption.101.ipynb), Character substitution\n",
    "- [Byte by Byte](./encryption/Encryption.102.ipynb), logical operations\n",
    "- [Next](./encryption/Encryption.103.ipynb), . . ."
   ]
  },
  {
   "cell_type": "markdown",
   "id": "b846a445-79d8-4149-bd22-a4f95b11a211",
   "metadata": {},
   "source": []
  }
 ],
 "metadata": {
  "kernelspec": {
   "display_name": "Java",
   "language": "java",
   "name": "java"
  },
  "language_info": {
   "codemirror_mode": "java",
   "file_extension": ".jshell",
   "mimetype": "text/x-java-source",
   "name": "Java",
   "pygments_lexer": "java",
   "version": "11.0.8+10-LTS"
  }
 },
 "nbformat": 4,
 "nbformat_minor": 5
}
