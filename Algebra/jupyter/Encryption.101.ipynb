{
 "cells": [
  {
   "cell_type": "markdown",
   "id": "f2935515-b2e1-400e-96bc-6a424b369f18",
   "metadata": {},
   "source": [
    "# Encryptions"
   ]
  },
  {
   "cell_type": "markdown",
   "id": "826671eb-24ec-4af3-bb6d-87fa62e58fc1",
   "metadata": {},
   "source": [
    "### Basic key encryption"
   ]
  },
  {
   "cell_type": "code",
   "execution_count": 7,
   "id": "e7bb49d1-51d8-4090-8f13-f835480dc701",
   "metadata": {},
   "outputs": [],
   "source": [
    "/**\n",
    " * Histoire des codes secrets, pages 232 and after.\n",
    " * Brute force.\n",
    " */\n",
    "// Suitable for lowercase, not accented characters, no punctuation, just blanks.\n",
    "private final static String NOT_ENCRYPTED = \"abcdefghijklmnopqrstuvwxyz\";\n",
    "private final static String ALICE_KEY     = \"HFSUGTAKVDEOYJBPNXWCQRIMZL\";\n",
    "private final static String BERNARD_KEY   = \"CPMGATNOJEFWIQBURYHXSDZKLV\";"
   ]
  },
  {
   "cell_type": "code",
   "execution_count": 8,
   "id": "19c7331a-09fc-441e-b98d-cd883426a74f",
   "metadata": {},
   "outputs": [],
   "source": [
    "/**\n",
    " * Encrypt a message with a key.\n",
    " *\n",
    " * @param original Original message, in lowercase. No accent, no punctuation. Just blanks allowed.\n",
    " * @param key The encryption key\n",
    " * @return The encrypted message.\n",
    " */\n",
    "private static String encrypt(String original, String key) {\n",
    "    StringBuilder encrypted = new StringBuilder();\n",
    "    char[] charArray = original.toCharArray();\n",
    "    for (char c : charArray) {\n",
    "        boolean found = false;\n",
    "        if (c == ' ') {\n",
    "            encrypted.append(' ');\n",
    "        } else {\n",
    "            if (NOT_ENCRYPTED.contains(new StringBuffer(c))) {\n",
    "                int idx = 0;\n",
    "                while (!found) {\n",
    "                    if (NOT_ENCRYPTED.charAt(idx) == c) {\n",
    "                        found = true;\n",
    "                    } else {\n",
    "                        idx++;\n",
    "                    }\n",
    "                }\n",
    "                encrypted.append(key.charAt(idx));\n",
    "            } else {\n",
    "                System.out.println(\"Oops...\");\n",
    "            }\n",
    "        }\n",
    "    }\n",
    "    return encrypted.toString();\n",
    "}\n",
    "\n",
    "/**\n",
    " * Decrypt a message, with the key it has been encrypted with.\n",
    " * @param encrypted Encrypted message\n",
    " * @param key The key, used for encryption\n",
    " * @return The decrypted message\n",
    " */\n",
    "private static String decrypt(String encrypted, String key) {\n",
    "    StringBuilder decrypted = new StringBuilder();\n",
    "    char[] charArray = encrypted.toCharArray();\n",
    "    for (char c : charArray) {\n",
    "        boolean found = false;\n",
    "        if (c == ' ') {\n",
    "            decrypted.append(' ');\n",
    "        } else {\n",
    "            if (key.contains(new StringBuffer(c))) {\n",
    "                int idx = 0;\n",
    "                while (!found) {\n",
    "                    if (key.charAt(idx) == c) {\n",
    "                        found = true;\n",
    "                    } else {\n",
    "                        idx++;\n",
    "                    }\n",
    "                }\n",
    "                decrypted.append(NOT_ENCRYPTED.charAt(idx));\n",
    "            } else {\n",
    "                System.out.println(\"Oops...\");\n",
    "            }\n",
    "        }\n",
    "    }\n",
    "    return decrypted.toString();\n",
    "}\n"
   ]
  },
  {
   "cell_type": "markdown",
   "id": "aa8578a8-4425-4a8e-9d33-255756d17993",
   "metadata": {},
   "source": [
    "Now, let's see"
   ]
  },
  {
   "cell_type": "code",
   "execution_count": 9,
   "id": "a8b468eb-9099-4e01-9363-4f202a98bdaf",
   "metadata": {},
   "outputs": [
    {
     "name": "stdout",
     "output_type": "stream",
     "text": [
      "Encrypted with Alice's key [RBVW YBV H YVUV]\n",
      "Back to original [vois moi a midi]\n"
     ]
    },
    {
     "data": {
      "text/plain": [
       "java.io.PrintStream@4f568f06"
      ]
     },
     "execution_count": 9,
     "metadata": {},
     "output_type": "execute_result"
    }
   ],
   "source": [
    "String originalMessage = \"vois moi a midi\";\n",
    "String encrypted = encrypt(originalMessage, ALICE_KEY);\n",
    "\n",
    "System.out.printf(\"Encrypted with Alice's key [%s]\\n\", encrypted);\n",
    "\n",
    "String decrypted = decrypt(encrypted, ALICE_KEY);\n",
    "System.out.printf(\"Back to original [%s]\\n\", decrypted);"
   ]
  },
  {
   "cell_type": "markdown",
   "id": "118c58af-616c-4042-aad9-fce3277bd265",
   "metadata": {},
   "source": [
    "Done with basic !"
   ]
  }
 ],
 "metadata": {
  "kernelspec": {
   "display_name": "Java",
   "language": "java",
   "name": "java"
  },
  "language_info": {
   "codemirror_mode": "java",
   "file_extension": ".jshell",
   "mimetype": "text/x-java-source",
   "name": "Java",
   "pygments_lexer": "java",
   "version": "11.0.8+10-LTS"
  }
 },
 "nbformat": 4,
 "nbformat_minor": 5
}
