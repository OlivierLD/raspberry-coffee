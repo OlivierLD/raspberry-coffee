{
 "cells": [
  {
   "cell_type": "markdown",
   "id": "4272628e-cddb-4a74-bad8-6cc42d629a08",
   "metadata": {},
   "source": [
    "# Encryption 2. \n",
    "### Byte by Byte encryption (XOR)\n",
    "The idea here is:\n",
    "- Not to use the character substitution (like in [Encryption 101](./Encryption.1.1.ipynb))\n",
    "- The strings to use (message, and in some case, the key) would be converted into byte arrays. Their values will be be considered as numbers, disconnected from their character (ASCII) value.\n",
    "- The byte array representing the message will be processed using the byte array representing the key, using logical opration(s) (like XOR, as seen below).\n",
    "- Once back decrypted to its original value, the byte array will finally be returned to its string (aka character) value.\n",
    "\n",
    "---\n",
    "\n",
    "For clarity, we will start with a readable key (character key), and we'll move later to a numeric one.  \n",
    "We start here with a key like `DAVID`, and encrypt a message with the same length, like `HELLO`.\n",
    "\n",
    "---\n",
    "\n",
    "Still for clarity, we will first process **_bit by bit_**\n",
    "\n",
    "#### Bit by bit"
   ]
  },
  {
   "cell_type": "markdown",
   "id": "8245b03d-cd8a-4e5a-9606-9143998067b0",
   "metadata": {},
   "source": [
    "First, the message."
   ]
  },
  {
   "cell_type": "code",
   "execution_count": 1,
   "id": "5bc8392b-f646-4134-a502-d7fe73dabfdb",
   "metadata": {},
   "outputs": [
    {
     "name": "stdout",
     "output_type": "stream",
     "text": [
      "Binary Hello (lpad) : [1001000 1000101 1001100 1001100 1001111]\n",
      "Binary Hello : [1001000 1000101 1001100 1001100 1001111]\n"
     ]
    },
    {
     "data": {
      "text/plain": [
       "java.io.PrintStream@3c3070fd"
      ]
     },
     "execution_count": 1,
     "metadata": {},
     "output_type": "execute_result"
    }
   ],
   "source": [
    "String hello = \"HELLO\"; // Page 309\n",
    "byte[] helloBytes = hello.getBytes();\n",
    "StringBuilder binaryHello = new StringBuilder();\n",
    "for (byte b : helloBytes) {\n",
    "    binaryHello.append(String.format(\"%s \", Integer.toBinaryString(b)));\n",
    "}\n",
    "System.out.printf(\"Binary Hello (lpad) : [%s]\\n\", binaryHello.toString().trim());\n",
    "\n",
    "binaryHello = new StringBuilder();\n",
    "for (byte b : helloBytes) {\n",
    "    binaryHello.append(String.format(\"%s \", Integer.toBinaryString(b)));\n",
    "}\n",
    "// Uppercase letters are 7 bit long.\n",
    "System.out.printf(\"Binary Hello : [%s]\\n\", binaryHello.toString().trim());"
   ]
  },
  {
   "cell_type": "markdown",
   "id": "5b545a02-c4db-4103-bdd4-67f93d8af0f3",
   "metadata": {},
   "source": [
    "Then, the Key"
   ]
  },
  {
   "cell_type": "code",
   "execution_count": 2,
   "id": "c7556d2d-4379-4fb3-8338-e087e033fc05",
   "metadata": {},
   "outputs": [],
   "source": [
    "byte[] davidBytes = \"DAVID\".getBytes();\n",
    "StringBuilder binaryDavid = new StringBuilder();\n",
    "for (byte b : davidBytes) {\n",
    "    binaryDavid.append(String.format(\"%s\", Integer.toBinaryString(b)));\n",
    "}\n",
    "String davidKey = binaryDavid.toString().trim(); // Binary String\n",
    "\n",
    "binaryHello = new StringBuilder();\n",
    "for (byte b : helloBytes) {\n",
    "    binaryHello.append(String.format(\"%s\", Integer.toBinaryString(b)));\n",
    "}"
   ]
  },
  {
   "cell_type": "markdown",
   "id": "3683131a-aeb4-4bfb-82d0-32071f377a06",
   "metadata": {},
   "source": [
    "Let's display the current status of the data, in their _binary_ format, for the clarity of the next steps."
   ]
  },
  {
   "cell_type": "code",
   "execution_count": 3,
   "id": "78c63af0-7403-4d26-bf23-c472eb4d56ca",
   "metadata": {},
   "outputs": [
    {
     "name": "stdout",
     "output_type": "stream",
     "text": [
      "Before proceeding:\n",
      "Message: 10010001000101100110010011001001111\n",
      "The Key: 10001001000001101011010010011000100\n"
     ]
    },
    {
     "data": {
      "text/plain": [
       "java.io.PrintStream@3c3070fd"
      ]
     },
     "execution_count": 3,
     "metadata": {},
     "output_type": "execute_result"
    }
   ],
   "source": [
    "String helloBuffer = binaryHello.toString().trim();\n",
    "System.out.println(\"Before proceeding:\");\n",
    "System.out.printf(\"Message: %s\\nThe Key: %s\\n\", helloBuffer, davidKey);"
   ]
  },
  {
   "cell_type": "markdown",
   "id": "514f6804-7af4-4da0-8e2c-2d4c24ed4b4a",
   "metadata": {},
   "source": [
    "Now the data are ready, here is how we are going to proceed.  \n",
    "Bit by bit, (first bit of the message with the first bit of the key, second byte of the message with the second byte of the key, etc), we apply an XOR (Exclusive OR) logical operation. Here is what it means:  \n",
    "- if the message bit is identical to the key byte, the result value is `0`.\n",
    "- if the message bit and the key byte are different, the result value is `1`."
   ]
  },
  {
   "cell_type": "code",
   "execution_count": 4,
   "id": "e7b7dab0-f32d-46c0-90e6-4496a920346f",
   "metadata": {},
   "outputs": [
    {
     "name": "stdout",
     "output_type": "stream",
     "text": [
      "Encoded message:\n",
      "00011000000100001101000001010001011\n"
     ]
    },
    {
     "data": {
      "text/plain": [
       "java.io.PrintStream@3c3070fd"
      ]
     },
     "execution_count": 4,
     "metadata": {},
     "output_type": "execute_result"
    }
   ],
   "source": [
    "byte[] messageBits = helloBuffer.getBytes();\n",
    "byte[] keyBits     = davidKey.getBytes();\n",
    "List<Byte> encoded = new ArrayList<>();\n",
    "// bit by bit\n",
    "for (int i=0;i<messageBits.length; i++) {\n",
    "    // It's an XOR\n",
    "    encoded.add((messageBits[i] == keyBits[i]) ? (byte)'0' : (byte)'1');\n",
    "}\n",
    "byte[] newArray = new byte[messageBits.length];\n",
    "for (int i=0; i<encoded.size(); i++) {  // TODO Any way to improve this loop ? Byte[] to byte[] ?\n",
    "    newArray[i] = encoded.get(i);\n",
    "}\n",
    "String encodedString = new String(newArray);\n",
    "System.out.printf(\"Encoded message:\\n%s\\n\", encodedString);"
   ]
  },
  {
   "cell_type": "markdown",
   "id": "4e4013a8-8446-4d43-a93e-0982df501933",
   "metadata": {},
   "source": [
    "Now, let's see the decoding process.  \n",
    "Let's re-display the original message, from its byte rerpresentation"
   ]
  },
  {
   "cell_type": "code",
   "execution_count": 5,
   "id": "656ffb6a-0d52-4934-ae19-2de4e9f86956",
   "metadata": {},
   "outputs": [
    {
     "name": "stdout",
     "output_type": "stream",
     "text": [
      "Original - H\n",
      "Original - E\n",
      "Original - L\n",
      "Original - L\n",
      "Original - O\n"
     ]
    }
   ],
   "source": [
    "// With the original message:\n",
    "for (int i=0; i<helloBuffer.length(); i+=7) {\n",
    "    int c = Integer.parseInt(helloBuffer.substring(i, i+7), 2);\n",
    "    System.out.printf(\"Original - %s\\n\", (char)c);\n",
    "}"
   ]
  },
  {
   "cell_type": "markdown",
   "id": "060ea76e-bc9e-45c8-8cfd-8c61544b3233",
   "metadata": {},
   "source": [
    "And now, we decrypt, apply the logical XOR, with the encoded message, and the key, bit by bit:"
   ]
  },
  {
   "cell_type": "code",
   "execution_count": 6,
   "id": "74e00719-8988-478d-8f2c-797f43fb2aa4",
   "metadata": {},
   "outputs": [],
   "source": [
    "List<Byte> decoded = new ArrayList<>();\n",
    "// bit by bit\n",
    "for (int i=0;i<messageBits.length; i++) {\n",
    "    // newArray contains the en coded message\n",
    "    decoded.add((newArray[i] == keyBits[i]) ? (byte)'0' : (byte)'1');\n",
    "}\n",
    "\n",
    "newArray = new byte[messageBits.length];\n",
    "for (int i=0; i<decoded.size(); i++) {  // Same as above, improve this loop\n",
    "    newArray[i] = decoded.get(i);\n",
    "}"
   ]
  },
  {
   "cell_type": "markdown",
   "id": "c931daec-c1ae-4bea-a9e8-03455321023d",
   "metadata": {},
   "source": [
    "Now we have the decoded bits, let's see them"
   ]
  },
  {
   "cell_type": "code",
   "execution_count": 7,
   "id": "53fac2da-1d59-4d48-b979-68f6dd0aeb4e",
   "metadata": {},
   "outputs": [
    {
     "name": "stdout",
     "output_type": "stream",
     "text": [
      "\n",
      "Decoded:\n",
      "10010001000101100110010011001001111\n",
      "\n"
     ]
    },
    {
     "data": {
      "text/plain": [
       "java.io.PrintStream@3c3070fd"
      ]
     },
     "execution_count": 7,
     "metadata": {},
     "output_type": "execute_result"
    }
   ],
   "source": [
    "String decodedString = new String(newArray);\n",
    "System.out.printf(\"\\nDecoded:\\n%s\\n\\n\", decodedString);"
   ]
  },
  {
   "cell_type": "markdown",
   "id": "7b25abf9-0232-4209-84a2-97b95311f590",
   "metadata": {},
   "source": [
    "Those bits can be displayed as bytes or characters"
   ]
  },
  {
   "cell_type": "code",
   "execution_count": 8,
   "id": "5f819d0d-05b6-4e29-a1fb-23846ae645b8",
   "metadata": {},
   "outputs": [
    {
     "name": "stdout",
     "output_type": "stream",
     "text": [
      "Decoded - H\n",
      "Decoded - E\n",
      "Decoded - L\n",
      "Decoded - L\n",
      "Decoded - O\n"
     ]
    }
   ],
   "source": [
    "// With the decoded message:\n",
    "for (int i=0; i<helloBuffer.length(); i+=7) {\n",
    "    int c = Integer.parseInt(helloBuffer.substring(i, i+7), 2);\n",
    "    System.out.printf(\"Decoded - %s\\n\", (char)c);\n",
    "}"
   ]
  },
  {
   "cell_type": "markdown",
   "id": "57f20e93-a306-4a81-b8aa-ebd659fce8f1",
   "metadata": {},
   "source": [
    "That's it! We're back to the original message.  \n",
    "_Notice_: you can use any character, as we do not care about their ASCII value, upper case, lower case, accented, punctuation, averything will do."
   ]
  },
  {
   "cell_type": "markdown",
   "id": "4b91d01d-73ad-434b-bd5d-6c3657b6dce5",
   "metadata": {},
   "source": [
    "#### Next step, byte by byte\n",
    "Now we've seen - bit by bit - how this work, let's proceed byte by byte. Logical operations work on any scalar type.  \n",
    "Also, we will this time process a message longer than the key. The key is \"repeated\" at will, the key is repeated as long as this repetion's length is lower than the length of the message to process. See the modulo operation, at `[i % davidBytes.length]`, in the code below.  \n",
    "\n",
    "The `modulo` operation is going to be used several times in this section, and further ones. I've seen many definitions of it... My favorite one is \"`X modulo Y` is the remainder of division of `X` by `Y`\".  \n",
    "For example, `145 modulo 12` is `1`.  \n",
    "In Java (and many other languages as well), the `modulo` operation is represented by the `%` character.  \n",
    "\n",
    "We will also be explicitely using the XOR operation.  \n",
    "In Java, the logical AND is `&`, the logical OR is `|`, and the logical XOR is `^`, as seen below."
   ]
  },
  {
   "cell_type": "code",
   "execution_count": 9,
   "id": "c2d18645-7415-42f0-ba07-9d292c9ef58c",
   "metadata": {},
   "outputs": [
    {
     "name": "stdout",
     "output_type": "stream",
     "text": [
      "Encoded, byte by byte: [\f",
      "$:%+d\u00169;( `v\u001e",
      "!d%9i*+5v-!4$8-d+/v=,!a=,=c2v%!*&\"!e]\n"
     ]
    },
    {
     "data": {
      "text/plain": [
       "java.io.PrintStream@3c3070fd"
      ]
     },
     "execution_count": 9,
     "metadata": {},
     "output_type": "execute_result"
    }
   ],
   "source": [
    "// davidBytes contains \"DAVID\", 5 bytes\n",
    "String message02 = \"Hello World! We do not depend on the key's length!\";\n",
    "final byte[] message02Bytes = message02.getBytes();\n",
    "byte[] encoded02 = new byte[message02Bytes.length];\n",
    "for (int i=0; i<message02Bytes.length; i++) {\n",
    "    encoded02[i] = (byte)(message02Bytes[i] ^ davidBytes[i % davidBytes.length]);\n",
    "}\n",
    "String encodedString02 = new String(encoded02);\n",
    "System.out.printf(\"Encoded, byte by byte: [%s]\\n\", encodedString02);"
   ]
  },
  {
   "cell_type": "markdown",
   "id": "f8cf33f6-aa61-4a94-be18-1d8572d3ee71",
   "metadata": {},
   "source": [
    "The encoded string is notoriously un-readable...  \n",
    "Now, we decode, byte by byte, and then into a string"
   ]
  },
  {
   "cell_type": "code",
   "execution_count": 10,
   "id": "e3954f17-f606-4a44-8af3-bd5ce31df11b",
   "metadata": {},
   "outputs": [
    {
     "name": "stdout",
     "output_type": "stream",
     "text": [
      "Decoded, byte by byte: [Hello World! We do not depend on the key's length!]\n"
     ]
    },
    {
     "data": {
      "text/plain": [
       "java.io.PrintStream@3c3070fd"
      ]
     },
     "execution_count": 10,
     "metadata": {},
     "output_type": "execute_result"
    }
   ],
   "source": [
    "// Try decoding the same way\n",
    "byte[] toDecode = encodedString02.getBytes();\n",
    "byte[] decoded02 = new byte[toDecode.length];\n",
    "for (int i=0; i<toDecode.length; i++) {\n",
    "    decoded02[i] = (byte)(toDecode[i] ^ davidBytes[i % davidBytes.length]);\n",
    "}\n",
    "String decodedString02 = new String(decoded02);\n",
    "System.out.printf(\"Decoded, byte by byte: [%s]\\n\", decodedString02);"
   ]
  },
  {
   "cell_type": "markdown",
   "id": "c929ac46-852f-4a42-9b76-b52d3b2ced17",
   "metadata": {},
   "source": [
    "### With an integer key\n",
    "A Long would work as well. The only requirement is to be able to have o byte array representation of the key, just like we did above with s key of thw String type."
   ]
  },
  {
   "cell_type": "markdown",
   "id": "ca8dad31-84f8-44ee-a850-afbabc89a0b1",
   "metadata": {},
   "source": [
    "First we define a key, and get its byte array representation."
   ]
  },
  {
   "cell_type": "code",
   "execution_count": 11,
   "id": "3dcad567-137c-4e17-9cbb-6746a3464649",
   "metadata": {},
   "outputs": [],
   "source": [
    "import java.nio.ByteBuffer;\n",
    "\n",
    "int intKey = 123456789;\n",
    "byte[] byteKey = ByteBuffer.allocate(4).putInt(intKey).array();"
   ]
  },
  {
   "cell_type": "markdown",
   "id": "6ee88e21-cec4-439f-bd2f-7f09cd12a5e2",
   "metadata": {},
   "source": [
    "Then we define a message, and similarly, get ots byte array equivalent"
   ]
  },
  {
   "cell_type": "code",
   "execution_count": 12,
   "id": "99ccc61a-14d7-4d64-b5bd-5698df6e46b6",
   "metadata": {},
   "outputs": [],
   "source": [
    "String message03 = \"Now the key is an int. Let's see if it still works...\";\n",
    "final byte[] message03Bytes = message03.getBytes();"
   ]
  },
  {
   "cell_type": "markdown",
   "id": "73d573f3-638d-406b-9b36-5d93bcd3ca43",
   "metadata": {},
   "source": [
    "We encode the message, using the byte array representation of the integer key, just like we did beflre with the `DAVID` key, and we display the values the each byte of the encoded result"
   ]
  },
  {
   "cell_type": "code",
   "execution_count": 13,
   "id": "9c967766-76e4-46f6-8d65-9938c0649e01",
   "metadata": {},
   "outputs": [
    {
     "name": "stdout",
     "output_type": "stream",
     "text": [
      "Encoded, byte by byte, with an int key: [73, 52, -70, 53, 115, 51, -88, 53, 108, 62, -76, 53, 110, 40, -19, 116, 105, 123, -92, 123, 115, 117, -19, 89, 98, 47, -22, 102, 39, 40, -88, 112, 39, 50, -85, 53, 110, 47, -19, 102, 115, 50, -95, 121, 39, 44, -94, 103, 108, 40, -29, 59, 41]\n"
     ]
    },
    {
     "data": {
      "text/plain": [
       "java.io.PrintStream@3c3070fd"
      ]
     },
     "execution_count": 13,
     "metadata": {},
     "output_type": "execute_result"
    }
   ],
   "source": [
    "import java.util.stream.Collectors;\n",
    "\n",
    "\n",
    "byte[] encoded03 = new byte[message03Bytes.length];\n",
    "for (int i=0; i<message03Bytes.length; i++) {\n",
    "    encoded03[i] = (byte)(message03Bytes[i] ^ byteKey[i % byteKey.length]);\n",
    "}\n",
    "ByteArrayOutputStream intEncoded = new ByteArrayOutputStream();\n",
    "intEncoded.writeBytes(encoded03);\n",
    "\n",
    "// The encoded data is a Byte array, NOT a String\n",
    "List<Byte> encodedByteList = new ArrayList<>();\n",
    "for (byte b : encoded03) {\n",
    "    encodedByteList.add(b);\n",
    "}\n",
    "System.out.printf(\"Encoded, byte by byte, with an int key: [%s]\\n\", \n",
    "                  encodedByteList.stream().map(Integer::toString).collect(Collectors.joining(\", \")));"
   ]
  },
  {
   "cell_type": "markdown",
   "id": "916e5fc2-898e-46bf-b44a-0cd005d548c9",
   "metadata": {},
   "source": [
    "Following the exact same pattern, we now decode"
   ]
  },
  {
   "cell_type": "code",
   "execution_count": 14,
   "id": "7678b15b-7b0d-4775-a17b-77919cf523b7",
   "metadata": {},
   "outputs": [
    {
     "name": "stdout",
     "output_type": "stream",
     "text": [
      "Decoded, byte by byte, with an int key: [Now the key is an int. Let's see if it still works...]\n"
     ]
    },
    {
     "data": {
      "text/plain": [
       "java.io.PrintStream@3c3070fd"
      ]
     },
     "execution_count": 14,
     "metadata": {},
     "output_type": "execute_result"
    }
   ],
   "source": [
    "// Try decoding the same way\n",
    "byte[] decoded03 = new byte[encoded03.length];\n",
    "for (int i=0; i<encoded03.length; i++) {\n",
    "    decoded03[i] = (byte)(encoded03[i] ^ byteKey[i % byteKey.length]);\n",
    "}\n",
    "String decodedString03 = new String(decoded03);\n",
    "System.out.printf(\"Decoded, byte by byte, with an int key: [%s]\\n\", decodedString03);\n"
   ]
  },
  {
   "cell_type": "markdown",
   "id": "bb839e7b-a0f3-4bc2-8582-dab5aaef723a",
   "metadata": {},
   "source": [
    "Sounds good!  \n",
    "To facilitate the next steps, we will create encryption and decryption methods."
   ]
  },
  {
   "cell_type": "code",
   "execution_count": 15,
   "id": "63e66a03-edca-4b41-a2a5-320a3e9dc0f8",
   "metadata": {},
   "outputs": [],
   "source": [
    "public class EncryptionUtils {\n",
    "    public static ByteArrayOutputStream intEncode(byte[] messageBytes, int key) {\n",
    "        byte[] byteKey = ByteBuffer.allocate(4).putInt(key).array();\n",
    "        byte[] encoded = new byte[messageBytes.length];\n",
    "        for (int i=0; i<messageBytes.length; i++) {\n",
    "            encoded[i] = (byte)(messageBytes[i] ^ byteKey[i % byteKey.length]);\n",
    "        }\n",
    "        ByteArrayOutputStream intEncoded = new ByteArrayOutputStream();\n",
    "        intEncoded.writeBytes(encoded);\n",
    "    \n",
    "        return intEncoded;\n",
    "    }\n",
    "    \n",
    "    public static ByteArrayOutputStream intEncode(String message, int key) {\n",
    "        final byte[] messageBytes = message.getBytes();\n",
    "        return intEncode(messageBytes, key);\n",
    "    }\n",
    "    \n",
    "    public static ByteArrayOutputStream intDecode(ByteArrayOutputStream baos, int key) {\n",
    "        byte[] byteKey = ByteBuffer.allocate(4).putInt(key).array();\n",
    "        byte[] encoded = baos.toByteArray();\n",
    "        byte[] decoded = new byte[encoded.length];\n",
    "        for (int i=0; i<encoded.length; i++) {\n",
    "            decoded[i] = (byte)(encoded[i] ^ byteKey[i % byteKey.length]);\n",
    "        }\n",
    "        ByteArrayOutputStream intDecoded = new ByteArrayOutputStream();\n",
    "        intDecoded.writeBytes(decoded);\n",
    "        return intDecoded;\n",
    "    }\n",
    "}"
   ]
  },
  {
   "cell_type": "markdown",
   "id": "babfd256-092d-465c-ac31-8b5ba3979fa2",
   "metadata": {},
   "source": [
    "Notice that those guys are using `ByteArrayOutputStream` to store the byte data.  \n",
    "Let's give it a try, with a French message, containing punctuation, accented characters, etc."
   ]
  },
  {
   "cell_type": "code",
   "execution_count": 16,
   "id": "ac645c82-f9a2-4c24-8397-5270a249eb4d",
   "metadata": {},
   "outputs": [
    {
     "name": "stdout",
     "output_type": "stream",
     "text": [
      "Encoded done...\n",
      "Decoded: [On essaye avec une méthode dédiée ?]\n"
     ]
    },
    {
     "data": {
      "text/plain": [
       "java.io.PrintStream@3c3070fd"
      ]
     },
     "execution_count": 16,
     "metadata": {},
     "output_type": "execute_result"
    }
   ],
   "source": [
    "int newKey = 98765432;\n",
    "ByteArrayOutputStream encodedBAOS = EncryptionUtils.intEncode(\"On essaye avec une méthode dédiée ?\", newKey);\n",
    "System.out.println(\"Encoded done...\");\n",
    "String decodedBAOS = new String(EncryptionUtils.intDecode(encodedBAOS, newKey).toByteArray());\n",
    "System.out.printf(\"Decoded: [%s]\\n\", decodedBAOS);"
   ]
  },
  {
   "cell_type": "markdown",
   "id": "6ada3798-d673-4f0a-af6d-f8b195b88ad1",
   "metadata": {},
   "source": [
    "That seems to work...  \n",
    "Let's see, with this XOR function, how the process described [previously](./Encryption.101.ipynb#A-Test) behaves..."
   ]
  },
  {
   "cell_type": "code",
   "execution_count": 17,
   "id": "5e3ac592-95a6-460d-83c8-8c6648eaa558",
   "metadata": {},
   "outputs": [
    {
     "name": "stdout",
     "output_type": "stream",
     "text": [
      "\n",
      "Alice - Bernard ping-pong, new test...\n",
      "Finally: [Bing Bong Message !]\n"
     ]
    },
    {
     "data": {
      "text/plain": [
       "java.io.PrintStream@3c3070fd"
      ]
     },
     "execution_count": 17,
     "metadata": {},
     "output_type": "execute_result"
    }
   ],
   "source": [
    "System.out.println(\"\\nAlice - Bernard ping-pong, new test...\");\n",
    "int aliceIntKey   = 12345678;\n",
    "int bernardIntKey = 98765432;\n",
    "\n",
    "String bingBongMessage = \"Bing Bong Message !\";\n",
    "ByteArrayOutputStream stepOne = EncryptionUtils.intEncode(bingBongMessage, aliceIntKey);         // Encode with Alice's key\n",
    "ByteArrayOutputStream stepTwo = EncryptionUtils.intEncode(stepOne.toByteArray(), bernardIntKey); // Encode with Bernard's key\n",
    "ByteArrayOutputStream stepThree = EncryptionUtils.intDecode(stepTwo, aliceIntKey);               // Decode with Alice's key\n",
    "ByteArrayOutputStream stepFour = EncryptionUtils.intDecode(stepThree, bernardIntKey);            // Final result: Decode with Bernard's key\n",
    "\n",
    "String decodedBingBong = new String(stepFour.toByteArray());\n",
    "System.out.printf(\"Finally: [%s]\\n\", decodedBingBong);"
   ]
  },
  {
   "cell_type": "markdown",
   "id": "cabe636d-254c-4bf7-a46b-0a0d04db9b26",
   "metadata": {},
   "source": [
    "Wow! The XOR approach seems to fit this context!  \n",
    "The only thing you could reproach this method with is the number of trips the message has to do...  \n",
    "This is going to be addressed later."
   ]
  }
 ],
 "metadata": {
  "kernelspec": {
   "display_name": "Java",
   "language": "java",
   "name": "java"
  },
  "language_info": {
   "codemirror_mode": "java",
   "file_extension": ".jshell",
   "mimetype": "text/x-java-source",
   "name": "Java",
   "pygments_lexer": "java",
   "version": "11.0.8+10-LTS"
  }
 },
 "nbformat": 4,
 "nbformat_minor": 5
}
