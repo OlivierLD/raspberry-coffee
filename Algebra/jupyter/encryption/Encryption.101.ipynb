{
 "cells": [
  {
   "cell_type": "markdown",
   "id": "f2935515-b2e1-400e-96bc-6a424b369f18",
   "metadata": {},
   "source": [
    "# Encryptions - 1"
   ]
  },
  {
   "cell_type": "markdown",
   "id": "826671eb-24ec-4af3-bb6d-87fa62e58fc1",
   "metadata": {},
   "source": [
    "### Basic key encryption (character substitution)\n",
    "- Based on the book \"The Code Book\", by Simon Singh, 1999, Fourth Estate Limited.\n",
    "- French edition \"Histoire des codes secrets\" (Le Livre de Poche), pages 232 and after.\n",
    "\n",
    "For this section, we limit the original message characters to\n",
    "- lowercase\n",
    "- un-accented characters (26 \"plain\" letters, plus blank), no fancy stuff like &eacute;, &oelig;, etc."
   ]
  },
  {
   "cell_type": "code",
   "execution_count": 1,
   "id": "e7bb49d1-51d8-4090-8f13-f835480dc701",
   "metadata": {},
   "outputs": [],
   "source": [
    "/**\n",
    " * Based on the book \"The Code Book\", by Simon Singh, 1999, Fourth Estate Limited.\n",
    " * French edition \"Histoire des codes secrets\" (Le Livre de Poche), pages 232 and after.\n",
    " */\n",
    "// Suitable for lowercase, not accented characters, no punctuation, just blanks.\n",
    "private final static String NOT_ENCRYPTED = \"abcdefghijklmnopqrstuvwxyz\";\n",
    "private final static String ALICE_KEY     = \"HFSUGTAKVDEOYJBPNXWCQRIMZL\";\n",
    "private final static String BERNARD_KEY   = \"CPMGATNOJEFWIQBURYHXSDZKLV\";"
   ]
  },
  {
   "cell_type": "code",
   "execution_count": 2,
   "id": "19c7331a-09fc-441e-b98d-cd883426a74f",
   "metadata": {},
   "outputs": [],
   "source": [
    "/**\n",
    " * Encrypt a message with a key.\n",
    " *\n",
    " * @param original Original message, in lowercase. No accent, no punctuation. Just blanks allowed.\n",
    " * @param key The encryption key\n",
    " * @return The encrypted message.\n",
    " */\n",
    "private static String encrypt(String original, String key) {\n",
    "    StringBuilder encrypted = new StringBuilder();\n",
    "    char[] charArray = original.toCharArray();\n",
    "    for (char c : charArray) {\n",
    "        boolean found = false;\n",
    "        if (c == ' ') {\n",
    "            encrypted.append(' ');\n",
    "        } else {\n",
    "            if (NOT_ENCRYPTED.contains(new StringBuffer(c))) {\n",
    "                int idx = 0;\n",
    "                while (!found) {\n",
    "                    if (NOT_ENCRYPTED.charAt(idx) == c) {\n",
    "                        found = true;\n",
    "                    } else {\n",
    "                        idx++;\n",
    "                    }\n",
    "                }\n",
    "                encrypted.append(key.charAt(idx));\n",
    "            } else {\n",
    "                System.out.println(\"Oops...\");\n",
    "            }\n",
    "        }\n",
    "    }\n",
    "    return encrypted.toString();\n",
    "}\n",
    "\n",
    "/**\n",
    " * Decrypt a message, with the key it has been encrypted with.\n",
    " * @param encrypted Encrypted message\n",
    " * @param key The key, used for encryption\n",
    " * @return The decrypted message\n",
    " */\n",
    "private static String decrypt(String encrypted, String key) {\n",
    "    StringBuilder decrypted = new StringBuilder();\n",
    "    char[] charArray = encrypted.toCharArray();\n",
    "    for (char c : charArray) {\n",
    "        boolean found = false;\n",
    "        if (c == ' ') {\n",
    "            decrypted.append(' ');\n",
    "        } else {\n",
    "            if (key.contains(new StringBuffer(c))) {\n",
    "                int idx = 0;\n",
    "                while (!found) {\n",
    "                    if (key.charAt(idx) == c) {\n",
    "                        found = true;\n",
    "                    } else {\n",
    "                        idx++;\n",
    "                    }\n",
    "                }\n",
    "                decrypted.append(NOT_ENCRYPTED.charAt(idx));\n",
    "            } else {\n",
    "                System.out.println(\"Oops...\");\n",
    "            }\n",
    "        }\n",
    "    }\n",
    "    return decrypted.toString();\n",
    "}\n"
   ]
  },
  {
   "cell_type": "markdown",
   "id": "aa8578a8-4425-4a8e-9d33-255756d17993",
   "metadata": {},
   "source": [
    "Now, let's see"
   ]
  },
  {
   "cell_type": "code",
   "execution_count": 3,
   "id": "a8b468eb-9099-4e01-9363-4f202a98bdaf",
   "metadata": {
    "scrolled": true
   },
   "outputs": [
    {
     "name": "stdout",
     "output_type": "stream",
     "text": [
      "Encrypted with Alice's key [WGG YG HC JBBJ]\n",
      "Back to original [see me at noon]\n"
     ]
    },
    {
     "data": {
      "text/plain": [
       "java.io.PrintStream@16da4205"
      ]
     },
     "execution_count": 3,
     "metadata": {},
     "output_type": "execute_result"
    }
   ],
   "source": [
    "String originalMessage = \"see me at noon\";\n",
    "String encrypted = encrypt(originalMessage, ALICE_KEY);\n",
    "\n",
    "System.out.printf(\"Encrypted with Alice's key [%s]\\n\", encrypted);\n",
    "\n",
    "String decrypted = decrypt(encrypted, ALICE_KEY);\n",
    "System.out.printf(\"Back to original [%s]\\n\", decrypted);"
   ]
  },
  {
   "cell_type": "markdown",
   "id": "48e67c8b-4a77-4128-802c-1546cb57dc15",
   "metadata": {},
   "source": [
    "### A Test\n",
    "We want to try to address the use-case decsribed [here](../Encryption.summary.ipynb#A-use-case).\n",
    "\n",
    "The idea sounds good, but in the case of a character substitution encoding, it is likely **not** to work..."
   ]
  },
  {
   "cell_type": "code",
   "execution_count": 4,
   "id": "d9d52345-77d0-4312-b0e8-2e9b214549f7",
   "metadata": {},
   "outputs": [
    {
     "name": "stdout",
     "output_type": "stream",
     "text": [
      "Sent to Bernard: [CKVW VW H CIB OHZGX CGWC]\n",
      "Send back to Alice: [MFDZ DZ O MJP BOVNK MNZM]\n",
      "Decrypted by Alice: [xbjy jy l xnp oliqh xqyx]\n",
      "Finally: [toir ir y tgb hymns tnrt], wrong as expected...\n"
     ]
    },
    {
     "data": {
      "text/plain": [
       "java.io.PrintStream@16da4205"
      ]
     },
     "execution_count": 4,
     "metadata": {},
     "output_type": "execute_result"
    }
   ],
   "source": [
    "// Let's go. Implementation of the above\n",
    "originalMessage = \"this is a two layer test\";\n",
    "String encrypted01 = encrypt(originalMessage.toLowerCase(), ALICE_KEY);\n",
    "// => Bernard\n",
    "System.out.printf(\"Sent to Bernard: [%s]\\n\", encrypted01);\n",
    "String encrypted02 = encrypt(encrypted01.toLowerCase(), BERNARD_KEY);\n",
    "// => Alice\n",
    "System.out.printf(\"Send back to Alice: [%s]\\n\", encrypted02);\n",
    "String decrypted01 = decrypt(encrypted02, ALICE_KEY);\n",
    "// => Bernard\n",
    "System.out.printf(\"Decrypted by Alice: [%s]\\n\", decrypted01);\n",
    "String decrypted02 = decrypt(decrypted01.toUpperCase(), BERNARD_KEY);\n",
    "\n",
    "System.out.printf(\"Finally: [%s], wrong as expected...\\n\", decrypted02);"
   ]
  },
  {
   "cell_type": "markdown",
   "id": "118c58af-616c-4042-aad9-fce3277bd265",
   "metadata": {},
   "source": [
    "---\n",
    "\n",
    "Done with basic !\n",
    "\n",
    "---\n",
    "\n",
    "[Next Section](./Encryption.102.ipynb)"
   ]
  },
  {
   "cell_type": "code",
   "execution_count": null,
   "id": "f883bce8-34c1-4db1-913c-45550faa2533",
   "metadata": {},
   "outputs": [],
   "source": []
  }
 ],
 "metadata": {
  "kernelspec": {
   "display_name": "Java",
   "language": "java",
   "name": "java"
  },
  "language_info": {
   "codemirror_mode": "java",
   "file_extension": ".jshell",
   "mimetype": "text/x-java-source",
   "name": "Java",
   "pygments_lexer": "java",
   "version": "11.0.8+10-LTS"
  }
 },
 "nbformat": 4,
 "nbformat_minor": 5
}
