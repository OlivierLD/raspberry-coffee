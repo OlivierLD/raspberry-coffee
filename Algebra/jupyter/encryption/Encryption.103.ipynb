{
 "cells": [
  {
   "cell_type": "markdown",
   "id": "02a080fa-33fc-454d-a008-b01a2e4a16e5",
   "metadata": {},
   "source": [
    "[Previous Section](./Encryption.102.ipynb)\n",
    "\n",
    "---"
   ]
  },
  {
   "cell_type": "markdown",
   "id": "b20dfce1-491d-487a-a3a9-35920ac68abb",
   "metadata": {},
   "source": [
    "# Encryption 3 - RSA\n",
    "\n",
    "This introduces the concept of public and private keys... Vast topic indeed!\n",
    "\n",
    "Ronald **Ri**ivest, Adi **S**hamir, Leonard **A**dleman.\n",
    "\n",
    "## Summary\n",
    "- [Pre-requisites](#Pre-requisites)\n",
    "- [In short](#in-short)\n",
    "- [In details](#in-details)\n",
    "  - Implementing utilities\n",
    "  - P, Q, E, and D numbers\n",
    "  - RSA utilities\n",
    "- [For real, on one character](#For-real,-on-one-character)\n",
    "- [For real, on a message](#For-real,-on-a-message)\n",
    "- [Dependencies](#Dependencies)\n",
    "\n",
    "### Pre-requisites\n",
    "To understand what we are going to present here, you need to be somewhat familiar with the following concepts:  \n",
    "- [One-way functions](https://en.wikipedia.org/wiki/One-way_function)\n",
    "- Prime numbers\n",
    "- [Big Integer](https://docs.oracle.com/javase/8/docs/api/?java/math/BigInteger.html)s\n",
    "  - We are going to have to deal with **_very big_** integer numbers, going way beyond the Java `Integer.MAX_VALUE`, or even the `Long.MAX_VALUE`... The `java.math.BigInteger` class has been created for this kind of context, and if we consider the methods it implements, it sounds like it could have been implemented for this very kind of encryption context..."
   ]
  },
  {
   "cell_type": "markdown",
   "id": "9a545eb4-b119-4a51-ad72-dc4100b1eecc",
   "metadata": {},
   "source": [
    "## In short\n",
    "The idea here is to avoid the several message round trips we've seen before, with several layers of encoding.  \n",
    "To do so, the concept of public and private key will be introduced.  \n",
    "\n",
    "A message will be encoded with one key, and decoded with another one.\n",
    "\n",
    "If - let's say - Bernard wants to send a message to Alice, he will use - to encrypt his message - a _**public key**_, published by Alice, in some kind of phone book.  \n",
    "In order to decrypt Bernard's message, Alice will use her _**private key**_ - kept secret.  \n",
    "\n",
    "A first question would be   \n",
    "\"_why can't Bernard's message be decrypted with the key used to encrypt it?_\"  \n",
    "A first answer would be  \n",
    "\"_Because this encryption is using - on purpose - one-way functions._\"  \n",
    "\n",
    "A function is an \"operation\" that transforms `Number A` into `Number B`. **One-way functions** are functions that do **not** let you deduct the value of `Number A`, if you only have `Number B`.\n",
    "\n",
    "_Example_:  \n",
    "The `square` function is _not_ a one-way function. For `square`, the function `f(x)` is defined as \n",
    "$$f(x) = x^2$$\n",
    "If you're told that `f(x) = 9`, you can definitely deduct that `x = 3`. You use the `square root` function, which is the reciprocal function of `square`.\n",
    "\n",
    "Now, let's take the `modulo` function, considered as a one-way function. This one has several definitions, a good one could be:  \n",
    "`modulo(x, y)` (also noted `x modulo y`) is the remainder of the division of `x` by `y`.  \n",
    "`13 modulo 5` is equal to `3`.  \n",
    "If we consider here `5` as the encryption key, then the character `13` would be encryted as `3`.  \n",
    "But how to decrypt it without a doubt?  \n",
    "`13 modulo 5` is equal to `3`, but so are `93 modulo 5`, `618 modulo 5`, ... etc.  \n",
    "To decrypt a message encoded with such a one-way function, you would need to do a big number of tests to reach an approximate solution.  \n",
    "That is the context. This approach is not 100% uncrackable, but it requires such an amount of work to crack it that it can be considered as safe.\n",
    "\n",
    "As we will see, the _private key_ depends on the value of the _public key_, obviously. And you would see how this dependency is coded.  \n",
    "This document will only illustrate the way it works. Deeper details can be found in other documents."
   ]
  },
  {
   "cell_type": "markdown",
   "id": "2781af4b-d662-4097-b2a9-c09f70172e97",
   "metadata": {},
   "source": [
    "## In details\n",
    "First, we are going to implement to utility methods, that will be used all over the place."
   ]
  },
  {
   "cell_type": "code",
   "execution_count": 1,
   "id": "0cd37abb-9ab0-446a-af1a-ca8a1dbf0dae",
   "metadata": {},
   "outputs": [
    {
     "name": "stdout",
     "output_type": "stream",
     "text": [
      "499 is prime.\n",
      "1789 is prime.\n",
      "437 is not prime.\n"
     ]
    }
   ],
   "source": [
    "import java.text.NumberFormat;\n",
    "import java.util.stream.Collectors;\n",
    "\n",
    "public class PrimeNumbers {\n",
    "\n",
    "    public enum OutputOption {\n",
    "        NONE, HTML, MARKDOWN, LATEX\n",
    "    }\n",
    "\n",
    "    private final static boolean VERBOSE = false; // Change at will\n",
    "\n",
    "    private static void addToMap(Map<Integer, Integer> primeMap, int n) {\n",
    "        primeMap.merge(n, 1, Integer::sum);\n",
    "    }\n",
    "    \n",
    "    public static Map<Integer, Integer> primeFactors(int n) {\n",
    "        Map<Integer, Integer> primeMap = new HashMap<>();\n",
    "\n",
    "        // Print the number of 2s that divides n\n",
    "        while (n % 2 == 0) {\n",
    "            if (VERBOSE) {\n",
    "                System.out.print(2 + \" \");\n",
    "            }\n",
    "            addToMap(primeMap, 2);\n",
    "            n /= 2;\n",
    "        }\n",
    "\n",
    "        // n must be odd at this point.  So we can skip one element (Note i = i + 2)\n",
    "        for (int i = 3; i <= Math.sqrt(n); i += 2) {\n",
    "            // While i divides n, print i and divide n\n",
    "            while (n % i == 0) {\n",
    "                if (VERBOSE) {\n",
    "                    System.out.print(i + \" \");\n",
    "                }\n",
    "                addToMap(primeMap, i);\n",
    "                n /= i;\n",
    "            }\n",
    "        }\n",
    "\n",
    "        // This condition is to handle the case when n is a prime number greater than 2\n",
    "        if (n > 2) {\n",
    "            if (VERBOSE) {\n",
    "                System.out.print(n);\n",
    "            }\n",
    "            addToMap(primeMap, n);\n",
    "        }\n",
    "        if (VERBOSE) {\n",
    "            System.out.println();\n",
    "        }\n",
    "        return primeMap;\n",
    "    }\n",
    "\n",
    "    public static String spitMapOut(int value, Map<Integer, Integer> primeMap) {\n",
    "        return spitMapOut(value, primeMap, OutputOption.NONE);\n",
    "    }\n",
    "    \n",
    "    public static String spitMapOut(int value, Map<Integer, Integer> primeMap, OutputOption outputOption) {\n",
    "        final String collected = primeMap.keySet()\n",
    "                .stream().map(prime -> {\n",
    "                    String output;\n",
    "                    switch (outputOption) {\n",
    "                        case MARKDOWN:\n",
    "                        case HTML:\n",
    "                            output = String.format(\"(%d<sup>%d</sup>)\", prime, primeMap.get(prime));\n",
    "                            break;\n",
    "                        case LATEX:\n",
    "                            output = String.format(\"(%d^{%d})\", prime, primeMap.get(prime));\n",
    "                            break;\n",
    "                        case NONE:\n",
    "                        default:\n",
    "                            output = String.format(\"(%d^%d)\", prime, primeMap.get(prime));\n",
    "                    }\n",
    "                    return output;\n",
    "                })\n",
    "                .collect(Collectors.joining((outputOption == OutputOption.MARKDOWN || outputOption == OutputOption.HTML) ?\n",
    "                        \" &times; \" :\n",
    "                        (outputOption == OutputOption.LATEX ? \" \\\\times \" : \" x \")));\n",
    "        String finalResult;\n",
    "        switch (outputOption) {\n",
    "            case MARKDOWN:\n",
    "                finalResult = String.format(\"`%s = %s`\", NumberFormat.getInstance().format(value) ,collected);\n",
    "                break;\n",
    "            case HTML:\n",
    "                finalResult = String.format(\"<code>%s = %s</code>\", NumberFormat.getInstance().format(value) ,collected);\n",
    "                break;\n",
    "            case LATEX:\n",
    "                finalResult = String.format(\"$ %s = %s $\", NumberFormat.getInstance().format(value) ,collected);\n",
    "                break;\n",
    "            case NONE:\n",
    "            default:\n",
    "                finalResult = String.format(\"%s = %s\", NumberFormat.getInstance().format(value) ,collected);\n",
    "        }\n",
    "        return finalResult;\n",
    "    }\n",
    "    \n",
    "    public static int pgcd(int n1, int n2) {\n",
    "        while (n1 != n2) {\n",
    "            if (n1 > n2) {\n",
    "                n1 -= n2;\n",
    "            } else {\n",
    "                n2 -= n1;\n",
    "            }\n",
    "        }\n",
    "        return n2;\n",
    "    }\n",
    "\n",
    "    public static boolean isPrime(long num) {\n",
    "        boolean isPrime = false;\n",
    "        int count = 0;\n",
    "        // Check for divisibility from 2 up to i/2\n",
    "        for (int j = 2; j <= num / 2; j++) {\n",
    "            if (num % j == 0) {\n",
    "                count++;  // Increment if 'num' is divisible by 'j'\n",
    "                break;    // Exit loop if a divisor is found. We don't need more than one.\n",
    "            }\n",
    "        }\n",
    "        // If the count is 0, 'i' is prime\n",
    "        if (count == 0) {\n",
    "            isPrime = true;\n",
    "        }\n",
    "        return isPrime;\n",
    "    }\n",
    "}\n",
    "// Examples\n",
    "List<Long> list = List.of(499L, 1789L, 437L);\n",
    "list.forEach(n -> System.out.printf(\"%d is%s prime.\\n\", n, PrimeNumbers.isPrime(n) ? \"\" : \" not\"));"
   ]
  },
  {
   "cell_type": "markdown",
   "id": "624adc80-c4d2-4a0c-ba48-26e8fad5175a",
   "metadata": {},
   "source": [
    "We are going to use several numbers here, named `P`, `Q`, `E`, and `D`.  \n",
    "`E` will be the **public key** (along with `N`, which is `P x Q`).  \n",
    "`D` will be the **private key** (along with `N` too).  \n",
    "`P` and `Q` will be used to bridge those two keys together, we will see how, what to publish, what to keep secret.  \n",
    "Let's start with `P`, `Q`, and `E`."
   ]
  },
  {
   "cell_type": "code",
   "execution_count": 2,
   "id": "6fb3fa21-17c6-4442-90ab-565f056ea550",
   "metadata": {},
   "outputs": [],
   "source": [
    "long aliceP = 127;\n",
    "long aliceQ = 499;\n",
    "long aliceE = 23_801;"
   ]
  },
  {
   "cell_type": "markdown",
   "id": "989071f5-26dc-4d62-89a6-7e38f5e020ea",
   "metadata": {},
   "source": [
    "The value of `E` strongly depends on the values of `P`, `Q`, and `D`.\n",
    "We will see how later.  \n",
    "First we define again some utility methods."
   ]
  },
  {
   "cell_type": "code",
   "execution_count": 3,
   "id": "2a7c61a0-386b-4129-a44f-4976f9a02167",
   "metadata": {},
   "outputs": [],
   "source": [
    "public class RSAUtils {\n",
    "    \n",
    "    public static boolean checkPQE(long p, long q, long e) {\n",
    "        long D = findD(p, q, e);\n",
    "        long phi = (p - 1) * (q - 1);\n",
    "        return ((e * D) % phi) == 1;\n",
    "    }\n",
    "\n",
    "    public static boolean checkPhiDCoprime(long p, long q, long e) {\n",
    "        long D = findD(p, q, e);\n",
    "        long phi = (p - 1) * (q - 1);\n",
    "\n",
    "        long pgcdPhiD = PrimeNumbers.pgcd((int)D, (int)phi);\n",
    "        if (pgcdPhiD != 1) {\n",
    "            System.out.printf(\"PGCD D, \\u03D5 (%d, %d) : %d => %s\\n\", D, phi, pgcdPhiD, (pgcdPhiD == 1) ? \"good\" :\n",
    "                    String.format(\"not good, \\u03D5 => %s, D => %s\", \n",
    "                                  PrimeNumbers.spitMapOut((int)phi, \n",
    "                                  PrimeNumbers.primeFactors((int)phi)), \n",
    "                                  PrimeNumbers.spitMapOut((int)D, PrimeNumbers.primeFactors((int)D))));\n",
    "        }\n",
    "        return (pgcdPhiD == 1);\n",
    "    }\n",
    "\n",
    "    /**\n",
    "     * Calculate the Private Key\n",
    "     * TODO Might need tuning...\n",
    "     *\n",
    "     * See https://www.geeksforgeeks.org/how-to-solve-rsa-algorithm-problems/#\n",
    "     *\n",
    "     * @param p\n",
    "     * @param q\n",
    "     * @param e\n",
    "     * @return the private key for p, q, e\n",
    "     */\n",
    "    public static long findD(long p, long q, long e) {\n",
    "        long phi = (p - 1) * (q - 1);\n",
    "        // To solve => (e * d) % ((p - 1) * (q - 1)) = 1\n",
    "        //          => (e * d) % phi = 1\n",
    "        // pgcd(phi, d) = 1\n",
    "        boolean found = false;\n",
    "        long D = 1;\n",
    "        while (!found) { // TODO there must be a better way... This one can loop forever.\n",
    "            long x = (e * D) % phi;\n",
    "            if (x == 1) {\n",
    "                found = true;\n",
    "            } else {\n",
    "                D++;\n",
    "            }\n",
    "        }\n",
    "        long d = D;\n",
    "\n",
    "        return d;\n",
    "    }\n",
    "\n",
    "    /**\n",
    "     * A Test...\n",
    "     * Find a list of possible private keys for the context (p, q, e).\n",
    "     * Stops when the value Integer.MAX_VALUE is reached for the key.\n",
    "     * (it could be more, .ike Long.MAX_VALUE)\n",
    "     */\n",
    "    public static List<Long> findDList(long p, long q, long e) {\n",
    "        List<Long> dList = new ArrayList<>();\n",
    "\n",
    "        long phi = (p - 1) * (q - 1);\n",
    "        // To solve => (e * d) % ((p - 1) * (q - 1)) = 1\n",
    "        //          => (e * d) % phi = 1\n",
    "        // pgcd(phi, d) = 1\n",
    "        long D = 1;\n",
    "        while (true) {\n",
    "            long x = (e * D) % phi;\n",
    "            if (x == 1) {\n",
    "                dList.add(D);\n",
    "            }\n",
    "            D++;\n",
    "            // if (D == Long.MAX_VALUE) {\n",
    "            if (D == Integer.MAX_VALUE) {\n",
    "                // Enough!... Exit loop.\n",
    "                break;\n",
    "            }\n",
    "        }\n",
    "        return dList;\n",
    "    }\n",
    "\n",
    "    public static int encodeWithPublicKey(long pkE, long pkN, int toEncode) {\n",
    "        // Produce (toEncode ^ pkE) % pkN\n",
    "        int encoded = (int)BigInteger.valueOf(toEncode).modPow(BigInteger.valueOf(pkE), BigInteger.valueOf(pkN)).longValue();\n",
    "        return encoded;\n",
    "    }\n",
    "    public static int decodeWithPrivateKey(long N, int privateKey, int toDecode) {\n",
    "        int decryptedCharacter = (int)BigInteger.valueOf(toDecode).modPow(BigInteger.valueOf(privateKey), \n",
    "                                                                          BigInteger.valueOf(N)).longValue();\n",
    "        return decryptedCharacter;\n",
    "    }\n",
    "    public static int decodeWithPrivateKey(long pkP, long pkQ, int privateKey, int toDecode) {\n",
    "        long N = pkP * pkQ;\n",
    "        return decodeWithPrivateKey(N, privateKey, toDecode);\n",
    "    }\n",
    "}"
   ]
  },
  {
   "cell_type": "markdown",
   "id": "fd9c4ee6-df47-4e5c-981b-7f990f8aad6a",
   "metadata": {},
   "source": [
    "Here we do some checks on the numbers"
   ]
  },
  {
   "cell_type": "code",
   "execution_count": 4,
   "id": "d55f0a77-5d64-4ccf-b61f-f1423394b1a4",
   "metadata": {},
   "outputs": [
    {
     "name": "stdout",
     "output_type": "stream",
     "text": [
      "P (127) is prime\n",
      "Q (499) is prime\n",
      "E is prime.\n",
      "(E * D) mod ϕ = 1 ? true\n",
      "ϕ & D coprimes ? true\n",
      "Alice P x Q (aka N) = 63373: 63,373 = (499^1) x (127^1)\n"
     ]
    }
   ],
   "source": [
    "if (PrimeNumbers.isPrime(aliceP)) {\n",
    "    System.out.printf(\"P (%d) is prime\\n\", aliceP);\n",
    "} else {\n",
    "    System.out.printf(\"P (%d) is not prime. Aborting.\\n\", aliceP);\n",
    "    System.exit(1);\n",
    "}\n",
    "if (PrimeNumbers.isPrime(aliceQ)) {\n",
    "    System.out.printf(\"Q (%d) is prime\\n\", aliceQ);\n",
    "} else {\n",
    "    System.out.printf(\"Q (%d) is not prime. Aborting.\\n\", aliceQ);\n",
    "    System.exit(1);\n",
    "}\n",
    "System.out.printf(\"E is%s prime.\\n\", PrimeNumbers.isPrime(aliceE) ? \"\" : \" not\");\n",
    "\n",
    "// We need D and ((p-1) x (q-1)) to be relative primes (aka coprimes)\n",
    "boolean okCombo = RSAUtils.checkPQE(aliceP, aliceQ, aliceE);\n",
    "System.out.printf(\"(E * D) mod \\u03D5 = 1 ? %b\\n\", okCombo);\n",
    "okCombo = RSAUtils.checkPhiDCoprime(aliceP, aliceQ, aliceE);\n",
    "System.out.printf(\"\\u03D5 & D coprimes ? %b\\n\", okCombo);\n",
    "\n",
    "// For the fun:\n",
    "long alicePxQ = aliceP * aliceQ; // aka N\n",
    "System.out.printf(\"Alice P x Q (aka N) = %d: %s\\n\", \n",
    "                  alicePxQ, \n",
    "                  PrimeNumbers.spitMapOut((int)alicePxQ, \n",
    "                  PrimeNumbers.primeFactors((int)alicePxQ)));\n",
    "\n",
    "long aliceN = alicePxQ;"
   ]
  },
  {
   "cell_type": "markdown",
   "id": "9a37bcb5-43d9-4345-92ab-2f9f2e265a03",
   "metadata": {},
   "source": [
    "The two last methods of the class above are the keys of the process.  \n",
    "Notice that both are using those Java `BigInteger`s, designed to deal with big numbers.  \n",
    "Example:  \n",
    "```\n",
    "113 ^ 299 = 74208662054133427430283419284630423723086083250033980006048918082537216631039587269444325772963254321076798307775448236311678557274583841862495881031902103010966562227701461830001062437864235122845116992578539021526146447458066104183901983341715123850829323813213473167098640830428045766344873505056217088306739646383872867467058792684380293422334734506561634457828965683119038291079600349606340831612296147306892972691946313324059175658369615316424548699131445180263713472433919716056946934952847250285015852255572449823623047333743607992303288103494083536172706308350987589068481774411769548648147078635328244177\n",
    "```\n",
    "This number has 614 digits... Way beyond the capacity of a regular Java `Long`!\n",
    "\n",
    "As seen above, we've done some checks:\n",
    "- Are `P` and `Q` prime numbers?\n",
    "  \n",
    "We've defined a number named &phi; as `(P - 1) x (Q - 1)`  \n",
    "\n",
    "- Is `(E * D) mod ϕ` equal to `1`?\n",
    "- Are ϕ and D coprimes (is their PGCD equal to 1)?\n",
    "\n",
    "And we've defined a number named `N`, as `P x Q`."
   ]
  },
  {
   "cell_type": "markdown",
   "id": "58942397-82d4-40fa-a01e-d9855bcfe1f3",
   "metadata": {},
   "source": [
    "## For real, on one character\n",
    "OK, it's give to give it a go.  \n",
    "Let us **ENCODE** a character, like - let's say - `X`.  \n",
    "Bernard wants to send Alice an `X`.  \n",
    "\n",
    "### Encryption\n",
    "As said before, Alice has published her **public key** into some phone book, where Bernard can find it. This key is the tuple `(E, N)`, in our present case, `(23_801, 127 x 499)`, which is `(23_801, 63_373)`."
   ]
  },
  {
   "cell_type": "code",
   "execution_count": 5,
   "id": "9c91d8b4-ef66-47c5-b038-5747192ac09e",
   "metadata": {},
   "outputs": [
    {
     "name": "stdout",
     "output_type": "stream",
     "text": [
      "Character to encrypt: 88\n",
      "Encryption : 88 (X) => 8,397\n"
     ]
    },
    {
     "data": {
      "text/plain": [
       "java.io.PrintStream@240df2dc"
      ]
     },
     "execution_count": 5,
     "metadata": {},
     "output_type": "execute_result"
    }
   ],
   "source": [
    "int characterToEncrypt = (int)'X';\n",
    "System.out.printf(\"Character to encrypt: %d\\n\", characterToEncrypt);\n",
    "//\n",
    "int encryptedWithPublicKey = RSAUtils.encodeWithPublicKey(aliceE, aliceN, characterToEncrypt);\n",
    "System.out.printf(\"Encryption : %s (%c) => %s\\n\",\n",
    "        NumberFormat.getInstance().format(characterToEncrypt),\n",
    "        characterToEncrypt,\n",
    "        NumberFormat.getInstance().format(encryptedWithPublicKey));"
   ]
  },
  {
   "cell_type": "markdown",
   "id": "36fdbe67-0cf7-4d05-b59d-5a2c436a691d",
   "metadata": {},
   "source": [
    "So, the `X` Bernard wants to send to Alice has been encrypted as `44021`. He sends this number to Alice.  \n",
    "\n",
    "### Decryption\n",
    "Alice receive this `8397`, she now needs to decrypt (or **DECODE**) it."
   ]
  },
  {
   "cell_type": "code",
   "execution_count": 6,
   "id": "fe420b68-4318-436c-8027-086e32bc7700",
   "metadata": {},
   "outputs": [
    {
     "name": "stdout",
     "output_type": "stream",
     "text": [
      "Encrypted: 8,397, decrypted: 88 (X)\n"
     ]
    },
    {
     "data": {
      "text/plain": [
       "java.io.PrintStream@240df2dc"
      ]
     },
     "execution_count": 6,
     "metadata": {},
     "output_type": "execute_result"
    }
   ],
   "source": [
    "int privateKeyD = (int)RSAUtils.findD(aliceP, aliceQ, aliceE); // Private key\n",
    "int decryptedWithPrivateKey = RSAUtils.decodeWithPrivateKey(aliceP, aliceQ, privateKeyD, encryptedWithPublicKey);\n",
    "System.out.printf(\"Encrypted: %s, decrypted: %s (%c)\\n\",\n",
    "        NumberFormat.getInstance().format(encryptedWithPublicKey),\n",
    "        NumberFormat.getInstance().format(decryptedWithPrivateKey),\n",
    "        decryptedWithPrivateKey);"
   ]
  },
  {
   "cell_type": "markdown",
   "id": "26d5c2b9-5cb0-42ab-9cde-0ed32d3b3441",
   "metadata": {},
   "source": [
    "We're now back to the original message, `X`.  \n",
    "\n",
    "### How it went\n",
    "Let's at the two processes, more in details...  \n",
    "\n",
    "#### The encryption process\n",
    "if `x` is the character to encode, with `E` and `N`, both parts of the public key (with `N` = `P x Q`), the encoding is done by the formula\n",
    "<!--```\n",
    "enc = (x ^ E) mod N\n",
    "```-->\n",
    "$$\n",
    "enc = (x^E) mod N\n",
    "$$\n",
    "Notice that:\n",
    "- This is a one-way function\n",
    "- As such, even if to know that you start from `x`, to finish with `enc`, even if you know the generic formula, finding the right values for `E` and `N` is going to be at least very difficult, and for sure very long.\n",
    "\n",
    "#### The decryption process\n",
    "This is where - to avoid the difficult and long process we just talked about - Alice is going to use her **private key**.  \n",
    "This private key can be carefully stored by Alice, and it can also be recomputed, with the values of `P`, `Q`, and `E`.  \n",
    "If we call this private key `D`, then `D` must satisfy the following:\n",
    "$$\n",
    "(E . D) mod ((P - 1) . (Q - 1)) = 1\n",
    "$$\n",
    "If, as before, we call &phi; the value of `((P - 1) x (Q - 1))`, we can write\n",
    "$$\n",
    "(E . D) mod \\phi = 1\n",
    "$$\n",
    "And also, `D` and &phi; are coprime (their PGCD is equal to `1`).\n",
    "\n",
    "In our very case, `D` is equal to `23`. Let's verify if it matches what we said.  \n",
    "We have:\n",
    "```\n",
    "P = 127\n",
    "Q = 499\n",
    "E = 23,801\n",
    "```"
   ]
  },
  {
   "cell_type": "code",
   "execution_count": 7,
   "id": "c71ba5a9-7aa5-4d78-ad61-a1818333ba1c",
   "metadata": {},
   "outputs": [
    {
     "name": "stdout",
     "output_type": "stream",
     "text": [
      "Modulo: 1, good!\n",
      "PGCD(D, ϕ) = 1, good!\n"
     ]
    },
    {
     "data": {
      "text/plain": [
       "java.io.PrintStream@240df2dc"
      ]
     },
     "execution_count": 7,
     "metadata": {},
     "output_type": "execute_result"
    }
   ],
   "source": [
    "long P = 127;\n",
    "long Q = 499;\n",
    "long E = 23_801; // The public key\n",
    "\n",
    "long D = 29; // The private key to verify\n",
    "\n",
    "long PHI = ((P - 1) * (Q - 1));\n",
    "\n",
    "long modulo = BigInteger.valueOf(E).multiply(BigInteger.valueOf(D)).mod(BigInteger.valueOf(PHI)).longValue();\n",
    "System.out.printf(\"Modulo: %d, %s\\n\", modulo, (modulo == 1) ? \"good!\" : \"Oops...\");\n",
    "\n",
    "\n",
    "long pgcdPhiD = PrimeNumbers.pgcd((int)D, (int)PHI);\n",
    "System.out.printf(\"PGCD(D, \\u03D5) = %d, %s\\n\", pgcdPhiD, (pgcdPhiD == 1) ? \"good!\" : \"Oops...\");"
   ]
  },
  {
   "cell_type": "markdown",
   "id": "6444510d-c56d-46cc-bea6-94e6546fe0b6",
   "metadata": {},
   "source": [
    "Those verifications are the ones performed by the methods `checkPQE` and `checkPhiDCoprime`, in the `RSAUtils` class.  \n",
    "We can now tell that `23` is a valid value for our private key. It is certainly not the only one to fullfill those requirements!  \n",
    "And this is also the reason to keep it secret.\n",
    "\n",
    "To decode a character `enc`, with the private key (`E`, `N`), we apply the formula\n",
    "$$\n",
    " x = (enc ^ E) mod N\n",
    "$$\n"
   ]
  },
  {
   "cell_type": "code",
   "execution_count": 8,
   "id": "7282b38c-2449-49a3-b34a-580405140b7e",
   "metadata": {},
   "outputs": [
    {
     "name": "stdout",
     "output_type": "stream",
     "text": [
      "Encrypted: 8397, Decrypted: 88\n"
     ]
    },
    {
     "data": {
      "text/plain": [
       "java.io.PrintStream@240df2dc"
      ]
     },
     "execution_count": 8,
     "metadata": {},
     "output_type": "execute_result"
    }
   ],
   "source": [
    "long enc = 8_397;\n",
    "long N = P * Q;\n",
    "\n",
    "long x = BigInteger.valueOf(enc).modPow(BigInteger.valueOf(D), BigInteger.valueOf(N)).longValue();\n",
    "System.out.printf(\"Encrypted: %d, Decrypted: %d\\n\", enc, x);"
   ]
  },
  {
   "cell_type": "markdown",
   "id": "d4baedec-22f7-43b9-8aa7-50a50f194be7",
   "metadata": {},
   "source": [
    "One last thing to notice here, is that you encode a `character` (8 bits), and end-up with an `int` or a `long`. \n",
    "The encoded message is going to take more space then the original one."
   ]
  },
  {
   "cell_type": "markdown",
   "id": "7c7a0420-f679-457c-b4a5-578eee98b6ee",
   "metadata": {},
   "source": [
    "## For real, on a message\n",
    "Basically, we are goig to do what we just did on one character, to a list of characters.  \n",
    "We start from a `String`, and we will process - as previously - all the characters it contains."
   ]
  },
  {
   "cell_type": "code",
   "execution_count": 9,
   "id": "e9ac227a-06d7-48da-b4f7-8a9a8cc12066",
   "metadata": {},
   "outputs": [],
   "source": [
    "String message = \"Hello RSA World!\";"
   ]
  },
  {
   "cell_type": "markdown",
   "id": "c2469fdc-f19d-45bb-80ce-b30714a5e6c0",
   "metadata": {},
   "source": [
    "We are going to get those characters (in a `byte[]`), and encode them, into a `List<Integer>`:"
   ]
  },
  {
   "cell_type": "code",
   "execution_count": 10,
   "id": "4a9bed47-4dc9-467c-bf7d-cb2a0b718d43",
   "metadata": {},
   "outputs": [
    {
     "name": "stdout",
     "output_type": "stream",
     "text": [
      "-- Encoding --\n",
      "Encoding (H) 72 -> 3,426\n",
      "Encoding (e) 101 -> 29,811\n",
      "Encoding (l) 108 -> 27,833\n",
      "Encoding (l) 108 -> 27,833\n",
      "Encoding (o) 111 -> 51,927\n",
      "Encoding ( ) 32 -> 12,351\n",
      "Encoding (R) 82 -> 37,110\n",
      "Encoding (S) 83 -> 11,232\n",
      "Encoding (A) 65 -> 12,778\n",
      "Encoding ( ) 32 -> 12,351\n",
      "Encoding (W) 87 -> 58,839\n",
      "Encoding (o) 111 -> 51,927\n",
      "Encoding (r) 114 -> 14,334\n",
      "Encoding (l) 108 -> 27,833\n",
      "Encoding (d) 100 -> 61,209\n",
      "Encoding (!) 33 -> 49,759\n"
     ]
    }
   ],
   "source": [
    "final byte[] bytes = message.getBytes();\n",
    "List<Integer> encoded = new ArrayList<>(); // Warning !! Those are ints ! [0..&xFF]\n",
    "\n",
    "System.out.println(\"-- Encoding --\");\n",
    "for (byte b : bytes) {\n",
    "    int encodedByte = RSAUtils.encodeWithPublicKey(aliceE, N, b);\n",
    "    System.out.printf(\"Encoding (%c) %d -> %s\\n\",\n",
    "            b, b,\n",
    "            NumberFormat.getInstance().format(encodedByte));\n",
    "    encoded.add(encodedByte);\n",
    "}"
   ]
  },
  {
   "cell_type": "markdown",
   "id": "7fbc13e4-e49d-47fd-9e33-122ec5203b46",
   "metadata": {},
   "source": [
    "Now, to decode, we will first need the private key.  \n",
    "We can get it from where we stored it, or re-calculate it, from our context."
   ]
  },
  {
   "cell_type": "code",
   "execution_count": 11,
   "id": "213567bc-2431-4a98-8dc0-57d7834b9550",
   "metadata": {},
   "outputs": [],
   "source": [
    "int privateKeyD = (int)RSAUtils.findD(aliceP, aliceQ, aliceE); // Private key"
   ]
  },
  {
   "cell_type": "markdown",
   "id": "a6162d59-26f5-45d7-9fb1-68a65ff44797",
   "metadata": {},
   "source": [
    "The private key formula can have several solutions, let's see a few of them..."
   ]
  },
  {
   "cell_type": "code",
   "execution_count": 20,
   "id": "dd197486-607f-4859-af9c-9e652b640e04",
   "metadata": {},
   "outputs": [
    {
     "name": "stdout",
     "output_type": "stream",
     "text": [
      "Possible Ds (private keys), 34224 entries (limited to 50 here...).\n",
      "\t-> 29\n",
      "\t-> 62777\n",
      "\t-> 125525\n",
      "\t-> 188273\n",
      "\t-> 251021\n",
      "\t-> 313769\n",
      "\t-> 376517\n",
      "\t-> 439265\n",
      "\t-> 502013\n",
      "\t-> 564761\n",
      "\t-> 627509\n",
      "\t-> 690257\n",
      "\t-> 753005\n",
      "\t-> 815753\n",
      "\t-> 878501\n",
      "\t-> 941249\n",
      "\t-> 1003997\n",
      "\t-> 1066745\n",
      "\t-> 1129493\n",
      "\t-> 1192241\n",
      "\t-> 1254989\n",
      "\t-> 1317737\n",
      "\t-> 1380485\n",
      "\t-> 1443233\n",
      "\t-> 1505981\n",
      "\t-> 1568729\n",
      "\t-> 1631477\n",
      "\t-> 1694225\n",
      "\t-> 1756973\n",
      "\t-> 1819721\n",
      "\t-> 1882469\n",
      "\t-> 1945217\n",
      "\t-> 2007965\n",
      "\t-> 2070713\n",
      "\t-> 2133461\n",
      "\t-> 2196209\n",
      "\t-> 2258957\n",
      "\t-> 2321705\n",
      "\t-> 2384453\n",
      "\t-> 2447201\n",
      "\t-> 2509949\n",
      "\t-> 2572697\n",
      "\t-> 2635445\n",
      "\t-> 2698193\n",
      "\t-> 2760941\n",
      "\t-> 2823689\n",
      "\t-> 2886437\n",
      "\t-> 2949185\n",
      "\t-> 3011933\n",
      "\t-> 3074681\n",
      "- Will use private key 62777\n"
     ]
    }
   ],
   "source": [
    "// Optional step.\n",
    "boolean seePrivateKeyList = true; // Set to false at will...\n",
    "if (seePrivateKeyList) {\n",
    "    final List<Long> dList = RSAUtils.findDList(aliceP, aliceQ, aliceE); // Limited to Integer.MAX_VALUE !!\n",
    "    System.out.printf(\"Possible Ds (private keys), %d entries (limited to 50 here...).\\n\", dList.size());\n",
    "    dList.stream()\n",
    "            .limit(50) // Limited to 50 items !!\n",
    "            .forEach(k -> System.out.printf(\"\\t-> %d\\n\", k));\n",
    "    // Let's try to use the second one...\n",
    "    privateKeyD = (int)dList.get(1).longValue();\n",
    "    System.out.printf(\"- Will use private key %d\\n\", privateKeyD);\n",
    "}"
   ]
  },
  {
   "cell_type": "markdown",
   "id": "5481f73e-cdcd-4059-bf3f-e47dfb1618d3",
   "metadata": {},
   "source": [
    "Now, we can process to decryption"
   ]
  },
  {
   "cell_type": "code",
   "execution_count": 13,
   "id": "9ee238d4-65bd-47e7-8153-ebf82f9648da",
   "metadata": {},
   "outputs": [
    {
     "name": "stdout",
     "output_type": "stream",
     "text": [
      "-- Decoding --\n",
      "Decoded: 3,426 => 72 (H)\n",
      "Decoded: 29,811 => 101 (e)\n",
      "Decoded: 27,833 => 108 (l)\n",
      "Decoded: 27,833 => 108 (l)\n",
      "Decoded: 51,927 => 111 (o)\n",
      "Decoded: 12,351 => 32 ( )\n",
      "Decoded: 37,110 => 82 (R)\n",
      "Decoded: 11,232 => 83 (S)\n",
      "Decoded: 12,778 => 65 (A)\n",
      "Decoded: 12,351 => 32 ( )\n",
      "Decoded: 58,839 => 87 (W)\n",
      "Decoded: 51,927 => 111 (o)\n",
      "Decoded: 14,334 => 114 (r)\n",
      "Decoded: 27,833 => 108 (l)\n",
      "Decoded: 61,209 => 100 (d)\n",
      "Decoded: 49,759 => 33 (!)\n"
     ]
    }
   ],
   "source": [
    "System.out.println(\"-- Decoding --\");\n",
    "List<Byte> decoded = new ArrayList<>();\n",
    "encoded.stream().forEach(enc -> {\n",
    "    byte decodedByte = (byte)RSAUtils.decodeWithPrivateKey(N, privateKeyD, enc); // N = P x Q\n",
    "    System.out.printf(\"Decoded: %s => %d (%c)\\n\",\n",
    "            NumberFormat.getInstance().format(enc),\n",
    "            decodedByte,\n",
    "            decodedByte);\n",
    "    decoded.add(decodedByte);\n",
    "});"
   ]
  },
  {
   "cell_type": "markdown",
   "id": "ffb6f6bd-1574-4ae5-80d6-7cd9f0802de2",
   "metadata": {},
   "source": [
    "Having done that, we can display the decrypted message, as a `String` produce from a `byte` array!"
   ]
  },
  {
   "cell_type": "code",
   "execution_count": 14,
   "id": "dddbbecf-4b2d-4a13-a623-f313a356b1fb",
   "metadata": {},
   "outputs": [
    {
     "name": "stdout",
     "output_type": "stream",
     "text": [
      "\n",
      "Final message, decoded: [Hello RSA World!]\n"
     ]
    },
    {
     "data": {
      "text/plain": [
       "java.io.PrintStream@240df2dc"
      ]
     },
     "execution_count": 14,
     "metadata": {},
     "output_type": "execute_result"
    }
   ],
   "source": [
    "byte[] decodedBA = new byte[decoded.size()];\n",
    "for (int i=0; i<decoded.size(); i++) {\n",
    "    decodedBA[i] = decoded.get(i).byteValue();\n",
    "}\n",
    "System.out.printf(\"\\nFinal message, decoded: [%s]\\n\", new String(decodedBA));"
   ]
  },
  {
   "cell_type": "markdown",
   "id": "8cc112f1-72ce-4558-aa5c-d598b18c4e09",
   "metadata": {},
   "source": [
    "## Dependencies\n",
    "Here we explain (as we did before) how `P`, `Q`, `E`, and `D`, depend on each other.\n",
    "\n",
    "We implement a class `ToolBox`, implementing a `findCandidateE` method, that might be able to suggest a valid public key for a given context."
   ]
  },
  {
   "cell_type": "code",
   "execution_count": 15,
   "id": "e3844821-6fe6-4c11-9f84-6f6cf06bc9af",
   "metadata": {},
   "outputs": [],
   "source": [
    "class ToolBox {\n",
    "    /**\n",
    "     * Find a list of candidate public keys E\n",
    "     * Careful... Might loop forever (findD)...\n",
    "     * @param p\n",
    "     * @param q\n",
    "     * @param tentativeD\n",
    "     * @return\n",
    "     */\n",
    "    public static List<Long> findCandidateE(long p, long q, long tentativeD) {\n",
    "        List<Long> suggestions = new ArrayList<>();\n",
    "        final int NB_KEYS = 10;\n",
    "\n",
    "        // phi & d, coprime\n",
    "        long phi = (p - 1) * (q - 1);\n",
    "\n",
    "        long D = tentativeD; // the private key. Can be any int.\n",
    "\n",
    "        long pgcdPhiD = PrimeNumbers.pgcd((int)D, (int)phi);\n",
    "        if (pgcdPhiD != 1) {\n",
    "            throw new RuntimeException(String.format(\"Bad combination, GCD = %d, \\u03D5 => %s, D => %s\", pgcdPhiD,\n",
    "                    spitMapOut((int)phi, primeFactors((int)phi)), spitMapOut((int)D, primeFactors((int)D))));\n",
    "        }\n",
    "        // (E × D) mod Ø(n) = 1\n",
    "        // Loop on E...\n",
    "        long E = 0;\n",
    "        boolean ok; // = ((E * D) % phi) == 1;\n",
    "        while (suggestions.size() < NB_KEYS) {\n",
    "            E += 1;\n",
    "            ok = ((E * D) % phi) == 1;\n",
    "            if (E == Long.MAX_VALUE) {\n",
    "                System.out.printf(\"E reached value %d, Exiting.\", Long.MAX_VALUE);\n",
    "                break;\n",
    "            }\n",
    "            if (ok) {\n",
    "                suggestions.add(E);\n",
    "                // We need (E × D) mod Ø(n) = 1\n",
    "                long modulo = (E * D) % phi;\n",
    "                System.out.printf(\"\\tFor E = %d, modulo = %d\\n\", E, modulo);\n",
    "\n",
    "                long key = RSAUtils.findD(p, q, E); // Find Private Key D, with Public Key E\n",
    "                System.out.printf(\"\\t\\tp=%d, q=%d, E=%d, make a D key: %d\\n\", p, q, E, key);\n",
    "            }\n",
    "        }\n",
    "        System.out.printf(\"Exit the loop with E = %d, and size = %d\\n\", E, suggestions.size());\n",
    "\n",
    "        return suggestions; // E;\n",
    "    }\n",
    "}"
   ]
  },
  {
   "cell_type": "markdown",
   "id": "c42931ff-e040-4d1b-9432-a78ae36b47cb",
   "metadata": {},
   "source": [
    "Let's see how it works in our previous context"
   ]
  },
  {
   "cell_type": "code",
   "execution_count": 16,
   "id": "0af54b4b-6a2a-4357-a89a-827b32808cf6",
   "metadata": {},
   "outputs": [
    {
     "name": "stderr",
     "output_type": "stream",
     "text": [
      "jdk.jshell.spi.SPIResolutionException: resolution exception\n",
      "\tat REPL.$JShell$64$ToolBox.findCandidateE($JShell$64.java:19)\n",
      "\tat REPL.$JShell$68.do_it$($JShell$68.java:19)\n",
      "\tat java.base/jdk.internal.reflect.NativeMethodAccessorImpl.invoke0(Native Method)\n",
      "\tat java.base/jdk.internal.reflect.NativeMethodAccessorImpl.invoke(NativeMethodAccessorImpl.java:62)\n",
      "\tat java.base/jdk.internal.reflect.DelegatingMethodAccessorImpl.invoke(DelegatingMethodAccessorImpl.java:43)\n",
      "\tat java.base/java.lang.reflect.Method.invoke(Method.java:566)\n",
      "\tat io.github.spencerpark.ijava.execution.IJavaExecutionControl.lambda$execute$1(IJavaExecutionControl.java:95)\n",
      "\tat java.base/java.util.concurrent.FutureTask.run(FutureTask.java:264)\n",
      "\tat java.base/java.util.concurrent.ThreadPoolExecutor.runWorker(ThreadPoolExecutor.java:1128)\n",
      "\tat java.base/java.util.concurrent.ThreadPoolExecutor$Worker.run(ThreadPoolExecutor.java:628)\n",
      "\tat java.base/java.lang.Thread.run(Thread.java:834)\n"
     ]
    }
   ],
   "source": [
    "long p = 127, q = 499, d = 29;\n",
    "// long p = 127, q = 499, d = 126746; // To see an error\n",
    "try {\n",
    "    List<Long> testE = ToolBox.findCandidateE(p, q, d);\n",
    "    System.out.println(\"-------\");\n",
    "    System.out.printf(\"For P: %d, Q: %d, D: %d\\n\", p, q, d);\n",
    "    testE.stream().forEach(e -> {\n",
    "        System.out.printf(\"Candidate E: %d (prime: %b)\\n\", e, PrimeNumbers.isPrime(e));\n",
    "    });\n",
    "} catch (Exception ex) {\n",
    "    ex.printStackTrace();\n",
    "}"
   ]
  },
  {
   "cell_type": "markdown",
   "id": "d82c1d12-0495-4b6e-a5da-394418426c88",
   "metadata": {},
   "source": [
    "#### And now, let's try to crack it...  \n",
    "When encoding the message, with the public key, we have `E`, and `N`.  \n",
    "- `E` is 23801\n",
    "- `N` is 63373\n",
    "\n",
    "So, let's try to hack that stuff...    \n",
    "Knowing that `N = P * Q`, and that `P` is a prime number, as well as `Q`, decomposing `N` in prime factors should give us `P` and `Q`:\n",
    "<!--```\n",
    "N 63373 => 63,373 = (499^1) x (127^1)\n",
    "```-->\n",
    "$$\n",
    " 63,373 = (499^1) . (127^1)\n",
    "$$\n",
    "\n",
    "To decode the encrypted character, we need `N` (or `P` and `Q`), and the private key, as in the signature of `decodeWithPrivateKey(long pkP, long pkQ, int privateKey, int toDecode)`. The question that remains is \"how can we get to the private key?\".\n",
    "\n",
    "The `RSAUtil.findD` method might help:"
   ]
  },
  {
   "cell_type": "code",
   "execution_count": 17,
   "id": "770ff06e-4944-4edd-b86c-d0513e616352",
   "metadata": {},
   "outputs": [
    {
     "name": "stdout",
     "output_type": "stream",
     "text": [
      "With P 127, Q 499, E 23801, found private key 29\n"
     ]
    },
    {
     "data": {
      "text/plain": [
       "java.io.PrintStream@240df2dc"
      ]
     },
     "execution_count": 17,
     "metadata": {},
     "output_type": "execute_result"
    }
   ],
   "source": [
    "final long privateK = RSAUtils.findD(P, Q, E);\n",
    "System.out.printf(\"With P %d, Q %d, E %d, found private key %d\\n\", P, Q, E, privateK);"
   ]
  },
  {
   "cell_type": "markdown",
   "id": "f89cbcb6-3420-48d5-ae09-fab08108405f",
   "metadata": {},
   "source": [
    "...Are we suppposed to find this that easily 🤔 ?\n",
    "\n",
    "From the \"Code Book\", Annex J, we have\n",
    "- E = 7\n",
    "- N = 187\n",
    "\n",
    "Those two `E` and `N` are the constituents of the public key, the one from the phone book anyone can access to encode a message for Alice.\n",
    "\n",
    "To encode the character `X` (88), we use \n",
    "$$\n",
    "enc = (88^7) mod (187) = 11\n",
    "$$\n",
    "Let's see if we can obtain `P` and `Q` from `N`:\n",
    "$$\n",
    "187 = (17^1) . (11^1)\n",
    "$$\n",
    "So `P` = 17, and `Q` = 11.\n",
    "\n",
    "Just like before, let's try this:"
   ]
  },
  {
   "cell_type": "code",
   "execution_count": 18,
   "id": "14d28a61-78ac-4fa7-9372-e3afbf0267db",
   "metadata": {},
   "outputs": [
    {
     "name": "stdout",
     "output_type": "stream",
     "text": [
      "With P 17, Q 11, E 7, found private key 23\n"
     ]
    },
    {
     "data": {
      "text/plain": [
       "java.io.PrintStream@240df2dc"
      ]
     },
     "execution_count": 18,
     "metadata": {},
     "output_type": "execute_result"
    }
   ],
   "source": [
    "P = 17;\n",
    "Q = 11;\n",
    "E = 7;\n",
    "final long newD = RSAUtils.findD(P, Q, E);\n",
    "System.out.printf(\"With P %d, Q %d, E %d, found private key %d\\n\", P, Q, E, newD);"
   ]
  },
  {
   "cell_type": "code",
   "execution_count": 19,
   "id": "3942f392-024a-4e07-bd84-69b51c18fe1c",
   "metadata": {},
   "outputs": [
    {
     "name": "stdout",
     "output_type": "stream",
     "text": [
      "Decoded character: 88\n"
     ]
    },
    {
     "data": {
      "text/plain": [
       "java.io.PrintStream@240df2dc"
      ]
     },
     "execution_count": 19,
     "metadata": {},
     "output_type": "execute_result"
    }
   ],
   "source": [
    "int dec = RSAUtils.decodeWithPrivateKey(P * Q, (int)newD, 11);\n",
    "System.out.printf(\"Decoded character: %d\\n\", dec);"
   ]
  },
  {
   "cell_type": "markdown",
   "id": "e231efe0-1033-4e15-9620-8bf549214b87",
   "metadata": {},
   "source": [
    "The private key we've just found is `23`. It happens to be the right one, and the decoded character happens to be `88`, which is right too.  \n",
    "Mmmh... We just cracked it 🤔.  \n",
    "\n",
    "\n",
    "See this [geeksforgeeks](https://www.geeksforgeeks.org/how-to-solve-rsa-algorithm-problems/) to test this...  \n",
    "Also this [good paper](https://cybertalents.com/blog/rsa-encryption#:~:text=These%20are%20some%20real%2Dworld,Securing%20P2P%20data%20transfer.)\n",
    "More soon here."
   ]
  },
  {
   "cell_type": "markdown",
   "id": "f903e9b3-97bd-4e99-83c9-f06bb348b657",
   "metadata": {},
   "source": [
    "---\n",
    "No next section (yet).\n",
    "<!-- [Next Section](./Encryption.104.ipynb) -->"
   ]
  },
  {
   "cell_type": "code",
   "execution_count": null,
   "id": "9045cd44-393f-4d50-a278-ddd9501d5c7a",
   "metadata": {},
   "outputs": [],
   "source": []
  }
 ],
 "metadata": {
  "kernelspec": {
   "display_name": "Java",
   "language": "java",
   "name": "java"
  },
  "language_info": {
   "codemirror_mode": "java",
   "file_extension": ".jshell",
   "mimetype": "text/x-java-source",
   "name": "Java",
   "pygments_lexer": "java",
   "version": "11.0.8+10-LTS"
  }
 },
 "nbformat": 4,
 "nbformat_minor": 5
}
