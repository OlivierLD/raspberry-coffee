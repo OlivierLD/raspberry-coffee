{
 "cells": [
  {
   "cell_type": "markdown",
   "metadata": {},
   "source": [
    "# Sample: PGCD & PPCM, all in Java\n",
    "\n",
    "First, set the classpath with the right jar. This `jar` contains the statistical functions, system resolution and other goodies.\n",
    "\n",
    "This jar is built from the root of this repository, using the following command:\n",
    "```\n",
    "$ ../gradlew shadowJar --parallel\n",
    "```"
   ]
  },
  {
   "cell_type": "code",
   "execution_count": 1,
   "metadata": {},
   "outputs": [],
   "source": [
    "%classpath add jar \"../build/libs/Algebra-1.0-all.jar\""
   ]
  },
  {
   "cell_type": "code",
   "execution_count": 2,
   "metadata": {},
   "outputs": [],
   "source": [
    "// Verify if the classpath above is taken in account\n",
    "import primes.PGCD;\n",
    "import primes.PPCM;\n",
    "import primes.Primes;"
   ]
  },
  {
   "cell_type": "markdown",
   "metadata": {},
   "source": [
    "PGCD, test one:"
   ]
  },
  {
   "cell_type": "code",
   "execution_count": 3,
   "metadata": {},
   "outputs": [
    {
     "name": "stdout",
     "output_type": "stream",
     "text": [
      "PGCD of 60 and 36: 12\n",
      "$ 60 = (2^{2}) \\times (3^{1}) \\times (5^{1}) $\n",
      "$ 36 = (2^{2}) \\times (3^{2}) $\n",
      "$ 12 = (2^{2}) \\times (3^{1}) $\n"
     ]
    }
   ],
   "source": [
    "int n1 = 60, n2 = 36;\n",
    "int pgcd = PGCD.pgcd(n1, n2);\n",
    "System.out.printf(\"PGCD of %d and %d: %d\\n\", n1, n2, pgcd);\n",
    "System.out.println(Primes.spitMapOut(n1, Primes.primeFactors(n1), Primes.OutputOption.LATEX));\n",
    "System.out.println(Primes.spitMapOut(n2, Primes.primeFactors(n2), Primes.OutputOption.LATEX));\n",
    "System.out.println(Primes.spitMapOut(pgcd, Primes.primeFactors(pgcd), Primes.OutputOption.LATEX));"
   ]
  },
  {
   "cell_type": "markdown",
   "metadata": {},
   "source": [
    "PGCD, test two:"
   ]
  },
  {
   "cell_type": "code",
   "execution_count": 4,
   "metadata": {},
   "outputs": [
    {
     "name": "stdout",
     "output_type": "stream",
     "text": [
      "PGCD of 355 and 113: 1\n",
      "355 = (5^1) x (71^1)\n",
      "113 = (113^1)\n",
      "1 = \n"
     ]
    }
   ],
   "source": [
    "int n1 = 355, n2 = 113;\n",
    "int pgcd = PGCD.pgcd(n1, n2);\n",
    "System.out.printf(\"PGCD of %d and %d: %d\\n\", n1, n2, pgcd);\n",
    "System.out.println(Primes.spitMapOut(n1, Primes.primeFactors(n1)));\n",
    "System.out.println(Primes.spitMapOut(n2, Primes.primeFactors(n2)));\n",
    "System.out.println(Primes.spitMapOut(pgcd, Primes.primeFactors(pgcd)));"
   ]
  },
  {
   "cell_type": "markdown",
   "metadata": {},
   "source": [
    "PPCM, test one:"
   ]
  },
  {
   "cell_type": "code",
   "execution_count": 5,
   "metadata": {},
   "outputs": [
    {
     "name": "stdout",
     "output_type": "stream",
     "text": [
      "PPCM of 355 and 113: 40115\n",
      "355 = (5^1) x (71^1)\n",
      "113 = (113^1)\n",
      "40,115 = (113^1) x (5^1) x (71^1)\n"
     ]
    }
   ],
   "source": [
    "int n1 = 355, n2 = 113;\n",
    "int ppcm = PPCM.ppcm(n1, n2);\n",
    "System.out.printf(\"PPCM of %d and %d: %d\\n\", n1, n2, ppcm);\n",
    "System.out.println(Primes.spitMapOut(n1, Primes.primeFactors(n1)));\n",
    "System.out.println(Primes.spitMapOut(n2, Primes.primeFactors(n2)));\n",
    "System.out.println(Primes.spitMapOut(ppcm, Primes.primeFactors(ppcm)));"
   ]
  },
  {
   "cell_type": "markdown",
   "metadata": {},
   "source": [
    "PPCM, test two:"
   ]
  },
  {
   "cell_type": "code",
   "execution_count": 6,
   "metadata": {},
   "outputs": [
    {
     "name": "stdout",
     "output_type": "stream",
     "text": [
      "PPCM of 60 and 36: 180\n",
      "60 = (2^2) x (3^1) x (5^1)\n",
      "36 = (2^2) x (3^2)\n",
      "180 = (2^2) x (3^2) x (5^1)\n"
     ]
    }
   ],
   "source": [
    "int n1 = 60, n2 = 36;\n",
    "int ppcm = PPCM.ppcm(n1, n2);\n",
    "System.out.printf(\"PPCM of %d and %d: %d\\n\", n1, n2, ppcm);\n",
    "System.out.println(Primes.spitMapOut(n1, Primes.primeFactors(n1)));\n",
    "System.out.println(Primes.spitMapOut(n2, Primes.primeFactors(n2)));\n",
    "System.out.println(Primes.spitMapOut(ppcm, Primes.primeFactors(ppcm)));"
   ]
  },
  {
   "cell_type": "markdown",
   "metadata": {},
   "source": [
    "---"
   ]
  }
 ],
 "metadata": {
  "kernelspec": {
   "display_name": "Java",
   "language": "java",
   "name": "java"
  },
  "language_info": {
   "codemirror_mode": "java",
   "file_extension": ".jshell",
   "mimetype": "text/x-java-source",
   "name": "Java",
   "pygments_lexer": "java",
   "version": "11.0.8+10-LTS"
  }
 },
 "nbformat": 4,
 "nbformat_minor": 4
}
