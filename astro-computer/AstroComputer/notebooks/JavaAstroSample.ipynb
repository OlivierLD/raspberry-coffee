{
 "cells": [
  {
   "cell_type": "markdown",
   "metadata": {},
   "source": [
    "# Astro Computer\n",
    "### How to use it\n",
    "Examples illustrating the way to use it.\n",
    "\n",
    "Make sure you have built the project with `./gradlew shadowJar` from the root.\n",
    "To do so, modify the gradle script so it says\n",
    "```\n",
    "plugins {\n",
    "  ...\n",
    "  id 'com.github.johnrengelman.shadow' version '6.0.0' // Remove version if used in a git submodule.\n",
    "  ...\n",
    "}\n",
    "```"
   ]
  },
  {
   "cell_type": "code",
   "execution_count": 1,
   "metadata": {},
   "outputs": [],
   "source": [
    "List<String> added = %jars ../build/libs/astro.computer-1.0-all.jar"
   ]
  },
  {
   "cell_type": "markdown",
   "metadata": {},
   "source": [
    "Initialize the `AstroComputer` with a UTC Time.\n",
    "\n",
    "The `DeltaT` parameter can be provided s a System variable named `deltaT`.\n",
    "\n",
    "> Note: This can be set at runtime, from the command line, using `-DdeltaT=12.3456`"
   ]
  },
  {
   "cell_type": "code",
   "execution_count": 2,
   "metadata": {},
   "outputs": [
    {
     "name": "stdout",
     "output_type": "stream",
     "text": [
      "Default DeltaT is 66.474900\n"
     ]
    }
   ],
   "source": [
    "import calc.calculation.AstroComputer;\n",
    "import utils.TimeUtil;\n",
    "import java.text.SimpleDateFormat;\n",
    "\n",
    "\n",
    "SimpleDateFormat SDF_UTC = new SimpleDateFormat(\"yyyy-MM-dd HH:mm:ss 'UTC'\");\n",
    "SimpleDateFormat DURATION_FMT = new SimpleDateFormat(\"yyyy-MM-dd'T'HH:mm:ss\");\n",
    "\n",
    "SDF_UTC.setTimeZone(TimeZone.getTimeZone(\"Etc/UTC\"));\n",
    "DURATION_FMT.setTimeZone(TimeZone.getTimeZone(\"Etc/UTC\"));\n",
    "\n",
    "double deltaT = AstroComputer.getDeltaT();\n",
    "System.out.println(String.format(\"Default DeltaT is %f\", deltaT));"
   ]
  },
  {
   "cell_type": "markdown",
   "metadata": {},
   "source": [
    "For DeltaT, see [here](http://maia.usno.navy.mil/ser7/deltat.data). \n",
    "> _Note_: this site might be down... That is why we can re-calculate it."
   ]
  },
  {
   "cell_type": "code",
   "execution_count": 3,
   "metadata": {},
   "outputs": [
    {
     "name": "stdout",
     "output_type": "stream",
     "text": [
      "Recalculated DeltaT: 72.736496 seconds at 2022-01-04 11:26:08 UTC\n"
     ]
    }
   ],
   "source": [
    "System.setProperty(\"deltaT\", String.valueOf(69.2201)); //  01-Jan-2019\n",
    "\n",
    "Calendar date = Calendar.getInstance(TimeZone.getTimeZone(\"Etc/UTC\")); // Now\n",
    "\n",
    "// Recalculate DeltaT\n",
    "double deltaT = TimeUtil.getDeltaT(date.get(Calendar.YEAR), date.get(Calendar.MONTH) + 1);\n",
    "AstroComputer.setDeltaT(deltaT);\n",
    "deltaT = AstroComputer.getDeltaT();\n",
    "System.out.println(String.format(\"Recalculated DeltaT: %f seconds at %s\", deltaT, SDF_UTC.format(date.getTime())));\n",
    "\n",
    "AstroComputer.calculate(\n",
    "  date.get(Calendar.YEAR),\n",
    "  date.get(Calendar.MONTH) + 1,   // Yes, based on 1, in [1..12], not [0..11]\n",
    "  date.get(Calendar.DAY_OF_MONTH),\n",
    "  date.get(Calendar.HOUR_OF_DAY), // and not just HOUR !!!!\n",
    "  date.get(Calendar.MINUTE),\n",
    "  date.get(Calendar.SECOND));\n",
    "\n",
    "// SF Home, for further use\n",
    "double lat =   37.7489;\n",
    "double lng = -122.5070;"
   ]
  },
  {
   "cell_type": "markdown",
   "metadata": {},
   "source": [
    "Get the Sun Meridian Passage time, in **_decimal hours_**."
   ]
  },
  {
   "cell_type": "code",
   "execution_count": 4,
   "metadata": {},
   "outputs": [
    {
     "name": "stdout",
     "output_type": "stream",
     "text": [
      "Sun EoT in hours: 20.249098\n"
     ]
    }
   ],
   "source": [
    "double sunMeridianPassageTime = AstroComputer.getSunMeridianPassageTime(lat, lng);\n",
    "System.out.println(String.format(\"Sun EoT in hours: %f\", sunMeridianPassageTime));"
   ]
  },
  {
   "cell_type": "markdown",
   "metadata": {},
   "source": [
    "Get the Sun Transit Time (aka meridian passage time...) as an `epoch`."
   ]
  },
  {
   "cell_type": "code",
   "execution_count": 5,
   "metadata": {},
   "outputs": [
    {
     "name": "stdout",
     "output_type": "stream",
     "text": [
      "Transit Time:Tue Jan 04 21:14:56 CET 2022\n"
     ]
    }
   ],
   "source": [
    "long sunTransit = AstroComputer.getSunTransitTime(lat, lng);\n",
    "Date tt = new Date(sunTransit);\n",
    "System.out.println(\"Transit Time:\" + tt.toString());"
   ]
  },
  {
   "cell_type": "markdown",
   "metadata": {},
   "source": [
    "Sun rise and set, as `epoch` (the one to use):"
   ]
  },
  {
   "cell_type": "code",
   "execution_count": 6,
   "metadata": {},
   "outputs": [
    {
     "name": "stdout",
     "output_type": "stream",
     "text": [
      "\n",
      "With epochs\n",
      "Rise Date: Tue Jan 04 16:30:32 CET 2022 (Z:119.18º)\n",
      "Set Date : Wed Jan 05 01:59:53 CET 2022 (Z:240.88º)\n"
     ]
    }
   ],
   "source": [
    "AstroComputer.EpochAndZ[] epochAndZs = AstroComputer.sunRiseAndSetEpoch(lat, lng);\n",
    "\n",
    "System.out.println(\"\\nWith epochs\");\n",
    "System.out.println(String.format(\"Rise Date: %s (Z:%.02f\\272)\\nSet Date : %s (Z:%.02f\\272)\",\n",
    "  new Date(epochAndZs[0].getEpoch()).toString(),\n",
    "  epochAndZs[0].getZ(),\n",
    "  new Date(epochAndZs[1].getEpoch()).toString(),\n",
    "  epochAndZs[1].getZ()));"
   ]
  },
  {
   "cell_type": "code",
   "execution_count": null,
   "metadata": {},
   "outputs": [],
   "source": []
  }
 ],
 "metadata": {
  "kernelspec": {
   "display_name": "Java",
   "language": "java",
   "name": "java"
  },
  "language_info": {
   "codemirror_mode": "java",
   "file_extension": ".jshell",
   "mimetype": "text/x-java-source",
   "name": "Java",
   "pygments_lexer": "java",
   "version": "11.0.13+10-LTS-370"
  }
 },
 "nbformat": 4,
 "nbformat_minor": 2
}
