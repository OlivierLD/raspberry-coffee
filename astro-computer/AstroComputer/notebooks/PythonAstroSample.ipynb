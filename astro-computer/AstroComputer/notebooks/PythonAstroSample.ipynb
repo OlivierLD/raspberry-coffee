{
 "cells": [
  {
   "cell_type": "markdown",
   "metadata": {},
   "source": [
    "# How to use the Celestial Computer from Python\n",
    "First, setup the path for Python to find the required resources"
   ]
  },
  {
   "cell_type": "code",
   "execution_count": 1,
   "metadata": {},
   "outputs": [
    {
     "name": "stdout",
     "output_type": "stream",
     "text": [
      "Adding /Users/olivierlediouris/repos/AstroComputer/src/main/python to sys.path\n",
      "Adding /Users/olivierlediouris/repos/AstroComputer/src/main/python/celestial_almanac to sys.path\n"
     ]
    },
    {
     "data": {
      "text/plain": [
       "['mars.py',\n",
       " 'math_utils.py',\n",
       " 'long_term_almanac.py',\n",
       " '__init__.py',\n",
       " 'venus.py',\n",
       " 'jupiter.py',\n",
       " '__pycache__',\n",
       " 'saturn.py',\n",
       " 'earth.py']"
      ]
     },
     "execution_count": 1,
     "metadata": {},
     "output_type": "execute_result"
    }
   ],
   "source": [
    "import os, sys\n",
    "\n",
    "current_path = \".\"    # os.path.dirname(os.path.abspath(__file__))\n",
    "sys.path.append(current_path)\n",
    "python_location = os.path.abspath(os.path.join(\"../src/main/python\"))  # \"\n",
    "python_astro_location = os.path.abspath(os.path.join(\"../src/main/python/celestial_almanac\"))  # \"\n",
    "if python_location not in sys.path:\n",
    "    print(f\"Adding {python_location} to sys.path\")\n",
    "    sys.path.append(python_location)  # This is for long_term_almanac to find its dependencies...\n",
    "if python_astro_location not in sys.path:\n",
    "    print(f\"Adding {python_astro_location} to sys.path\")\n",
    "    sys.path.append(python_astro_location)  # This is for long_term_almanac to find its dependencies...\n",
    "\n",
    "# print(\"-----------------------------\")    \n",
    "# print(f\"sys.path:{sys.path}\")\n",
    "# print(\"-----------------------------\")    \n",
    "\n",
    "os.listdir(python_astro_location)"
   ]
  },
  {
   "cell_type": "code",
   "execution_count": 2,
   "metadata": {},
   "outputs": [],
   "source": [
    "from celestial_almanac.long_term_almanac import LongTermAlmanac as lta"
   ]
  },
  {
   "cell_type": "code",
   "execution_count": 3,
   "metadata": {},
   "outputs": [],
   "source": [
    "MONTHS = [\"Jan\", \"Feb\", \"Mar\", \"Apr\", \"May\", \"Jun\",\n",
    "          \"Jul\", \"Aug\", \"Sep\", \"Oct\", \"Nov\", \"Dec\"]"
   ]
  },
  {
   "cell_type": "markdown",
   "metadata": {},
   "source": [
    "Setup the date (UTC) for the calculation"
   ]
  },
  {
   "cell_type": "code",
   "execution_count": 4,
   "metadata": {},
   "outputs": [],
   "source": [
    "year = 2020\n",
    "month = 3   # 1: Jan, 2: Feb, 3: Mar, etc\n",
    "day = 28\n",
    "hour = 16\n",
    "minute = 50\n",
    "second = 20"
   ]
  },
  {
   "cell_type": "code",
   "execution_count": 5,
   "metadata": {},
   "outputs": [
    {
     "name": "stdout",
     "output_type": "stream",
     "text": [
      "Recalculated for [2020-Mar], DeltaT is 71.71293632812495 s\n"
     ]
    }
   ],
   "source": [
    "# Calculate DeltaT \n",
    "deltaT = lta.calculateDeltaT(year, month)\n",
    "print(\"Recalculated for [{}-{}], DeltaT is {} s\".format(year, MONTHS[month - 1], deltaT))"
   ]
  },
  {
   "cell_type": "markdown",
   "metadata": {},
   "source": [
    "And now, the real data"
   ]
  },
  {
   "cell_type": "code",
   "execution_count": 6,
   "metadata": {},
   "outputs": [],
   "source": [
    "# 2020-MAR-28 16:50:20 UTC\n",
    "lta.calculate(year, month, day, hour, minute, second, deltaT)"
   ]
  },
  {
   "cell_type": "markdown",
   "metadata": {},
   "source": [
    "Display the results:"
   ]
  },
  {
   "cell_type": "code",
   "execution_count": 7,
   "metadata": {},
   "outputs": [
    {
     "name": "stdout",
     "output_type": "stream",
     "text": [
      "----------------------------------------------\n",
      "Calculations done for 2020-Mar-28 16:50:20 UTC\n",
      "----------------------------------------------\n",
      "Sideral Time: 5h 16m 35.526s\n",
      "Sun: GHA 071° 21' 49\", RA 00h 31m 07.2s, DEC N  03° 21' 30\", sd 961.2\", hp 8.8\"\n",
      "Venus: GHA 027° 59' 22\", RA 03h 24m 37.0s, DEC N  22° 06' 49\", sd 12.4\", hp 12.9\"\n",
      "Mars: GHA 138° 18' 09\", RA 20h 03m 21.8s, DEC S  21° 20' 27\", sd 3.1\", hp 5.9\"\n",
      "Jupiter: GHA 143° 16' 28\", RA 19h 43m 28.6s, DEC S  21° 22' 02\", sd 18.3\", hp 1.6\"\n",
      "Saturn: GHA 136° 28' 07\", RA 20h 10m 42.0s, DEC S  20° 06' 17\", sd 8.0.0\", hp 0.8\"\n",
      "Moon: GHA 025° 09' 39\", RA 03h 35m 55.9s, DEC N  16° 11' 24\", sd 894.4\", hp 3282.3\"\n",
      "\tMoon phase 47.1 ->  +cre\n",
      "Polaris: GHA 035° 17' 02\", RA 02h 55m 26.3s, DEC N  89° 21' 02\"\n",
      "Ecliptic: obliquity 23° 26' 11.973\", true 23° 26' 12.013\"\n",
      "Equation of time - 4m 52.8s \n",
      "Lunar Distance: 047° 10' 04\"\n",
      "Day of Week: SAT\n",
      "Done with Python!\n"
     ]
    }
   ],
   "source": [
    "print(\"----------------------------------------------\")\n",
    "print(\"Calculations done for {}-{}-{:02d} {:02d}:{:02d}:{:02d} UTC\".format(year, MONTHS[month - 1], day, hour, minute, second))\n",
    "print(\"----------------------------------------------\")\n",
    "\n",
    "print(\"Sideral Time: {}\".format(lta.SidTm))\n",
    "\n",
    "# Sun\n",
    "fmtGHASun = lta.outHA(lta.GHASun)\n",
    "fmtRASun = lta.outRA(lta.RASun)\n",
    "fmtDECSun = lta.outDec(lta.DECSun)\n",
    "fmtSDSun = lta.outSdHp(lta.SDSun)\n",
    "fmtHPSun = lta.outSdHp(lta.HPSun)\n",
    "\n",
    "print(\"Sun: GHA {}, RA {}, DEC {}, sd {}, hp {}\".format(fmtGHASun, fmtRASun, fmtDECSun, fmtSDSun, fmtHPSun))\n",
    "\n",
    "# Venus\n",
    "fmtGHAVenus = lta.outHA(lta.GHAVenus)\n",
    "fmtRAVenus = lta.outRA(lta.RAVenus)\n",
    "fmtDECVenus = lta.outDec(lta.DECVenus)\n",
    "fmtSDVenus = lta.outSdHp(lta.SDVenus)\n",
    "fmtHPVenus = lta.outSdHp(lta.HPVenus)\n",
    "\n",
    "print(\"Venus: GHA {}, RA {}, DEC {}, sd {}, hp {}\".format(fmtGHAVenus, fmtRAVenus, fmtDECVenus, fmtSDVenus, fmtHPVenus))\n",
    "\n",
    "# Mars\n",
    "fmtGHAMars = lta.outHA(lta.GHAMars)\n",
    "fmtRAMars = lta.outRA(lta.RAMars)\n",
    "fmtDECMars = lta.outDec(lta.DECMars)\n",
    "fmtSDMars = lta.outSdHp(lta.SDMars)\n",
    "fmtHPMars = lta.outSdHp(lta.HPMars)\n",
    "\n",
    "print(\"Mars: GHA {}, RA {}, DEC {}, sd {}, hp {}\".format(fmtGHAMars, fmtRAMars, fmtDECMars, fmtSDMars, fmtHPMars))\n",
    "\n",
    "# Jupiter\n",
    "fmtGHAJupiter = lta.outHA(lta.GHAJupiter)\n",
    "fmtRAJupiter = lta.outRA(lta.RAJupiter)\n",
    "fmtDECJupiter = lta.outDec(lta.DECJupiter)\n",
    "fmtSDJupiter = lta.outSdHp(lta.SDJupiter)\n",
    "fmtHPJupiter = lta.outSdHp(lta.HPJupiter)\n",
    "\n",
    "print(\"Jupiter: GHA {}, RA {}, DEC {}, sd {}, hp {}\".format(fmtGHAJupiter, fmtRAJupiter, fmtDECJupiter, fmtSDJupiter, fmtHPJupiter))\n",
    "\n",
    "# Saturn\n",
    "fmtGHASaturn = lta.outHA(lta.GHASaturn)\n",
    "fmtRASaturn = lta.outRA(lta.RASaturn)\n",
    "fmtDECSaturn = lta.outDec(lta.DECSaturn)\n",
    "fmtSDSaturn = lta.outSdHp(lta.SDSaturn)\n",
    "fmtHPSaturn = lta.outSdHp(lta.HPSaturn)\n",
    "\n",
    "print(\"Saturn: GHA {}, RA {}, DEC {}, sd {}, hp {}\".format(fmtGHASaturn, fmtRASaturn, fmtDECSaturn, fmtSDSaturn, fmtHPSaturn))\n",
    "\n",
    "# Moon\n",
    "fmtGHAMoon = lta.outHA(lta.GHAMoon)\n",
    "fmtRAMoon = lta.outRA(lta.RAMoon)\n",
    "fmtDECMoon = lta.outDec(lta.DECMoon)\n",
    "fmtSDMoon = lta.outSdHp(lta.SDMoon)\n",
    "fmtHPMoon = lta.outSdHp(lta.HPMoon)\n",
    "\n",
    "print(\"Moon: GHA {}, RA {}, DEC {}, sd {}, hp {}\".format(fmtGHAMoon, fmtRAMoon, fmtDECMoon, fmtSDMoon, fmtHPMoon))\n",
    "print(\"\\tMoon phase {} -> {}\".format(lta.moonPhaseAngle, lta.moonPhase))\n",
    "\n",
    "# Polaris\n",
    "fmtGHAPolaris = lta.outHA(lta.GHAPol)\n",
    "fmtRAPolaris = lta.outRA(lta.RAPol)\n",
    "fmtDECPolaris = lta.outDec(lta.DECPol)\n",
    "\n",
    "print(\"Polaris: GHA {}, RA {}, DEC {}\".format(fmtGHAPolaris, fmtRAPolaris, fmtDECPolaris))\n",
    "\n",
    "# Obliquity of Ecliptic\n",
    "OoE = lta.outECL(lta.eps0)\n",
    "tOoE = lta.outECL(lta.eps)\n",
    "\n",
    "print(\"Ecliptic: obliquity {}, true {}\".format(OoE, tOoE))\n",
    "\n",
    "# Equation of time\n",
    "fmtEoT = lta.outEoT(lta.EoT)\n",
    "print(\"Equation of time {}\".format(fmtEoT))\n",
    "\n",
    "# Lunar Distance of Sun\n",
    "fmtLDist = lta.outHA(lta.LDist)\n",
    "print(\"Lunar Distance: {}\".format(fmtLDist))\n",
    "\n",
    "print(\"Day of Week: {}\".format(lta.DoW))\n",
    "print(\"Done with Python!\")"
   ]
  },
  {
   "cell_type": "markdown",
   "metadata": {},
   "source": [
    "---\n",
    "That's it!"
   ]
  },
  {
   "cell_type": "code",
   "execution_count": null,
   "metadata": {},
   "outputs": [],
   "source": []
  }
 ],
 "metadata": {
  "kernelspec": {
   "display_name": "Python 3",
   "language": "python",
   "name": "python3"
  },
  "language_info": {
   "codemirror_mode": {
    "name": "ipython",
    "version": 3
   },
   "file_extension": ".py",
   "mimetype": "text/x-python",
   "name": "python",
   "nbconvert_exporter": "python",
   "pygments_lexer": "ipython3",
   "version": "3.9.1"
  }
 },
 "nbformat": 4,
 "nbformat_minor": 4
}
