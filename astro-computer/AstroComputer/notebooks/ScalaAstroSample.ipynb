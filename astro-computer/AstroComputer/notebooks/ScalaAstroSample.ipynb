{
 "cells": [
  {
   "cell_type": "markdown",
   "id": "f1fabfaf",
   "metadata": {},
   "source": [
    "## AstroComputer sample in Scala"
   ]
  },
  {
   "cell_type": "markdown",
   "id": "2257b5d8",
   "metadata": {},
   "source": [
    "Add the required `jar-file` to your classpath. You must have run\n",
    "```\n",
    "$ ../../gradlew clean build\n",
    "```\n",
    "This one will generate the `/../build/libs/AstroComputer-1.0.jar`  \n",
    "or\n",
    "```\n",
    "$ ../../gradlew clean shadowJar\n",
    "```\n",
    "This one will generate the `/../build/libs/AstroComputer-1.0-all.jar`  \n",
    "For this last one, you need to tweak the shadowJar plugin definition.  \n",
    "To do so, modify the gradle script so it says\n",
    "```\n",
    "plugins {\n",
    "  ...\n",
    "  id 'com.github.johnrengelman.shadow' version '6.0.0' // Remove version if used in a gradle submodule.\n",
    "  ...\n",
    "}\n",
    "```"
   ]
  },
  {
   "cell_type": "code",
   "execution_count": 7,
   "id": "fc70bdaf",
   "metadata": {},
   "outputs": [
    {
     "name": "stdout",
     "output_type": "stream",
     "text": [
      "File exists: true\n",
      "ClassPath: List(file:/Users/olivierlediouris/repos/raspberry-coffee/astro-computer/AstroComputer/build/libs/AstroComputer-1.0.jar)\n",
      "ClassPath now: List(file:/Users/olivierlediouris/repos/raspberry-coffee/astro-computer/AstroComputer/build/libs/AstroComputer-1.0.jar, file:/Users/olivierlediouris/repos/raspberry-coffee/astro-computer/AstroComputer/build/libs/AstroComputer-1.0.jar)\n"
     ]
    },
    {
     "data": {
      "text/plain": [
       "\u001b[32mimport \u001b[39m\u001b[36mjava.io.File\n",
       "\n",
       "\u001b[39m\n",
       "\u001b[36mabsolutePath\u001b[39m: \u001b[32mString\u001b[39m = \u001b[32m\"/Users/olivierlediouris/repos/raspberry-coffee/astro-computer/AstroComputer/notebooks/../build/libs/AstroComputer-1.0.jar\"\u001b[39m\n",
       "\u001b[36mjarFile\u001b[39m: \u001b[32mFile\u001b[39m = /Users/olivierlediouris/repos/raspberry-coffee/astro-computer/AstroComputer/notebooks/../build/libs/AstroComputer-1.0.jar\n",
       "\u001b[36mcp\u001b[39m: \u001b[32mSeq\u001b[39m[\u001b[32mjava\u001b[39m.\u001b[32mnet\u001b[39m.\u001b[32mURL\u001b[39m] = \u001b[33mList\u001b[39m(\n",
       "  file:/Users/olivierlediouris/repos/raspberry-coffee/astro-computer/AstroComputer/build/libs/AstroComputer-1.0.jar,\n",
       "  file:/Users/olivierlediouris/repos/raspberry-coffee/astro-computer/AstroComputer/build/libs/AstroComputer-1.0.jar\n",
       ")"
      ]
     },
     "execution_count": 7,
     "metadata": {},
     "output_type": "execute_result"
    }
   ],
   "source": [
    "import java.io.File\n",
    "\n",
    "val absolutePath = os.pwd + \"/../build/libs/AstroComputer-1.0.jar\" // Depends on which file you've generated with Gradle, above.\n",
    "val jarFile = new File(absolutePath)\n",
    "println(s\"File exists: ${jarFile.exists()}\")\n",
    "var cp = repl.sess.frames.head.classpath;\n",
    "println(s\"ClassPath: ${cp}\")\n",
    "\n",
    "// val path = ammonite.ops.Path(absolutePath)\n",
    "// interp.load.cp(path)\n",
    "\n",
    "interp.load.cp(os.Path(absolutePath))\n",
    "cp = repl.sess.frames.head.classpath;\n",
    "println(s\"ClassPath now: ${cp}\")\n"
   ]
  },
  {
   "cell_type": "markdown",
   "id": "743496ce",
   "metadata": {},
   "source": [
    "Now we can get started.  \n",
    "First, `imports`:"
   ]
  },
  {
   "cell_type": "code",
   "execution_count": 8,
   "id": "c1bf567c",
   "metadata": {},
   "outputs": [
    {
     "data": {
      "text/plain": [
       "\u001b[32mimport \u001b[39m\u001b[36mjava.text.SimpleDateFormat\n",
       "\u001b[39m\n",
       "\u001b[32mimport \u001b[39m\u001b[36mjava.util.{Calendar, TimeZone}\n",
       "\u001b[39m\n",
       "\u001b[32mimport \u001b[39m\u001b[36mastro.celestial.LongTermAlmanac\n",
       "\u001b[39m\n",
       "\u001b[32mimport \u001b[39m\u001b[36mastro.utils.MiscUtils.{decToSex, lpad, renderEoT, renderRA, renderSdHp}\n",
       "\u001b[39m\n",
       "\u001b[32mimport \u001b[39m\u001b[36mastro.utils.{MiscUtils, TimeUtils}\n",
       "\u001b[39m\n",
       "\u001b[32mimport \u001b[39m\u001b[36mastro.celestial.Core.{moonPhase, weekDay}\u001b[39m"
      ]
     },
     "execution_count": 8,
     "metadata": {},
     "output_type": "execute_result"
    }
   ],
   "source": [
    "import java.text.SimpleDateFormat\n",
    "import java.util.{Calendar, TimeZone}\n",
    "import astro.celestial.LongTermAlmanac\n",
    "import astro.utils.MiscUtils.{decToSex, lpad, renderEoT, renderRA, renderSdHp}\n",
    "import astro.utils.{MiscUtils, TimeUtils}\n",
    "import astro.celestial.Core.{moonPhase, weekDay}"
   ]
  },
  {
   "cell_type": "markdown",
   "id": "2d9ae537",
   "metadata": {},
   "source": [
    "Date masks settings:"
   ]
  },
  {
   "cell_type": "code",
   "execution_count": 9,
   "id": "995bc508",
   "metadata": {},
   "outputs": [
    {
     "data": {
      "text/plain": [
       "\u001b[36mSDF_UTC\u001b[39m: \u001b[32mSimpleDateFormat\u001b[39m = java.text.SimpleDateFormat@658bc94a"
      ]
     },
     "execution_count": 9,
     "metadata": {},
     "output_type": "execute_result"
    }
   ],
   "source": [
    "val SDF_UTC = new SimpleDateFormat(\"yyyy-MM-dd HH:mm:ss 'UTC'\")\n",
    "SDF_UTC.setTimeZone(TimeZone.getTimeZone(\"Etc/UTC\"))"
   ]
  },
  {
   "cell_type": "markdown",
   "id": "dd56c226",
   "metadata": {},
   "source": [
    "Now for real, set the date to March 28, 2020 at 16:50:20 UTC:"
   ]
  },
  {
   "cell_type": "code",
   "execution_count": 10,
   "id": "3a2ba08f",
   "metadata": {},
   "outputs": [
    {
     "name": "stdout",
     "output_type": "stream",
     "text": [
      "Calculations for 2020-03-28 16:50:20 UTC\n"
     ]
    },
    {
     "data": {
      "text/plain": [
       "\u001b[36mdate\u001b[39m: \u001b[32mCalendar\u001b[39m = java.util.GregorianCalendar[time=1585414220000,areFieldsSet=true,areAllFieldsSet=false,lenient=true,zone=sun.util.calendar.ZoneInfo[id=\"Etc/UTC\",offset=0,dstSavings=0,useDaylight=false,transitions=0,lastRule=null],firstDayOfWeek=1,minimalDaysInFirstWeek=1,ERA=1,YEAR=2020,MONTH=2,WEEK_OF_YEAR=13,WEEK_OF_MONTH=4,DAY_OF_MONTH=28,DAY_OF_YEAR=88,DAY_OF_WEEK=7,DAY_OF_WEEK_IN_MONTH=4,AM_PM=1,HOUR=4,HOUR_OF_DAY=16,MINUTE=50,SECOND=20,MILLISECOND=0,ZONE_OFFSET=0,DST_OFFSET=0]"
      ]
     },
     "execution_count": 10,
     "metadata": {},
     "output_type": "execute_result"
    }
   ],
   "source": [
    "val date = Calendar.getInstance(TimeZone.getTimeZone(\"Etc/UTC\")) // Now\n",
    "date.set(Calendar.YEAR, 2020)\n",
    "date.set(Calendar.MONTH, Calendar.MARCH)\n",
    "date.set(Calendar.DAY_OF_MONTH, 28)\n",
    "date.set(Calendar.HOUR_OF_DAY, 16) // and not just Calendar.HOUR !!!!\n",
    "date.set(Calendar.MINUTE, 50)\n",
    "date.set(Calendar.SECOND, 20)\n",
    "date.set(Calendar.MILLISECOND, 0)\n",
    "\n",
    "println(String.format(\"Calculations for %s\", SDF_UTC.format(date.getTime)))\n"
   ]
  },
  {
   "cell_type": "markdown",
   "id": "277187af",
   "metadata": {},
   "source": [
    "Date is set, we trigger the calculation (with dynamic DeltaT)"
   ]
  },
  {
   "cell_type": "code",
   "execution_count": 11,
   "id": "dd2a4805",
   "metadata": {},
   "outputs": [
    {
     "name": "stdout",
     "output_type": "stream",
     "text": [
      "New deltaT: 71.71293632812495\n"
     ]
    },
    {
     "data": {
      "text/plain": [
       "\u001b[36mbefore\u001b[39m: \u001b[32mLong\u001b[39m = \u001b[32m1660206614213L\u001b[39m\n",
       "\u001b[36mdeltaT\u001b[39m: \u001b[32mDouble\u001b[39m = \u001b[32m71.71293632812495\u001b[39m\n",
       "\u001b[36mresult\u001b[39m: \u001b[32mastro\u001b[39m.\u001b[32mcelestial\u001b[39m.\u001b[32mAstroContext\u001b[39m = astro.celestial.AstroContext@706f967f\n",
       "\u001b[36mafter\u001b[39m: \u001b[32mLong\u001b[39m = \u001b[32m1660206614217L\u001b[39m"
      ]
     },
     "execution_count": 11,
     "metadata": {},
     "output_type": "execute_result"
    }
   ],
   "source": [
    "// Take time here, JVM is loaded, etc...\n",
    "val before = System.currentTimeMillis\n",
    "// Recalculate\n",
    "val deltaT = TimeUtils.getDeltaT(date.get(Calendar.YEAR), date.get(Calendar.MONTH) + 1)\n",
    "println(s\"New deltaT: $deltaT\")\n",
    "// All calculations here\n",
    "val result = LongTermAlmanac.calculate(\n",
    "  date.get(Calendar.YEAR),\n",
    "  date.get(Calendar.MONTH) + 1, // Yes, +1. Jan: 1, Dec: 12.\n",
    "  date.get(Calendar.DAY_OF_MONTH),\n",
    "  date.get(Calendar.HOUR_OF_DAY),\n",
    "  date.get(Calendar.MINUTE),\n",
    "  date.get(Calendar.SECOND),\n",
    "  deltaT)\n",
    "val after = System.currentTimeMillis\n",
    "// Done with calculations, ready for display"
   ]
  },
  {
   "cell_type": "markdown",
   "id": "176bb59c",
   "metadata": {},
   "source": [
    "Done. Now, display results."
   ]
  },
  {
   "cell_type": "code",
   "execution_count": 12,
   "id": "3f99fe68",
   "metadata": {},
   "outputs": [
    {
     "name": "stdout",
     "output_type": "stream",
     "text": [
      "Calculations done for 2020-03-28 16:50:20 UTC, in 4 ms <<<\n",
      "Sun:\t Decl:  3°21.51'N, GHA:   71°21.81', RA: 00h 31m 07.00s, SD: 16'01.22“, HP:    08.81“\n",
      "Moon:\t Decl: 16°11.40'N, GHA:   25°09.65', RA: 03h 35m 56.00s, SD: 14'54.36“, HP: 54'42.28“\n",
      "Venus:\t Decl: 22°06.81'N, GHA:   27°59.36', RA: 03h 24m 37.00s, SD:    12.38“, HP:    12.94“\n",
      "Mars:\t Decl: 21°20.44'S, GHA:   27°59.36', RA: 20h 03m 22.00s, SD:    03.15“, HP:    05.91“\n",
      "Jupiter:\t Decl: 21°22.04'S, GHA:  143°16.47', RA: 19h 43m 29.00s, SD:    18.32“, HP:    01.64“\n",
      "Saturn:\t Decl: 20°06.29'S, GHA:  136°28.12', RA: 20h 10m 42.00s, SD:    07.99“, HP:    00.85“\n",
      "\n",
      "Polaris:\t Decl: 89°21.04'N, GHA:   35°17.04', RA: 02h 55m 26.00s \n",
      "Equation of Time: - 04m 60.0s\n",
      "Lunar Distance:  47°10.07'\n",
      "Moon Phase:  +cre\n",
      "Day of Week: SAT\n",
      "\n",
      "Done with Scala!\n"
     ]
    }
   ],
   "source": [
    "println(s\"Calculations done for ${SDF_UTC.format(date.getTime)}, in ${after - before} ms <<<\")\n",
    "println(s\"Sun:\\t Decl: ${lpad(decToSex(result.DECsun, MiscUtils.SWING, MiscUtils.NS), 10, \" \")}, \" +\n",
    "  s\"GHA: ${lpad(decToSex(result.GHAsun, MiscUtils.SWING, MiscUtils.NONE), 11, \" \")}, \" +\n",
    "  s\"RA: ${renderRA(result.RAsun)}, \" +\n",
    "  s\"SD: ${lpad(renderSdHp(result.SDsun), 9, \" \")}, \" +\n",
    "  s\"HP: ${lpad(renderSdHp(result.HPsun), 9, \" \")}\")\n",
    "println(s\"Moon:\\t Decl: ${lpad(decToSex(result.DECmoon, MiscUtils.SWING, MiscUtils.NS), 10, \" \")}, \" +\n",
    "  s\"GHA: ${lpad(decToSex(result.GHAmoon, MiscUtils.SWING, MiscUtils.NONE), 11, \" \")}, \" +\n",
    "  s\"RA: ${renderRA(result.RAmoon)}, \" +\n",
    "  s\"SD: ${lpad(renderSdHp(result.SDmoon), 9, \" \")}, \" +\n",
    "  s\"HP: ${lpad(renderSdHp(result.HPmoon), 9, \" \")}\")\n",
    "println(s\"Venus:\\t Decl: ${lpad(decToSex(result.DECvenus, MiscUtils.SWING, MiscUtils.NS), 10, \" \")}, \" +\n",
    "  s\"GHA: ${lpad(decToSex(result.GHAvenus, MiscUtils.SWING, MiscUtils.NONE), 11, \" \")}, \" +\n",
    "  s\"RA: ${renderRA(result.RAvenus)}, \" +\n",
    "  s\"SD: ${lpad(renderSdHp(result.SDvenus), 9, \" \")}, \" +\n",
    "  s\"HP: ${lpad(renderSdHp(result.HPvenus), 9, \" \")}\")\n",
    "println(s\"Mars:\\t Decl: ${lpad(decToSex(result.DECmars, MiscUtils.SWING, MiscUtils.NS), 10, \" \")}, \" +\n",
    "  s\"GHA: ${lpad(decToSex(result.GHAvenus, MiscUtils.SWING, MiscUtils.NONE), 11, \" \")}, \" +\n",
    "  s\"RA: ${renderRA(result.RAmars)}, \" +\n",
    "  s\"SD: ${lpad(renderSdHp(result.SDmars), 9, \" \")}, \" +\n",
    "  s\"HP: ${lpad(renderSdHp(result.HPmars), 9, \" \")}\")\n",
    "println(s\"Jupiter:\\t Decl: ${lpad(decToSex(result.DECjupiter, MiscUtils.SWING, MiscUtils.NS), 10, \" \")}, \" +\n",
    "  s\"GHA: ${lpad(decToSex(result.GHAjupiter, MiscUtils.SWING, MiscUtils.NONE), 11, \" \")}, \" +\n",
    "  s\"RA: ${renderRA(result.RAjupiter)}, \" +\n",
    "  s\"SD: ${lpad(renderSdHp(result.SDjupiter), 9, \" \")}, \" +\n",
    "  s\"HP: ${lpad(renderSdHp(result.HPjupiter), 9, \" \")}\")\n",
    "println(s\"Saturn:\\t Decl: ${lpad(decToSex(result.DECsaturn, MiscUtils.SWING, MiscUtils.NS), 10, \" \")}, \" +\n",
    "  s\"GHA: ${lpad(decToSex(result.GHAsaturn, MiscUtils.SWING, MiscUtils.NONE), 11, \" \")}, \" +\n",
    "  s\"RA: ${renderRA(result.RAsaturn)}, \" +\n",
    "  s\"SD: ${lpad(renderSdHp(result.SDsaturn), 9, \" \")}, \" +\n",
    "  s\"HP: ${lpad(renderSdHp(result.HPsaturn), 9, \" \")}\")\n",
    "println(\"\")\n",
    "println(s\"Polaris:\\t Decl: ${lpad(decToSex(result.DECpol, MiscUtils.SWING, MiscUtils.NS), 10, \" \")}, \" +\n",
    "  s\"GHA: ${lpad(decToSex(result.GHApol, MiscUtils.SWING, MiscUtils.NONE), 11, \" \")}, \" +\n",
    "  s\"RA: ${renderRA(result.RApol)} \")\n",
    "println(s\"Equation of Time: ${renderEoT(result.EoT)}\")\n",
    "println(s\"Lunar Distance: ${lpad(decToSex(result.LDist, MiscUtils.SWING, MiscUtils.NONE), 10, \" \")}\")\n",
    "println(s\"Moon Phase: ${moonPhase(result)}\")\n",
    "println(s\"Day of Week: ${LongTermAlmanac.WEEK_DAYS(weekDay(result))}\")\n",
    "println\n",
    "println(\"Done with Scala!\")\n"
   ]
  },
  {
   "cell_type": "code",
   "execution_count": null,
   "id": "2ca7921c",
   "metadata": {},
   "outputs": [],
   "source": []
  }
 ],
 "metadata": {
  "kernelspec": {
   "display_name": "Scala",
   "language": "scala",
   "name": "scala"
  },
  "language_info": {
   "codemirror_mode": "text/x-scala",
   "file_extension": ".sc",
   "mimetype": "text/x-scala",
   "name": "scala",
   "nbconvert_exporter": "script",
   "version": "2.13.3"
  }
 },
 "nbformat": 4,
 "nbformat_minor": 5
}
